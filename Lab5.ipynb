{
  "nbformat": 4,
  "nbformat_minor": 0,
  "metadata": {
    "colab": {
      "name": "Lab5_CE_11_Ekta_Chaudhary.ipynb",
      "provenance": [],
      "collapsed_sections": []
    },
    "kernelspec": {
      "name": "python3",
      "display_name": "Python 3"
    }
  },
  "cells": [
    {
      "cell_type": "code",
      "metadata": {
        "id": "LzGrUD-8jcVL",
        "colab_type": "code",
        "colab": {
          "base_uri": "https://localhost:8080/",
          "height": 68
        },
        "outputId": "eeb80127-1602-4068-8fd2-a228807f727c"
      },
      "source": [
        "import nltk\n",
        "nltk.download('punkt')"
      ],
      "execution_count": 9,
      "outputs": [
        {
          "output_type": "stream",
          "text": [
            "[nltk_data] Downloading package punkt to /root/nltk_data...\n",
            "[nltk_data]   Package punkt is already up-to-date!\n"
          ],
          "name": "stdout"
        },
        {
          "output_type": "execute_result",
          "data": {
            "text/plain": [
              "True"
            ]
          },
          "metadata": {
            "tags": []
          },
          "execution_count": 9
        }
      ]
    },
    {
      "cell_type": "code",
      "metadata": {
        "id": "DYzVM3Iqk1-c",
        "colab_type": "code",
        "colab": {
          "base_uri": "https://localhost:8080/",
          "height": 85
        },
        "outputId": "709ad90f-eadb-40ce-e07b-24de52e10954"
      },
      "source": [
        "nltk.download('averaged_perceptron_tagger')"
      ],
      "execution_count": 12,
      "outputs": [
        {
          "output_type": "stream",
          "text": [
            "[nltk_data] Downloading package averaged_perceptron_tagger to\n",
            "[nltk_data]     /root/nltk_data...\n",
            "[nltk_data]   Unzipping taggers/averaged_perceptron_tagger.zip.\n"
          ],
          "name": "stdout"
        },
        {
          "output_type": "execute_result",
          "data": {
            "text/plain": [
              "True"
            ]
          },
          "metadata": {
            "tags": []
          },
          "execution_count": 12
        }
      ]
    },
    {
      "cell_type": "code",
      "metadata": {
        "id": "jMKSiQgZj_uQ",
        "colab_type": "code",
        "colab": {}
      },
      "source": [
        "from nltk import word_tokenize"
      ],
      "execution_count": 13,
      "outputs": []
    },
    {
      "cell_type": "code",
      "metadata": {
        "id": "1TEsXpwSjrEL",
        "colab_type": "code",
        "colab": {
          "base_uri": "https://localhost:8080/",
          "height": 119
        },
        "outputId": "54c7bb1e-d832-4b53-de35-84e0c8fb505e"
      },
      "source": [
        "text = word_tokenize(\"And now for something completely different\")\n",
        "nltk.pos_tag(text)"
      ],
      "execution_count": 14,
      "outputs": [
        {
          "output_type": "execute_result",
          "data": {
            "text/plain": [
              "[('And', 'CC'),\n",
              " ('now', 'RB'),\n",
              " ('for', 'IN'),\n",
              " ('something', 'NN'),\n",
              " ('completely', 'RB'),\n",
              " ('different', 'JJ')]"
            ]
          },
          "metadata": {
            "tags": []
          },
          "execution_count": 14
        }
      ]
    },
    {
      "cell_type": "code",
      "metadata": {
        "id": "EwZa_9Paj19Q",
        "colab_type": "code",
        "colab": {
          "base_uri": "https://localhost:8080/",
          "height": 187
        },
        "outputId": "f2a493fb-2f01-468c-d80f-e28126b43072"
      },
      "source": [
        "text = word_tokenize(\"They refuse to permit us to obtain the refuse permit\")\n",
        "nltk.pos_tag(text)"
      ],
      "execution_count": 15,
      "outputs": [
        {
          "output_type": "execute_result",
          "data": {
            "text/plain": [
              "[('They', 'PRP'),\n",
              " ('refuse', 'VBP'),\n",
              " ('to', 'TO'),\n",
              " ('permit', 'VB'),\n",
              " ('us', 'PRP'),\n",
              " ('to', 'TO'),\n",
              " ('obtain', 'VB'),\n",
              " ('the', 'DT'),\n",
              " ('refuse', 'NN'),\n",
              " ('permit', 'NN')]"
            ]
          },
          "metadata": {
            "tags": []
          },
          "execution_count": 15
        }
      ]
    },
    {
      "cell_type": "code",
      "metadata": {
        "id": "NaTYeQolk7OT",
        "colab_type": "code",
        "colab": {
          "base_uri": "https://localhost:8080/",
          "height": 85
        },
        "outputId": "91527b72-dd6a-4516-ce84-a48942c8a3be"
      },
      "source": [
        " nltk.download('brown')\n",
        "text = nltk.Text(word.lower() for word in nltk.corpus.brown.words())\n",
        "text.similar('woman')"
      ],
      "execution_count": 18,
      "outputs": [
        {
          "output_type": "stream",
          "text": [
            "[nltk_data] Downloading package brown to /root/nltk_data...\n",
            "[nltk_data]   Unzipping corpora/brown.zip.\n",
            "man time day year car moment world house family child country boy\n",
            "state job place way war girl work word\n"
          ],
          "name": "stdout"
        }
      ]
    },
    {
      "cell_type": "code",
      "metadata": {
        "id": "-cJyteuek-2B",
        "colab_type": "code",
        "colab": {
          "base_uri": "https://localhost:8080/",
          "height": 119
        },
        "outputId": "9423d1d9-786f-4aeb-9de0-702a51183746"
      },
      "source": [
        "text.similar('bought')\n",
        "text.similar('over')\n",
        "text.similar('the')"
      ],
      "execution_count": 19,
      "outputs": [
        {
          "output_type": "stream",
          "text": [
            "made said done put had seen found given left heard was been brought\n",
            "set got that took in told felt\n",
            "in on to of and for with from at by that into as up out down through\n",
            "is all about\n",
            "a his this their its her an that our any all one these my in your no\n",
            "some other and\n"
          ],
          "name": "stdout"
        }
      ]
    },
    {
      "cell_type": "code",
      "metadata": {
        "id": "L1WBzNxJk_O9",
        "colab_type": "code",
        "colab": {
          "base_uri": "https://localhost:8080/",
          "height": 34
        },
        "outputId": "46305cfb-d826-431b-cb50-2ea48e0093df"
      },
      "source": [
        "tagged_token = nltk.tag.str2tuple('fly/NN')\n",
        "tagged_token"
      ],
      "execution_count": 20,
      "outputs": [
        {
          "output_type": "execute_result",
          "data": {
            "text/plain": [
              "('fly', 'NN')"
            ]
          },
          "metadata": {
            "tags": []
          },
          "execution_count": 20
        }
      ]
    },
    {
      "cell_type": "code",
      "metadata": {
        "id": "BJdIW065lKx0",
        "colab_type": "code",
        "colab": {
          "base_uri": "https://localhost:8080/",
          "height": 68
        },
        "outputId": "2594bd7c-e22f-4888-87e8-44797fdc600f"
      },
      "source": [
        " nltk.download('universal_tagset')\n",
        " nltk.corpus.brown.tagged_words()\n",
        " nltk.corpus.brown.tagged_words(tagset='universal')"
      ],
      "execution_count": 22,
      "outputs": [
        {
          "output_type": "stream",
          "text": [
            "[nltk_data] Downloading package universal_tagset to /root/nltk_data...\n",
            "[nltk_data]   Unzipping taggers/universal_tagset.zip.\n"
          ],
          "name": "stdout"
        },
        {
          "output_type": "execute_result",
          "data": {
            "text/plain": [
              "[('The', 'DET'), ('Fulton', 'NOUN'), ...]"
            ]
          },
          "metadata": {
            "tags": []
          },
          "execution_count": 22
        }
      ]
    },
    {
      "cell_type": "code",
      "metadata": {
        "id": "Wj0XEJHllS2q",
        "colab_type": "code",
        "colab": {
          "base_uri": "https://localhost:8080/",
          "height": 153
        },
        "outputId": "c99d8628-7dec-4517-903b-158015b8a937"
      },
      "source": [
        "nltk.download('nps_chat')\n",
        "nltk.download('conll2000')\n",
        "nltk.download('treebank')\n",
        "print(nltk.corpus.nps_chat.tagged_words())\n",
        "nltk.corpus.conll2000.tagged_words()\n",
        "nltk.corpus.treebank.tagged_words()"
      ],
      "execution_count": 27,
      "outputs": [
        {
          "output_type": "stream",
          "text": [
            "[nltk_data] Downloading package nps_chat to /root/nltk_data...\n",
            "[nltk_data]   Package nps_chat is already up-to-date!\n",
            "[nltk_data] Downloading package conll2000 to /root/nltk_data...\n",
            "[nltk_data]   Package conll2000 is already up-to-date!\n",
            "[nltk_data] Downloading package treebank to /root/nltk_data...\n",
            "[nltk_data]   Unzipping corpora/treebank.zip.\n",
            "[('now', 'RB'), ('im', 'PRP'), ('left', 'VBD'), ...]\n"
          ],
          "name": "stdout"
        },
        {
          "output_type": "execute_result",
          "data": {
            "text/plain": [
              "[('Pierre', 'NNP'), ('Vinken', 'NNP'), (',', ','), ...]"
            ]
          },
          "metadata": {
            "tags": []
          },
          "execution_count": 27
        }
      ]
    },
    {
      "cell_type": "code",
      "metadata": {
        "id": "DffLhB1LlbIS",
        "colab_type": "code",
        "colab": {
          "base_uri": "https://localhost:8080/",
          "height": 34
        },
        "outputId": "301ef11c-ae79-46a9-99a8-4e190b3939e9"
      },
      "source": [
        "nltk.corpus.brown.tagged_words(tagset='universal')\n",
        "nltk.corpus.treebank.tagged_words(tagset='universal')"
      ],
      "execution_count": 28,
      "outputs": [
        {
          "output_type": "execute_result",
          "data": {
            "text/plain": [
              "[('Pierre', 'NOUN'), ('Vinken', 'NOUN'), (',', '.'), ...]"
            ]
          },
          "metadata": {
            "tags": []
          },
          "execution_count": 28
        }
      ]
    },
    {
      "cell_type": "code",
      "metadata": {
        "id": "4v5XONgZlrj0",
        "colab_type": "code",
        "colab": {
          "base_uri": "https://localhost:8080/",
          "height": 68
        },
        "outputId": "ec441516-f94a-4121-9522-37668f9998e7"
      },
      "source": [
        "nltk.download('sinica_treebank')\n",
        "nltk.corpus.sinica_treebank.tagged_words()"
      ],
      "execution_count": 31,
      "outputs": [
        {
          "output_type": "stream",
          "text": [
            "[nltk_data] Downloading package sinica_treebank to /root/nltk_data...\n",
            "[nltk_data]   Unzipping corpora/sinica_treebank.zip.\n"
          ],
          "name": "stdout"
        },
        {
          "output_type": "execute_result",
          "data": {
            "text/plain": [
              "[('一', 'Neu'), ('友情', 'Nad'), ('嘉珍', 'Nba'), ...]"
            ]
          },
          "metadata": {
            "tags": []
          },
          "execution_count": 31
        }
      ]
    },
    {
      "cell_type": "code",
      "metadata": {
        "id": "M9WBScvslth9",
        "colab_type": "code",
        "colab": {
          "base_uri": "https://localhost:8080/",
          "height": 68
        },
        "outputId": "3ed68952-46a4-4ab5-ae48-35430731c484"
      },
      "source": [
        "nltk.download('indian')\n",
        "nltk.corpus.indian.tagged_words()"
      ],
      "execution_count": 32,
      "outputs": [
        {
          "output_type": "stream",
          "text": [
            "[nltk_data] Downloading package indian to /root/nltk_data...\n",
            "[nltk_data]   Unzipping corpora/indian.zip.\n"
          ],
          "name": "stdout"
        },
        {
          "output_type": "execute_result",
          "data": {
            "text/plain": [
              "[('মহিষের', 'NN'), ('সন্তান', 'NN'), (':', 'SYM'), ...]"
            ]
          },
          "metadata": {
            "tags": []
          },
          "execution_count": 32
        }
      ]
    },
    {
      "cell_type": "code",
      "metadata": {
        "id": "6RTW3Z2Alvhe",
        "colab_type": "code",
        "colab": {
          "base_uri": "https://localhost:8080/",
          "height": 68
        },
        "outputId": "e9e72ac5-2e16-414f-b68c-559c4210cffc"
      },
      "source": [
        "nltk.download('conll2002')\n",
        "nltk.corpus.conll2002.tagged_words()"
      ],
      "execution_count": 34,
      "outputs": [
        {
          "output_type": "stream",
          "text": [
            "[nltk_data] Downloading package conll2002 to /root/nltk_data...\n",
            "[nltk_data]   Unzipping corpora/conll2002.zip.\n"
          ],
          "name": "stdout"
        },
        {
          "output_type": "execute_result",
          "data": {
            "text/plain": [
              "[('Sao', 'NC'), ('Paulo', 'VMI'), ('(', 'Fpa'), ...]"
            ]
          },
          "metadata": {
            "tags": []
          },
          "execution_count": 34
        }
      ]
    },
    {
      "cell_type": "code",
      "metadata": {
        "id": "-A5q7L2xl47H",
        "colab_type": "code",
        "colab": {
          "base_uri": "https://localhost:8080/",
          "height": 221
        },
        "outputId": "ec6e026d-76df-48d3-e09c-690b8a53f79e"
      },
      "source": [
        "from nltk.corpus import brown\n",
        "brown_news_tagged = brown.tagged_words(categories='news', tagset='universal')\n",
        "tag_fd = nltk.FreqDist(tag for (word, tag) in brown_news_tagged)\n",
        "tag_fd.most_common()"
      ],
      "execution_count": 35,
      "outputs": [
        {
          "output_type": "execute_result",
          "data": {
            "text/plain": [
              "[('NOUN', 30654),\n",
              " ('VERB', 14399),\n",
              " ('ADP', 12355),\n",
              " ('.', 11928),\n",
              " ('DET', 11389),\n",
              " ('ADJ', 6706),\n",
              " ('ADV', 3349),\n",
              " ('CONJ', 2717),\n",
              " ('PRON', 2535),\n",
              " ('PRT', 2264),\n",
              " ('NUM', 2166),\n",
              " ('X', 92)]"
            ]
          },
          "metadata": {
            "tags": []
          },
          "execution_count": 35
        }
      ]
    },
    {
      "cell_type": "code",
      "metadata": {
        "id": "me-035mqmAK7",
        "colab_type": "code",
        "colab": {
          "base_uri": "https://localhost:8080/",
          "height": 221
        },
        "outputId": "fbe1963b-4184-48d4-b9f9-2b169a34925a"
      },
      "source": [
        "word_tag_pairs = nltk.bigrams(brown_news_tagged)\n",
        "noun_preceders = [a[1] for (a, b) in word_tag_pairs if b[1] == 'NOUN']\n",
        "fdist = nltk.FreqDist(noun_preceders)\n",
        "[tag for (tag, _) in fdist.most_common()]"
      ],
      "execution_count": 36,
      "outputs": [
        {
          "output_type": "execute_result",
          "data": {
            "text/plain": [
              "['NOUN',\n",
              " 'DET',\n",
              " 'ADJ',\n",
              " 'ADP',\n",
              " '.',\n",
              " 'VERB',\n",
              " 'CONJ',\n",
              " 'NUM',\n",
              " 'ADV',\n",
              " 'PRT',\n",
              " 'PRON',\n",
              " 'X']"
            ]
          },
          "metadata": {
            "tags": []
          },
          "execution_count": 36
        }
      ]
    },
    {
      "cell_type": "code",
      "metadata": {
        "id": "XGnDf2nFmEmd",
        "colab_type": "code",
        "colab": {
          "base_uri": "https://localhost:8080/",
          "height": 1000
        },
        "outputId": "af8ebf9e-6e24-4911-da8a-989c522e9210"
      },
      "source": [
        "wsj = nltk.corpus.treebank.tagged_words(tagset='universal')\n",
        "word_tag_fd = nltk.FreqDist(wsj)\n",
        "[wt[0] for (wt, _) in word_tag_fd.most_common() if wt[1] == 'VERB']"
      ],
      "execution_count": 37,
      "outputs": [
        {
          "output_type": "execute_result",
          "data": {
            "text/plain": [
              "['is',\n",
              " 'said',\n",
              " 'was',\n",
              " 'are',\n",
              " 'be',\n",
              " 'has',\n",
              " 'have',\n",
              " 'will',\n",
              " 'says',\n",
              " 'would',\n",
              " 'were',\n",
              " 'had',\n",
              " 'been',\n",
              " 'could',\n",
              " \"'s\",\n",
              " 'can',\n",
              " 'do',\n",
              " 'say',\n",
              " 'make',\n",
              " 'may',\n",
              " 'did',\n",
              " 'rose',\n",
              " 'made',\n",
              " 'does',\n",
              " 'expected',\n",
              " 'buy',\n",
              " 'take',\n",
              " 'get',\n",
              " 'might',\n",
              " 'sell',\n",
              " 'added',\n",
              " 'sold',\n",
              " 'help',\n",
              " 'including',\n",
              " 'should',\n",
              " 'reported',\n",
              " 'according',\n",
              " 'pay',\n",
              " 'compared',\n",
              " 'being',\n",
              " 'fell',\n",
              " 'began',\n",
              " 'based',\n",
              " 'used',\n",
              " 'closed',\n",
              " \"'re\",\n",
              " 'want',\n",
              " 'see',\n",
              " 'took',\n",
              " 'yield',\n",
              " 'offered',\n",
              " 'set',\n",
              " 'priced',\n",
              " 'approved',\n",
              " 'come',\n",
              " 'noted',\n",
              " 'cut',\n",
              " 'ended',\n",
              " 'found',\n",
              " 'increased',\n",
              " 'become',\n",
              " 'think',\n",
              " 'named',\n",
              " 'go',\n",
              " 'trying',\n",
              " 'proposed',\n",
              " 'received',\n",
              " 'growing',\n",
              " 'declined',\n",
              " 'held',\n",
              " 'give',\n",
              " 'came',\n",
              " 'use',\n",
              " 'put',\n",
              " 'making',\n",
              " 'continue',\n",
              " 'raise',\n",
              " 'estimated',\n",
              " 'called',\n",
              " 'paid',\n",
              " 'designed',\n",
              " 'going',\n",
              " 'expects',\n",
              " 'seeking',\n",
              " 'must',\n",
              " 'plans',\n",
              " 'wo',\n",
              " 'increasing',\n",
              " 'saying',\n",
              " 'got',\n",
              " 'owns',\n",
              " 'trading',\n",
              " 'acquired',\n",
              " 'gained',\n",
              " 'fined',\n",
              " 'reached',\n",
              " 'holding',\n",
              " 'announced',\n",
              " 'filed',\n",
              " 'became',\n",
              " 'seek',\n",
              " 'included',\n",
              " 'using',\n",
              " 'led',\n",
              " 'decided',\n",
              " 'keep',\n",
              " 'disclosed',\n",
              " 'agreed',\n",
              " 'find',\n",
              " 'failed',\n",
              " 'run',\n",
              " 'taken',\n",
              " 'know',\n",
              " 'coming',\n",
              " \"'ve\",\n",
              " 'completed',\n",
              " 'built',\n",
              " 'raised',\n",
              " 'traded',\n",
              " 'lost',\n",
              " 'continued',\n",
              " 'paying',\n",
              " 'include',\n",
              " 'believe',\n",
              " 'receive',\n",
              " 'posted',\n",
              " 'wants',\n",
              " 'scheduled',\n",
              " 'went',\n",
              " 'indicated',\n",
              " 'provide',\n",
              " 'helped',\n",
              " 'needed',\n",
              " 'goes',\n",
              " 'told',\n",
              " 'result',\n",
              " 'need',\n",
              " 'caused',\n",
              " 'continues',\n",
              " 'dropped',\n",
              " 'showed',\n",
              " 'ordered',\n",
              " 'changed',\n",
              " 'face',\n",
              " 'continuing',\n",
              " 'launched',\n",
              " 'gives',\n",
              " 'reduce',\n",
              " \"'m\",\n",
              " 'lead',\n",
              " 'planned',\n",
              " 'wanted',\n",
              " 'following',\n",
              " 'remains',\n",
              " 'followed',\n",
              " 'remain',\n",
              " 'meet',\n",
              " 'believes',\n",
              " 'trade',\n",
              " 'includes',\n",
              " 'improve',\n",
              " 'buying',\n",
              " 'issued',\n",
              " 'rise',\n",
              " 'leading',\n",
              " 'ca',\n",
              " 'involved',\n",
              " 'known',\n",
              " 'like',\n",
              " 'makes',\n",
              " 'having',\n",
              " 'rejected',\n",
              " 'rising',\n",
              " 'increase',\n",
              " 'turned',\n",
              " 'operating',\n",
              " 'read',\n",
              " 'feel',\n",
              " 'win',\n",
              " 'given',\n",
              " 'prevent',\n",
              " 'offset',\n",
              " 'barred',\n",
              " 'earned',\n",
              " 'consented',\n",
              " 'support',\n",
              " 'gave',\n",
              " 'totaled',\n",
              " 'acquire',\n",
              " 'required',\n",
              " 'begin',\n",
              " 'require',\n",
              " 'offer',\n",
              " 'preferred',\n",
              " 'produced',\n",
              " 'bought',\n",
              " 'offering',\n",
              " 'asked',\n",
              " 'carry',\n",
              " 'build',\n",
              " 'takes',\n",
              " 'seem',\n",
              " 'introduced',\n",
              " 'taking',\n",
              " 'won',\n",
              " 'aimed',\n",
              " 'hurt',\n",
              " 'adds',\n",
              " 'cited',\n",
              " 'sought',\n",
              " 'bring',\n",
              " 'remaining',\n",
              " 'considered',\n",
              " 'suspended',\n",
              " 'prove',\n",
              " 'looking',\n",
              " 'doing',\n",
              " 'involving',\n",
              " 'opened',\n",
              " 'working',\n",
              " 'close',\n",
              " 'own',\n",
              " 'report',\n",
              " 'left',\n",
              " 'boosted',\n",
              " 'giving',\n",
              " 'fixed',\n",
              " 'listed',\n",
              " 'runs',\n",
              " 'purchasing',\n",
              " 'consider',\n",
              " 'prepared',\n",
              " 'hit',\n",
              " 'getting',\n",
              " 'alleged',\n",
              " 'look',\n",
              " 'allowed',\n",
              " 'approve',\n",
              " 'wrote',\n",
              " 'reduced',\n",
              " 'fall',\n",
              " 'advanced',\n",
              " 'appears',\n",
              " 'mixed',\n",
              " 'described',\n",
              " 'expect',\n",
              " 'manufacturing',\n",
              " 'spent',\n",
              " 'According',\n",
              " 'hopes',\n",
              " 'underlying',\n",
              " 'produce',\n",
              " 'work',\n",
              " 'placed',\n",
              " 'allow',\n",
              " 'sells',\n",
              " 'operate',\n",
              " 'extend',\n",
              " 'surged',\n",
              " 'jumped',\n",
              " 'boost',\n",
              " 'slowing',\n",
              " 'provided',\n",
              " 'seems',\n",
              " 'ending',\n",
              " 'selling',\n",
              " 'opposed',\n",
              " 'created',\n",
              " 'move',\n",
              " 'seen',\n",
              " 'comment',\n",
              " 'valued',\n",
              " 'losing',\n",
              " 'mature',\n",
              " 'provides',\n",
              " 'let',\n",
              " 'stopped',\n",
              " 'worked',\n",
              " 'thought',\n",
              " 'watch',\n",
              " 'introduce',\n",
              " 'related',\n",
              " 'improved',\n",
              " 'raising',\n",
              " 'seemed',\n",
              " 'force',\n",
              " 'beginning',\n",
              " 'leave',\n",
              " 'believed',\n",
              " 'stand',\n",
              " 'developed',\n",
              " 'decline',\n",
              " 'expire',\n",
              " 'managing',\n",
              " 'hold',\n",
              " 'invested',\n",
              " 'suggests',\n",
              " 'represent',\n",
              " 'settle',\n",
              " 'change',\n",
              " 'contributed',\n",
              " 'indicates',\n",
              " 'asking',\n",
              " 'elaborate',\n",
              " 'shows',\n",
              " 'refused',\n",
              " 'quoted',\n",
              " 'comes',\n",
              " 'ease',\n",
              " 'passed',\n",
              " 'Says',\n",
              " 'avoid',\n",
              " 'threatened',\n",
              " 'cause',\n",
              " 'end',\n",
              " 'violate',\n",
              " 'operates',\n",
              " 'kept',\n",
              " \"'ll\",\n",
              " 'soared',\n",
              " 'eliminated',\n",
              " 'becomes',\n",
              " 'create',\n",
              " 'print',\n",
              " 'shall',\n",
              " 'show',\n",
              " 'replaced',\n",
              " 'owned',\n",
              " 'argue',\n",
              " 'beat',\n",
              " 'elected',\n",
              " 'complete',\n",
              " 'issue',\n",
              " 'act',\n",
              " 'return',\n",
              " 'registered',\n",
              " 'suffer',\n",
              " 'worried',\n",
              " 'succeed',\n",
              " 'block',\n",
              " 'contain',\n",
              " 'occur',\n",
              " 'pursue',\n",
              " 'combined',\n",
              " 'requires',\n",
              " 'met',\n",
              " 'brought',\n",
              " 'started',\n",
              " 'covered',\n",
              " 'turn',\n",
              " 'running',\n",
              " 'eliminate',\n",
              " 'file',\n",
              " 'plunged',\n",
              " 'fallen',\n",
              " 'ran',\n",
              " 'fired',\n",
              " 'becoming',\n",
              " 'contained',\n",
              " 'managed',\n",
              " 'Take',\n",
              " 'suggested',\n",
              " 'accused',\n",
              " 'appeared',\n",
              " 'slow',\n",
              " 'helping',\n",
              " 'discovered',\n",
              " 'add',\n",
              " 'referred',\n",
              " 'oppose',\n",
              " 'stop',\n",
              " 'claim',\n",
              " 'sent',\n",
              " 'formed',\n",
              " 'resulting',\n",
              " 'turning',\n",
              " 'limited',\n",
              " 'shipped',\n",
              " 'forced',\n",
              " 'send',\n",
              " 'attract',\n",
              " 'admitting',\n",
              " 'denying',\n",
              " 'disgorge',\n",
              " 'attributed',\n",
              " 'causing',\n",
              " 'studied',\n",
              " 'resigned',\n",
              " 'cutting',\n",
              " 'voted',\n",
              " 'settled',\n",
              " 'expand',\n",
              " 'stood',\n",
              " 'retired',\n",
              " 'moved',\n",
              " 'pending',\n",
              " 'providing',\n",
              " 'anticipated',\n",
              " 'decide',\n",
              " 'creating',\n",
              " 'prompted',\n",
              " 'developing',\n",
              " 'start',\n",
              " 'maintained',\n",
              " 'expanding',\n",
              " 'follows',\n",
              " 'ranged',\n",
              " 'focused',\n",
              " 'climbed',\n",
              " 'reflect',\n",
              " 'insist',\n",
              " 'owed',\n",
              " 'happen',\n",
              " 'adjusted',\n",
              " 'awarded',\n",
              " 'reporting',\n",
              " 'talk',\n",
              " 'offers',\n",
              " 'written',\n",
              " 'urged',\n",
              " 'carried',\n",
              " 'identified',\n",
              " 'confirmed',\n",
              " 'playing',\n",
              " 'thinking',\n",
              " 'calls',\n",
              " 'means',\n",
              " 'tried',\n",
              " 'lying',\n",
              " 'asks',\n",
              " 'building',\n",
              " 'suggest',\n",
              " 'falling',\n",
              " 'discuss',\n",
              " 'matched',\n",
              " 'concluded',\n",
              " 'keeping',\n",
              " \"'d\",\n",
              " 'returned',\n",
              " 'withdrawn',\n",
              " 'bid',\n",
              " 'saw',\n",
              " 'signed',\n",
              " 'financing',\n",
              " 'assuming',\n",
              " 'adopted',\n",
              " 'attempting',\n",
              " 'accepted',\n",
              " 'cover',\n",
              " 'facing',\n",
              " 'risk',\n",
              " 'expanded',\n",
              " 'leaving',\n",
              " 'raises',\n",
              " 'declared',\n",
              " 'exercise',\n",
              " 'finished',\n",
              " 'regarding',\n",
              " 'finance',\n",
              " 'charge',\n",
              " 'starting',\n",
              " 'realize',\n",
              " 'felt',\n",
              " 'remained',\n",
              " 'expressed',\n",
              " 'done',\n",
              " 'replace',\n",
              " 'veto',\n",
              " 'stay',\n",
              " 'delivered',\n",
              " 'join',\n",
              " 'publishing',\n",
              " 'enters',\n",
              " 'appear',\n",
              " 'talking',\n",
              " 'heard',\n",
              " 'dumped',\n",
              " 'imported',\n",
              " 'assume',\n",
              " 'declining',\n",
              " 'capture',\n",
              " 'grew',\n",
              " 'holds',\n",
              " 'lift',\n",
              " 'treat',\n",
              " 'receiving',\n",
              " 'joined',\n",
              " 'reflecting',\n",
              " 'released',\n",
              " 'maintaining',\n",
              " 'cost',\n",
              " 'lowered',\n",
              " 'costs',\n",
              " 'exceed',\n",
              " 'gaining',\n",
              " 'considering',\n",
              " 'determined',\n",
              " 'ruled',\n",
              " 'hope',\n",
              " 'located',\n",
              " 'tied',\n",
              " 'heads',\n",
              " 'applied',\n",
              " 'failing',\n",
              " 'showing',\n",
              " 'apply',\n",
              " 'protecting',\n",
              " 'tells',\n",
              " 'complained',\n",
              " 'ask',\n",
              " 'triggered',\n",
              " 'entered',\n",
              " 'total',\n",
              " 'producing',\n",
              " 'denied',\n",
              " 'reducing',\n",
              " 'reflects',\n",
              " 'account',\n",
              " 'predicting',\n",
              " 'intended',\n",
              " 'purchased',\n",
              " 'blamed',\n",
              " 'worry',\n",
              " 'broken',\n",
              " 'carries',\n",
              " 'learned',\n",
              " 'renewed',\n",
              " 'walk',\n",
              " 'viewed',\n",
              " 'die',\n",
              " 'speculated',\n",
              " 'needs',\n",
              " 'gets',\n",
              " 'wait',\n",
              " 'caught',\n",
              " 'claims',\n",
              " 'choose',\n",
              " 'fail',\n",
              " 'insists',\n",
              " 'knows',\n",
              " 'pass',\n",
              " 'grown',\n",
              " 'gotten',\n",
              " 'grows',\n",
              " 'responded',\n",
              " 'play',\n",
              " 'try',\n",
              " 'mean',\n",
              " 'encourage',\n",
              " 'chosen',\n",
              " 'admits',\n",
              " 'Do',\n",
              " 'dismissed',\n",
              " 'realized',\n",
              " 'serve',\n",
              " 'associated',\n",
              " 'slipped',\n",
              " 'argued',\n",
              " 'citing',\n",
              " 'seeks',\n",
              " 'preventing',\n",
              " 'sparked',\n",
              " 'review',\n",
              " 'opening',\n",
              " 'fueled',\n",
              " 'negotiate',\n",
              " 'drop',\n",
              " 'pleased',\n",
              " 'spend',\n",
              " 'care',\n",
              " 'represents',\n",
              " 'spread',\n",
              " 'explains',\n",
              " 'push',\n",
              " 'divided',\n",
              " 'proposing',\n",
              " 'gain',\n",
              " 'representing',\n",
              " 'financed',\n",
              " 'execute',\n",
              " 'existing',\n",
              " 'discussed',\n",
              " 'uses',\n",
              " 'live',\n",
              " 'ring',\n",
              " 'signal',\n",
              " 'focus',\n",
              " 'hired',\n",
              " 'limit',\n",
              " 'begins',\n",
              " 'reflected',\n",
              " 'hear',\n",
              " 'determine',\n",
              " 'profit',\n",
              " 'marketed',\n",
              " 'warned',\n",
              " 'qualified',\n",
              " 'died',\n",
              " 'surviving',\n",
              " 'study',\n",
              " 'explained',\n",
              " 'imposed',\n",
              " 'recognize',\n",
              " 'eased',\n",
              " 'indicate',\n",
              " 'permit',\n",
              " 'retain',\n",
              " 'yielding',\n",
              " 'boosts',\n",
              " 'obtain',\n",
              " 'employs',\n",
              " 'banned',\n",
              " 'pointed',\n",
              " 'leaves',\n",
              " 'withdraw',\n",
              " 'refund',\n",
              " 'collected',\n",
              " 'upheld',\n",
              " 'benefited',\n",
              " 'doubled',\n",
              " 'attached',\n",
              " 'jump',\n",
              " 'compete',\n",
              " 'incurred',\n",
              " 'removed',\n",
              " 'honor',\n",
              " 'varying',\n",
              " 'marketing',\n",
              " 'protect',\n",
              " 'reach',\n",
              " 'share',\n",
              " 'requested',\n",
              " 'grant',\n",
              " 'stepping',\n",
              " 'direct',\n",
              " 'curb',\n",
              " 'controlling',\n",
              " 'snapped',\n",
              " 'tend',\n",
              " 'cast',\n",
              " 'clear',\n",
              " 'permitted',\n",
              " 'remove',\n",
              " 'revive',\n",
              " 'draw',\n",
              " 'predicted',\n",
              " 'suspect',\n",
              " 'coupled',\n",
              " 'belong',\n",
              " 'call',\n",
              " 'describes',\n",
              " 'played',\n",
              " 'committed',\n",
              " 'advertising',\n",
              " 'tested',\n",
              " 'revived',\n",
              " 'earns',\n",
              " 'feeling',\n",
              " 'turns',\n",
              " 'executed',\n",
              " 'killed',\n",
              " 'presented',\n",
              " 'deserve',\n",
              " 'mention',\n",
              " 'seeing',\n",
              " 'discussing',\n",
              " 'convicted',\n",
              " 'telling',\n",
              " 'agree',\n",
              " 'denies',\n",
              " 'pursued',\n",
              " 'spurred',\n",
              " 'accommodate',\n",
              " 'surrendered',\n",
              " 'gone',\n",
              " 'teach',\n",
              " 'booming',\n",
              " 'serving',\n",
              " 'restore',\n",
              " 'restructured',\n",
              " 'taught',\n",
              " 'feared',\n",
              " 'meant',\n",
              " 'adding',\n",
              " 'publishes',\n",
              " 'improving',\n",
              " 'ignoring',\n",
              " 'represented',\n",
              " 'funded',\n",
              " 'involve',\n",
              " 'charged',\n",
              " 'fared',\n",
              " 'eliminates',\n",
              " 'tumbled',\n",
              " 'redeemed',\n",
              " 'resolve',\n",
              " 'stem',\n",
              " 'hire',\n",
              " 'obtained',\n",
              " 'develop',\n",
              " 'employed',\n",
              " 'prohibits',\n",
              " 'promote',\n",
              " 'impose',\n",
              " 'consist',\n",
              " 'investigating',\n",
              " 'accepting',\n",
              " 'plan',\n",
              " 'insisted',\n",
              " 'contacted',\n",
              " 'note',\n",
              " 'driving',\n",
              " 'contends',\n",
              " 'cites',\n",
              " 'point',\n",
              " 'sign',\n",
              " 'printed',\n",
              " 'advertise',\n",
              " 'breaks',\n",
              " 'damaged',\n",
              " 'check',\n",
              " 'thinks',\n",
              " 'looming',\n",
              " 'expecting',\n",
              " 'exercised',\n",
              " 'auctioned',\n",
              " 'disappointed',\n",
              " 'subordinated',\n",
              " 'respond',\n",
              " 'secured',\n",
              " 'integrated',\n",
              " 'performed',\n",
              " 'targeting',\n",
              " 'stepped',\n",
              " 'moving',\n",
              " 'split',\n",
              " 'Buy',\n",
              " 'stemming',\n",
              " 'executing',\n",
              " 'shut',\n",
              " 'writing',\n",
              " 'regulated',\n",
              " 'stands',\n",
              " 'attend',\n",
              " 'reopen',\n",
              " 'drawn',\n",
              " 'Put',\n",
              " 'notes',\n",
              " 'weaken',\n",
              " 'trailed',\n",
              " 'deliver',\n",
              " 'occurred',\n",
              " 'changing',\n",
              " 'accept',\n",
              " 'expelled',\n",
              " 'amounted',\n",
              " 'scrutinizing',\n",
              " 'suspend',\n",
              " 'compares',\n",
              " 'backed',\n",
              " 'vote',\n",
              " 'covers',\n",
              " 'knew',\n",
              " 'joining',\n",
              " 'record',\n",
              " 'regarded',\n",
              " 'copy',\n",
              " 'conclude',\n",
              " 'ought',\n",
              " 'dominated',\n",
              " 'pushed',\n",
              " 'closing',\n",
              " 'rumored',\n",
              " 'respected',\n",
              " 'specified',\n",
              " 'understand',\n",
              " 'supported',\n",
              " 'perform',\n",
              " 'declaring',\n",
              " 'struggling',\n",
              " 'abandoned',\n",
              " 'considers',\n",
              " 'warning',\n",
              " 'offsetting',\n",
              " 'break',\n",
              " 'follow',\n",
              " 'figure',\n",
              " 'increases',\n",
              " 'proving',\n",
              " 'edged',\n",
              " 'Buying',\n",
              " 'forecast',\n",
              " 'specify',\n",
              " 'extended',\n",
              " 'tendered',\n",
              " 'unveiled',\n",
              " 'treating',\n",
              " 'exposed',\n",
              " 'industrialized',\n",
              " 'regulate',\n",
              " 'contracted',\n",
              " 'blip',\n",
              " 'vary',\n",
              " 'slid',\n",
              " 'succeeds',\n",
              " 'lifted',\n",
              " 'acts',\n",
              " 'welcomed',\n",
              " 'squeezed',\n",
              " 'fed',\n",
              " 'casting',\n",
              " 'prolonged',\n",
              " 'recorded',\n",
              " 'announce',\n",
              " 'reward',\n",
              " 'bowed',\n",
              " 'justify',\n",
              " 'asserted',\n",
              " 'appealing',\n",
              " 'faces',\n",
              " 'rule',\n",
              " 'inched',\n",
              " 'manufacture',\n",
              " 'fund',\n",
              " 'anticipates',\n",
              " 'link',\n",
              " 'describe',\n",
              " 'roll',\n",
              " 'calculate',\n",
              " 'transferring',\n",
              " 'favored',\n",
              " 'claiming',\n",
              " 'hurting',\n",
              " 'investing',\n",
              " 'trained',\n",
              " 'instituted',\n",
              " 'introducing',\n",
              " 'vowed',\n",
              " 'deemed',\n",
              " 'pose',\n",
              " 'concerned',\n",
              " 'accelerated',\n",
              " 'feels',\n",
              " 'solved',\n",
              " 'forgiven',\n",
              " 'stored',\n",
              " 'assembled',\n",
              " 'totaling',\n",
              " 'linked',\n",
              " 'forces',\n",
              " 'attempts',\n",
              " 'advertised',\n",
              " 'marks',\n",
              " 'sweeping',\n",
              " 'invest',\n",
              " 'kicked',\n",
              " 'brings',\n",
              " 'scrambled',\n",
              " 'diversify',\n",
              " 'swing',\n",
              " 'skyrocketed',\n",
              " 'targeted',\n",
              " 'repaid',\n",
              " 'open',\n",
              " 'crippled',\n",
              " 'lent',\n",
              " 'belongs',\n",
              " 'stressed',\n",
              " 'leveling',\n",
              " 'manufactured',\n",
              " 'pick',\n",
              " 'cite',\n",
              " 'provoke',\n",
              " 'last',\n",
              " 'climbing',\n",
              " 'Excluding',\n",
              " 'adjusting',\n",
              " 'counts',\n",
              " 'handle',\n",
              " 'polled',\n",
              " 'drink',\n",
              " 'sets',\n",
              " 'sidestep',\n",
              " 'fare',\n",
              " 'letting',\n",
              " 'entering',\n",
              " 'ban',\n",
              " 'visiting',\n",
              " 'endorsed',\n",
              " 'balked',\n",
              " 'compensate',\n",
              " 'terminated',\n",
              " 'modify',\n",
              " 'operated',\n",
              " 'entitles',\n",
              " 'romanticized',\n",
              " 'spends',\n",
              " 'condemned',\n",
              " 'competing',\n",
              " 'returning',\n",
              " 'murdered',\n",
              " 'load',\n",
              " 'lives',\n",
              " 'recommend',\n",
              " 'fighting',\n",
              " 'fills',\n",
              " 'charges',\n",
              " 'exist',\n",
              " 'Stung',\n",
              " 'banning',\n",
              " 'admitted',\n",
              " 'talks',\n",
              " 'launch',\n",
              " 'attracted',\n",
              " 'featured',\n",
              " 'devote',\n",
              " 'featuring',\n",
              " 'suing',\n",
              " 'shrinks',\n",
              " 'tripled',\n",
              " 'pumping',\n",
              " 'contributing',\n",
              " 'spur',\n",
              " 'concentrated',\n",
              " 'export',\n",
              " 'pull',\n",
              " 'approach',\n",
              " 'step',\n",
              " 'regard',\n",
              " 'breach',\n",
              " 'pleaded',\n",
              " 'inspired',\n",
              " 'defended',\n",
              " 'treated',\n",
              " 'casts',\n",
              " 'violated',\n",
              " 'enforce',\n",
              " 'surfaced',\n",
              " 'concentrate',\n",
              " 'stressing',\n",
              " 'suffered',\n",
              " 'loved',\n",
              " 'advised',\n",
              " 'studying',\n",
              " 'pushing',\n",
              " 'earn',\n",
              " 'save',\n",
              " 'interviewed',\n",
              " 'explain',\n",
              " 'gauge',\n",
              " 'measured',\n",
              " 'deny',\n",
              " 'hampered',\n",
              " 'fill',\n",
              " 'nominated',\n",
              " 'assured',\n",
              " 'finding',\n",
              " 'conducting',\n",
              " 'tracks',\n",
              " 'merge',\n",
              " 'merged',\n",
              " 'banking',\n",
              " 'achieve',\n",
              " 'acquiring',\n",
              " 'post',\n",
              " 'wish',\n",
              " 'retained',\n",
              " 'spark',\n",
              " 'chaired',\n",
              " 'deal',\n",
              " 'submit',\n",
              " 'sending',\n",
              " 'test',\n",
              " 'relegated',\n",
              " 'alleging',\n",
              " 'mounted',\n",
              " 'harass',\n",
              " 'crossing',\n",
              " 'involves',\n",
              " 'assist',\n",
              " 'killing',\n",
              " 'served',\n",
              " 'understood',\n",
              " 'touch',\n",
              " 'Asked',\n",
              " 'design',\n",
              " 'retaining',\n",
              " 'belonging',\n",
              " 'compiled',\n",
              " 'Guaranteed',\n",
              " 'positioned',\n",
              " 'plunging',\n",
              " 'locked',\n",
              " 'starts',\n",
              " 'waiting',\n",
              " 'rolled',\n",
              " 'lock',\n",
              " 'drifted',\n",
              " 'measures',\n",
              " 'Estimated',\n",
              " ...]"
            ]
          },
          "metadata": {
            "tags": []
          },
          "execution_count": 37
        }
      ]
    },
    {
      "cell_type": "code",
      "metadata": {
        "id": "OmqbUSxXmHNt",
        "colab_type": "code",
        "colab": {
          "base_uri": "https://localhost:8080/",
          "height": 34
        },
        "outputId": "59f264e4-e851-4064-f1f3-d47e041469de"
      },
      "source": [
        "cfd1 = nltk.ConditionalFreqDist(wsj)\n",
        "cfd1['yield'].most_common()"
      ],
      "execution_count": 38,
      "outputs": [
        {
          "output_type": "execute_result",
          "data": {
            "text/plain": [
              "[('VERB', 28), ('NOUN', 20)]"
            ]
          },
          "metadata": {
            "tags": []
          },
          "execution_count": 38
        }
      ]
    },
    {
      "cell_type": "code",
      "metadata": {
        "id": "UDECW8wWmSaW",
        "colab_type": "code",
        "colab": {
          "base_uri": "https://localhost:8080/",
          "height": 146
        },
        "outputId": "d8da3f5e-8cd3-42c6-fe19-db973c3a5ca2"
      },
      "source": [
        "def findtags(tag_prefix, tagged_text):\n",
        "    cfd = nltk.ConditionalFreqDist((tag, word) for (word, tag) in tagged_text\n",
        "                                  if tag.startswith(tag_prefix))\n",
        "    return dict((tag, cfd[tag].most_common(5)) for tag in cfd.conditions())\n",
        "\n",
        "    tagdict = findtags('NN', nltk.corpus.brown.tagged_words(categories='news'))\n",
        "    for tag in sorted(tagdict):\n",
        "     print(tag, tagdict[tag])\n",
        "\n",
        "NN [('year', 137), ('time', 97), ('state', 88), ('week', 85), ('man', 72)]\n",
        "NN$ [(\"year's\", 13), (\"world's\", 8), (\"state's\", 7), (\"nation's\", 6), ('companys', 6)]\n",
        "NN$-HL [(\"Golf's\", 1), (\"Navy's\", 1)]\n",
        "NN$-TL [(\"President's\", 11), (\"Army's\", 3), (\"Gallery's\", 3), (\"University's\", 3), (\"League's\", 3)]\n",
        "NN-HL [('sp.', 2), ('problem', 2), ('Question', 2), ('business', 2), ('Salary', 2)]\n",
        "NN-NC [('eva', 1), ('aya', 1), ('ova', 1)]\n",
        "NN-TL [('President', 88), ('House', 68), ('State', 59), ('University', 42), ('City', 41)]\n",
        "NN-TL-HL [('Fort', 2), ('Dr.', 1), ('Oak', 1), ('Street', 1), ('Basin', 1)]\n",
        "NNS [('years', 101), ('members', 69), ('people', 52), ('sales', 51), ('men', 46)]\n",
        "NNS$ [(\"children's\", 7), (\"women's\", 5), (\"janitors'\", 3), (\"men's\", 3), (\"taxpayers'\", 2)]\n",
        "NNS$-HL [(\"Dealers'\", 1), (\"Idols'\", 1)]\n",
        "NNS$-TL [(\"Women's\", 4), (\"States'\", 3), (\"Giants'\", 2), (\"Bros.'\", 1), (\"Writers'\", 1)]\n",
        "NNS-HL [('comments', 1), ('Offenses', 1), ('Sacrifices', 1), ('funds', 1), ('Results', 1)]\n",
        "NNS-TL [('States', 38), ('Nations', 11), ('Masters', 10), ('Rules', 9), ('Communists', 9)]\n",
        "NNS-TL-HL [('Nations', 1)]"
      ],
      "execution_count": 43,
      "outputs": [
        {
          "output_type": "error",
          "ename": "SyntaxError",
          "evalue": "ignored",
          "traceback": [
            "\u001b[0;36m  File \u001b[0;32m\"<ipython-input-43-b78e329dfd35>\"\u001b[0;36m, line \u001b[0;32m11\u001b[0m\n\u001b[0;31m    NN$ [(\"year's\", 13), (\"world's\", 8), (\"state's\", 7), (\"nation's\", 6), ('companys', 6)]\u001b[0m\n\u001b[0m      ^\u001b[0m\n\u001b[0;31mSyntaxError\u001b[0m\u001b[0;31m:\u001b[0m invalid syntax\n"
          ]
        }
      ]
    },
    {
      "cell_type": "code",
      "metadata": {
        "id": "hBxdrSnImgIm",
        "colab_type": "code",
        "colab": {
          "base_uri": "https://localhost:8080/",
          "height": 969
        },
        "outputId": "69be8915-3fe1-454b-f2e7-04410978520a"
      },
      "source": [
        "brown_learned_text = brown.words(categories='learned')\n",
        "sorted(set(b for (a, b) in nltk.bigrams(brown_learned_text) if a == 'often'))"
      ],
      "execution_count": 44,
      "outputs": [
        {
          "output_type": "execute_result",
          "data": {
            "text/plain": [
              "[',',\n",
              " '.',\n",
              " 'accomplished',\n",
              " 'analytically',\n",
              " 'appear',\n",
              " 'apt',\n",
              " 'associated',\n",
              " 'assuming',\n",
              " 'became',\n",
              " 'become',\n",
              " 'been',\n",
              " 'began',\n",
              " 'call',\n",
              " 'called',\n",
              " 'carefully',\n",
              " 'chose',\n",
              " 'classified',\n",
              " 'colorful',\n",
              " 'composed',\n",
              " 'contain',\n",
              " 'differed',\n",
              " 'difficult',\n",
              " 'encountered',\n",
              " 'enough',\n",
              " 'equate',\n",
              " 'extremely',\n",
              " 'found',\n",
              " 'happens',\n",
              " 'have',\n",
              " 'ignored',\n",
              " 'in',\n",
              " 'involved',\n",
              " 'more',\n",
              " 'needed',\n",
              " 'nightly',\n",
              " 'observed',\n",
              " 'of',\n",
              " 'on',\n",
              " 'out',\n",
              " 'quite',\n",
              " 'represent',\n",
              " 'responsible',\n",
              " 'revamped',\n",
              " 'seclude',\n",
              " 'set',\n",
              " 'shortened',\n",
              " 'sing',\n",
              " 'sounded',\n",
              " 'stated',\n",
              " 'still',\n",
              " 'sung',\n",
              " 'supported',\n",
              " 'than',\n",
              " 'to',\n",
              " 'when',\n",
              " 'work']"
            ]
          },
          "metadata": {
            "tags": []
          },
          "execution_count": 44
        }
      ]
    },
    {
      "cell_type": "code",
      "metadata": {
        "id": "TT0ggpuJmrFZ",
        "colab_type": "code",
        "colab": {
          "base_uri": "https://localhost:8080/",
          "height": 51
        },
        "outputId": "934b45f8-b342-4bcf-ce54-57caf17a6906"
      },
      "source": [
        "brown_lrnd_tagged = brown.tagged_words(categories='learned', tagset='universal')\n",
        "tags = [b[1] for (a, b) in nltk.bigrams(brown_lrnd_tagged) if a[0] == 'often']\n",
        "fd = nltk.FreqDist(tags)\n",
        "fd.tabulate()"
      ],
      "execution_count": 45,
      "outputs": [
        {
          "output_type": "stream",
          "text": [
            "VERB  ADV  ADP  ADJ    .  PRT \n",
            "  37    8    7    6    4    2 \n"
          ],
          "name": "stdout"
        }
      ]
    },
    {
      "cell_type": "code",
      "metadata": {
        "id": "qPN7K916nIeo",
        "colab_type": "code",
        "colab": {
          "base_uri": "https://localhost:8080/",
          "height": 102
        },
        "outputId": "6e3f2503-5652-41ad-96ad-a89a8befce3c"
      },
      "source": [
        "brown_news_tagged = brown.tagged_words(categories='news', tagset='universal')\n",
        "data = nltk.ConditionalFreqDist((word.lower(), tag)\n",
        "                                 for (word, tag) in brown_news_tagged)\n",
        "for word in sorted(data.conditions()):\n",
        "     if len(data[word]) > 3:\n",
        "         tags = [tag for (tag, _) in data[word].most_common()]\n",
        "         print(word, ' '.join(tags))"
      ],
      "execution_count": 49,
      "outputs": [
        {
          "output_type": "stream",
          "text": [
            "best ADJ ADV VERB NOUN\n",
            "close ADV ADJ VERB NOUN\n",
            "open ADJ VERB NOUN ADV\n",
            "present ADJ ADV NOUN VERB\n",
            "that ADP DET PRON ADV\n"
          ],
          "name": "stdout"
        }
      ]
    },
    {
      "cell_type": "code",
      "metadata": {
        "id": "SmtezqV9nS9S",
        "colab_type": "code",
        "colab": {
          "base_uri": "https://localhost:8080/",
          "height": 34
        },
        "outputId": "cb69baee-8d83-4cb9-a239-5e05277e0cd3"
      },
      "source": [
        "pos = {}\n",
        "pos\n",
        "\n",
        "pos['colorless'] = 'ADJ' \n",
        "pos\n",
        "\n",
        "pos['ideas'] = 'N'\n",
        "pos['sleep'] = 'V'\n",
        "pos['furiously'] = 'ADV'\n",
        "pos "
      ],
      "execution_count": 50,
      "outputs": [
        {
          "output_type": "execute_result",
          "data": {
            "text/plain": [
              "{'colorless': 'ADJ', 'furiously': 'ADV', 'ideas': 'N', 'sleep': 'V'}"
            ]
          },
          "metadata": {
            "tags": []
          },
          "execution_count": 50
        }
      ]
    },
    {
      "cell_type": "code",
      "metadata": {
        "id": "PQnPNo97nkWc",
        "colab_type": "code",
        "colab": {
          "base_uri": "https://localhost:8080/",
          "height": 35
        },
        "outputId": "d2b77de9-c7b7-4b5a-df4b-f517341fd63e"
      },
      "source": [
        "pos['ideas']\n",
        "pos['colorless']"
      ],
      "execution_count": 51,
      "outputs": [
        {
          "output_type": "execute_result",
          "data": {
            "application/vnd.google.colaboratory.intrinsic": {
              "type": "string"
            },
            "text/plain": [
              "'ADJ'"
            ]
          },
          "metadata": {
            "tags": []
          },
          "execution_count": 51
        }
      ]
    },
    {
      "cell_type": "code",
      "metadata": {
        "id": "hLwdtR--nnJi",
        "colab_type": "code",
        "colab": {
          "base_uri": "https://localhost:8080/",
          "height": 34
        },
        "outputId": "a8f36714-ffb1-4728-bce6-c48f70940561"
      },
      "source": [
        "list(pos)\n",
        "sorted(pos) \n",
        "[w for w in pos if w.endswith('s')]"
      ],
      "execution_count": 52,
      "outputs": [
        {
          "output_type": "execute_result",
          "data": {
            "text/plain": [
              "['colorless', 'ideas']"
            ]
          },
          "metadata": {
            "tags": []
          },
          "execution_count": 52
        }
      ]
    },
    {
      "cell_type": "code",
      "metadata": {
        "id": "X4Av8Lt-ns6q",
        "colab_type": "code",
        "colab": {
          "base_uri": "https://localhost:8080/",
          "height": 85
        },
        "outputId": "760ffbfc-b32b-490b-f49e-9dd7a24a1ce4"
      },
      "source": [
        "for word in sorted(pos):\n",
        "     print(word + \":\", pos[word])"
      ],
      "execution_count": 53,
      "outputs": [
        {
          "output_type": "stream",
          "text": [
            "colorless: ADJ\n",
            "furiously: ADV\n",
            "ideas: N\n",
            "sleep: V\n"
          ],
          "name": "stdout"
        }
      ]
    },
    {
      "cell_type": "code",
      "metadata": {
        "id": "DsG2lp2xnvx8",
        "colab_type": "code",
        "colab": {
          "base_uri": "https://localhost:8080/",
          "height": 85
        },
        "outputId": "ccb9b008-65bd-4676-8565-aa3ff8894c84"
      },
      "source": [
        "list(pos.keys())\n",
        "list(pos.values())\n",
        "list(pos.items())\n",
        "for key, val in sorted(pos.items()): \n",
        "     print(key + \":\", val)"
      ],
      "execution_count": 54,
      "outputs": [
        {
          "output_type": "stream",
          "text": [
            "colorless: ADJ\n",
            "furiously: ADV\n",
            "ideas: N\n",
            "sleep: V\n"
          ],
          "name": "stdout"
        }
      ]
    },
    {
      "cell_type": "code",
      "metadata": {
        "id": "85BoDvwnn2xV",
        "colab_type": "code",
        "colab": {}
      },
      "source": [
        "pos = {'colorless': 'ADJ', 'ideas': 'N', 'sleep': 'V', 'furiously': 'ADV'}\n",
        "pos = dict(colorless='ADJ', ideas='N', sleep='V', furiously='ADV')"
      ],
      "execution_count": 55,
      "outputs": []
    },
    {
      "cell_type": "code",
      "metadata": {
        "id": "rnqoZaaRn6SN",
        "colab_type": "code",
        "colab": {
          "base_uri": "https://localhost:8080/",
          "height": 34
        },
        "outputId": "a18fa411-784a-442f-db04-7336736c7cbf"
      },
      "source": [
        "from collections import defaultdict\n",
        "frequency = defaultdict(int)\n",
        "frequency['colorless'] = 4\n",
        "frequency['ideas']\n",
        "\n",
        "pos = defaultdict(list)\n",
        "pos['sleep'] = ['NOUN', 'VERB']\n",
        "pos['ideas']"
      ],
      "execution_count": 56,
      "outputs": [
        {
          "output_type": "execute_result",
          "data": {
            "text/plain": [
              "[]"
            ]
          },
          "metadata": {
            "tags": []
          },
          "execution_count": 56
        }
      ]
    },
    {
      "cell_type": "code",
      "metadata": {
        "id": "xms8YcXSn_gg",
        "colab_type": "code",
        "colab": {
          "base_uri": "https://localhost:8080/",
          "height": 35
        },
        "outputId": "df641a29-c7c9-463c-ed69-e59a6d86f7d0"
      },
      "source": [
        "pos = defaultdict(lambda: 'NOUN') \n",
        "pos['colorless'] = 'ADJ'\n",
        "pos['blog']"
      ],
      "execution_count": 58,
      "outputs": [
        {
          "output_type": "execute_result",
          "data": {
            "application/vnd.google.colaboratory.intrinsic": {
              "type": "string"
            },
            "text/plain": [
              "'NOUN'"
            ]
          },
          "metadata": {
            "tags": []
          },
          "execution_count": 58
        }
      ]
    },
    {
      "cell_type": "code",
      "metadata": {
        "id": "rjgMg8lcoDH2",
        "colab_type": "code",
        "colab": {
          "base_uri": "https://localhost:8080/",
          "height": 35
        },
        "outputId": "63a53ed4-4bcb-4f51-c543-249d6d86ebd8"
      },
      "source": [
        "f = lambda: 'NOUN'\n",
        "f()"
      ],
      "execution_count": 59,
      "outputs": [
        {
          "output_type": "execute_result",
          "data": {
            "application/vnd.google.colaboratory.intrinsic": {
              "type": "string"
            },
            "text/plain": [
              "'NOUN'"
            ]
          },
          "metadata": {
            "tags": []
          },
          "execution_count": 59
        }
      ]
    },
    {
      "cell_type": "code",
      "metadata": {
        "id": "OcS2mAmVoIgC",
        "colab_type": "code",
        "colab": {
          "base_uri": "https://localhost:8080/",
          "height": 35
        },
        "outputId": "8208bd2b-e3b1-4fad-8128-10487275cac2"
      },
      "source": [
        "def g():\n",
        "     return 'NOUN'\n",
        "g()"
      ],
      "execution_count": 60,
      "outputs": [
        {
          "output_type": "execute_result",
          "data": {
            "application/vnd.google.colaboratory.intrinsic": {
              "type": "string"
            },
            "text/plain": [
              "'NOUN'"
            ]
          },
          "metadata": {
            "tags": []
          },
          "execution_count": 60
        }
      ]
    },
    {
      "cell_type": "code",
      "metadata": {
        "id": "-EitrvXboNtt",
        "colab_type": "code",
        "colab": {
          "base_uri": "https://localhost:8080/",
          "height": 1000
        },
        "outputId": "34445ffb-1035-47d2-eb0c-8fec8df51cf8"
      },
      "source": [
        "nltk.download('gutenberg')\n",
        "alice = nltk.corpus.gutenberg.words('carroll-alice.txt')\n",
        "vocab = nltk.FreqDist(alice)\n",
        "v1000 = [word for (word, _) in vocab.most_common(1000)]\n",
        "mapping = defaultdict(lambda: 'UNK')\n",
        "for v in v1000:\n",
        "     mapping[v] = v\n",
        "\n",
        "alice2 = [mapping[v] for v in alice]\n",
        "alice2[:100]"
      ],
      "execution_count": 62,
      "outputs": [
        {
          "output_type": "stream",
          "text": [
            "[nltk_data] Downloading package gutenberg to /root/nltk_data...\n",
            "[nltk_data]   Unzipping corpora/gutenberg.zip.\n"
          ],
          "name": "stdout"
        },
        {
          "output_type": "execute_result",
          "data": {
            "text/plain": [
              "['[',\n",
              " 'Alice',\n",
              " \"'\",\n",
              " 's',\n",
              " 'Adventures',\n",
              " 'in',\n",
              " 'Wonderland',\n",
              " 'by',\n",
              " 'UNK',\n",
              " 'UNK',\n",
              " 'UNK',\n",
              " 'UNK',\n",
              " 'CHAPTER',\n",
              " 'I',\n",
              " '.',\n",
              " 'Down',\n",
              " 'the',\n",
              " 'Rabbit',\n",
              " '-',\n",
              " 'UNK',\n",
              " 'Alice',\n",
              " 'was',\n",
              " 'beginning',\n",
              " 'to',\n",
              " 'get',\n",
              " 'very',\n",
              " 'tired',\n",
              " 'of',\n",
              " 'sitting',\n",
              " 'by',\n",
              " 'her',\n",
              " 'sister',\n",
              " 'on',\n",
              " 'the',\n",
              " 'bank',\n",
              " ',',\n",
              " 'and',\n",
              " 'of',\n",
              " 'having',\n",
              " 'nothing',\n",
              " 'to',\n",
              " 'do',\n",
              " ':',\n",
              " 'once',\n",
              " 'or',\n",
              " 'twice',\n",
              " 'she',\n",
              " 'had',\n",
              " 'peeped',\n",
              " 'into',\n",
              " 'the',\n",
              " 'book',\n",
              " 'her',\n",
              " 'sister',\n",
              " 'was',\n",
              " 'reading',\n",
              " ',',\n",
              " 'but',\n",
              " 'it',\n",
              " 'had',\n",
              " 'no',\n",
              " 'pictures',\n",
              " 'or',\n",
              " 'UNK',\n",
              " 'in',\n",
              " 'it',\n",
              " ',',\n",
              " \"'\",\n",
              " 'and',\n",
              " 'what',\n",
              " 'is',\n",
              " 'the',\n",
              " 'use',\n",
              " 'of',\n",
              " 'a',\n",
              " 'book',\n",
              " \",'\",\n",
              " 'thought',\n",
              " 'Alice',\n",
              " \"'\",\n",
              " 'without',\n",
              " 'pictures',\n",
              " 'or',\n",
              " 'conversation',\n",
              " \"?'\",\n",
              " 'So',\n",
              " 'she',\n",
              " 'was',\n",
              " 'considering',\n",
              " 'in',\n",
              " 'her',\n",
              " 'own',\n",
              " 'mind',\n",
              " '(',\n",
              " 'as',\n",
              " 'well',\n",
              " 'as',\n",
              " 'she',\n",
              " 'could',\n",
              " ',']"
            ]
          },
          "metadata": {
            "tags": []
          },
          "execution_count": 62
        }
      ]
    },
    {
      "cell_type": "code",
      "metadata": {
        "id": "WvplkWPvoZpW",
        "colab_type": "code",
        "colab": {
          "base_uri": "https://localhost:8080/",
          "height": 1000
        },
        "outputId": "9d32f58c-3f51-4e89-8355-5209093c2c4a"
      },
      "source": [
        "nltk.download('words')\n",
        "last_letters = defaultdict(list)\n",
        "words = nltk.corpus.words.words('en')\n",
        "for word in words:\n",
        "     key = word[-2:]\n",
        "     last_letters[key].append(word)\n",
        "\n",
        "last_letters['ly']"
      ],
      "execution_count": 66,
      "outputs": [
        {
          "output_type": "stream",
          "text": [
            "[nltk_data] Downloading package words to /root/nltk_data...\n",
            "[nltk_data]   Unzipping corpora/words.zip.\n"
          ],
          "name": "stdout"
        },
        {
          "output_type": "execute_result",
          "data": {
            "text/plain": [
              "['abactinally',\n",
              " 'abandonedly',\n",
              " 'abasedly',\n",
              " 'abashedly',\n",
              " 'abashlessly',\n",
              " 'abbreviately',\n",
              " 'abdominally',\n",
              " 'abhorrently',\n",
              " 'abidingly',\n",
              " 'abiogenetically',\n",
              " 'abiologically',\n",
              " 'abjectly',\n",
              " 'ableptically',\n",
              " 'ably',\n",
              " 'abnormally',\n",
              " 'abominably',\n",
              " 'aborally',\n",
              " 'aboriginally',\n",
              " 'abortively',\n",
              " 'aboundingly',\n",
              " 'abridgedly',\n",
              " 'abruptedly',\n",
              " 'abruptly',\n",
              " 'abscondedly',\n",
              " 'absently',\n",
              " 'absentmindedly',\n",
              " 'absolutely',\n",
              " 'absolutistically',\n",
              " 'absorbedly',\n",
              " 'absorbingly',\n",
              " 'absorptively',\n",
              " 'abstemiously',\n",
              " 'abstinently',\n",
              " 'abstractedly',\n",
              " 'abstractively',\n",
              " 'abstractly',\n",
              " 'abstrusely',\n",
              " 'absurdly',\n",
              " 'abundantly',\n",
              " 'abusedly',\n",
              " 'abusefully',\n",
              " 'abusively',\n",
              " 'abysmally',\n",
              " 'academically',\n",
              " 'acceleratedly',\n",
              " 'accentually',\n",
              " 'acceptably',\n",
              " 'acceptedly',\n",
              " 'accessarily',\n",
              " 'accessibly',\n",
              " 'accessively',\n",
              " 'accessorily',\n",
              " 'accidentally',\n",
              " 'accidently',\n",
              " 'accommodately',\n",
              " 'accommodatingly',\n",
              " 'accordantly',\n",
              " 'accordingly',\n",
              " 'accountably',\n",
              " 'accumulatively',\n",
              " 'accurately',\n",
              " 'accursedly',\n",
              " 'accusably',\n",
              " 'accusatively',\n",
              " 'accusatorially',\n",
              " 'accusingly',\n",
              " 'accustomedly',\n",
              " 'acervately',\n",
              " 'acetometrically',\n",
              " 'achingly',\n",
              " 'achromatically',\n",
              " 'acicularly',\n",
              " 'acidimetrically',\n",
              " 'acidly',\n",
              " 'acknowledgedly',\n",
              " 'acoustically',\n",
              " 'acquiescently',\n",
              " 'acquiescingly',\n",
              " 'acquisitively',\n",
              " 'acridly',\n",
              " 'acrimoniously',\n",
              " 'acrobatically',\n",
              " 'acrocephaly',\n",
              " 'acrogenously',\n",
              " 'acrologically',\n",
              " 'acromegaly',\n",
              " 'acronically',\n",
              " 'acropetally',\n",
              " 'acrostically',\n",
              " 'actinally',\n",
              " 'actinically',\n",
              " 'actinoelectrically',\n",
              " 'actionably',\n",
              " 'actively',\n",
              " 'actually',\n",
              " 'actuarially',\n",
              " 'acutely',\n",
              " 'Adamically',\n",
              " 'adaptationally',\n",
              " 'adaptively',\n",
              " 'addedly',\n",
              " 'additionally',\n",
              " 'additively',\n",
              " 'addleheadedly',\n",
              " 'adequately',\n",
              " 'adherently',\n",
              " 'adhesively',\n",
              " 'adiabatically',\n",
              " 'adjacently',\n",
              " 'adjectivally',\n",
              " 'adjectively',\n",
              " 'adjoinedly',\n",
              " 'adjunctively',\n",
              " 'adjunctly',\n",
              " 'adjustably',\n",
              " 'administratively',\n",
              " 'admirably',\n",
              " 'admiredly',\n",
              " 'admiringly',\n",
              " 'admissibly',\n",
              " 'admittedly',\n",
              " 'admonishingly',\n",
              " 'admonitively',\n",
              " 'admonitorily',\n",
              " 'adnominally',\n",
              " 'adolescently',\n",
              " 'adoptedly',\n",
              " 'adoptively',\n",
              " 'adorably',\n",
              " 'adorally',\n",
              " 'adoringly',\n",
              " 'adorningly',\n",
              " 'adradially',\n",
              " 'adroitly',\n",
              " 'adscititiously',\n",
              " 'adulterately',\n",
              " 'adulterously',\n",
              " 'adumbratively',\n",
              " 'advancingly',\n",
              " 'advantageously',\n",
              " 'adventitiously',\n",
              " 'adventuresomely',\n",
              " 'adventurously',\n",
              " 'adverbially',\n",
              " 'adversatively',\n",
              " 'adversely',\n",
              " 'advertently',\n",
              " 'advisably',\n",
              " 'advisedly',\n",
              " 'advisorily',\n",
              " 'aerially',\n",
              " 'aerobically',\n",
              " 'aerobiologically',\n",
              " 'aerobiotically',\n",
              " 'aerogenically',\n",
              " 'aeronautically',\n",
              " 'aerophilately',\n",
              " 'aeroscopically',\n",
              " 'aesthetically',\n",
              " 'aetiotropically',\n",
              " 'affably',\n",
              " 'affectedly',\n",
              " 'affectingly',\n",
              " 'affectionally',\n",
              " 'affectionately',\n",
              " 'affectively',\n",
              " 'affinely',\n",
              " 'affinitatively',\n",
              " 'affirmably',\n",
              " 'affirmatively',\n",
              " 'affirmingly',\n",
              " 'afflictingly',\n",
              " 'afflictively',\n",
              " 'affluently',\n",
              " 'affrightedly',\n",
              " 'affrightfully',\n",
              " 'affrightingly',\n",
              " 'affrontedly',\n",
              " 'affrontingly',\n",
              " 'agamically',\n",
              " 'agamogenetically',\n",
              " 'agedly',\n",
              " 'aggravatingly',\n",
              " 'aggregately',\n",
              " 'aggressively',\n",
              " 'aggrievedly',\n",
              " 'agilely',\n",
              " 'agitatedly',\n",
              " 'agnatically',\n",
              " 'agnostically',\n",
              " 'agonistically',\n",
              " 'agonizedly',\n",
              " 'agonizingly',\n",
              " 'agrarianly',\n",
              " 'agreeably',\n",
              " 'agreeingly',\n",
              " 'agriculturally',\n",
              " 'agrobiologically',\n",
              " 'agrogeologically',\n",
              " 'agrologically',\n",
              " 'aguishly',\n",
              " 'aimfully',\n",
              " 'aimlessly',\n",
              " 'airily',\n",
              " 'airtightly',\n",
              " 'alarmedly',\n",
              " 'alarmingly',\n",
              " 'alchemically',\n",
              " 'alcoholically',\n",
              " 'aldermanly',\n",
              " 'alertly',\n",
              " 'algebraically',\n",
              " 'algometrically',\n",
              " 'alimentally',\n",
              " 'alimentatively',\n",
              " 'alkalimetrically',\n",
              " 'allegedly',\n",
              " 'allegorically',\n",
              " 'allenarly',\n",
              " 'alleviatingly',\n",
              " 'alliably',\n",
              " 'allicholly',\n",
              " 'alliteratively',\n",
              " 'allochirally',\n",
              " 'allogenically',\n",
              " 'allopathetically',\n",
              " 'allopathically',\n",
              " 'allopatrically',\n",
              " 'allothigenetically',\n",
              " 'allotropically',\n",
              " 'allowably',\n",
              " 'allowedly',\n",
              " 'alluringly',\n",
              " 'allusively',\n",
              " 'Ally',\n",
              " 'ally',\n",
              " 'almightily',\n",
              " 'alodially',\n",
              " 'alogically',\n",
              " 'aloofly',\n",
              " 'alphabetically',\n",
              " 'alpinely',\n",
              " 'alterably',\n",
              " 'alternately',\n",
              " 'alternatingly',\n",
              " 'alternatively',\n",
              " 'altimetrically',\n",
              " 'altruistically',\n",
              " 'aly',\n",
              " 'amateurishly',\n",
              " 'amatively',\n",
              " 'amatorially',\n",
              " 'amazedly',\n",
              " 'amazingly',\n",
              " 'ambagiously',\n",
              " 'ambassadorially',\n",
              " 'ambidextrously',\n",
              " 'ambiguously',\n",
              " 'ambilateralaterally',\n",
              " 'ambitionlessly',\n",
              " 'ambitiously',\n",
              " 'amblingly',\n",
              " 'ambrosially',\n",
              " 'amenably',\n",
              " 'Americanly',\n",
              " 'ametaboly',\n",
              " 'amethodically',\n",
              " 'amiably',\n",
              " 'amicably',\n",
              " 'amitotically',\n",
              " 'amorously',\n",
              " 'amorphously',\n",
              " 'amphibiously',\n",
              " 'amphibologically',\n",
              " 'amphiboly',\n",
              " 'amphigenously',\n",
              " 'amphimictically',\n",
              " 'amphistyly',\n",
              " 'amphitheatrically',\n",
              " 'amply',\n",
              " 'amusedly',\n",
              " 'amusingly',\n",
              " 'amusively',\n",
              " 'Anabaptistically',\n",
              " 'anacamptically',\n",
              " 'anachronically',\n",
              " 'anachronistically',\n",
              " 'anachronously',\n",
              " 'anacoluthically',\n",
              " 'Anacreontically',\n",
              " 'anacrustically',\n",
              " 'anaerobically',\n",
              " 'anaerobiotically',\n",
              " 'anaesthetically',\n",
              " 'anagogically',\n",
              " 'anagrammatically',\n",
              " 'anally',\n",
              " 'analogically',\n",
              " 'analogously',\n",
              " 'analytically',\n",
              " 'anamnestically',\n",
              " 'anapaestically',\n",
              " 'anarchically',\n",
              " 'anarthrously',\n",
              " 'anathematically',\n",
              " 'Anatoly',\n",
              " 'anatomically',\n",
              " 'ancestorially',\n",
              " 'ancestrally',\n",
              " 'anciently',\n",
              " 'anecdotically',\n",
              " 'anemographically',\n",
              " 'anemometrically',\n",
              " 'anemometrographically',\n",
              " 'anemophily',\n",
              " 'anencephaly',\n",
              " 'anerly',\n",
              " 'anesthetically',\n",
              " 'aneurismally',\n",
              " 'aneurysmally',\n",
              " 'angelically',\n",
              " 'angerly',\n",
              " 'angiomegaly',\n",
              " 'Anglicanly',\n",
              " 'angrily',\n",
              " 'anguishously',\n",
              " 'angularly',\n",
              " 'angulately',\n",
              " 'animally',\n",
              " 'animatedly',\n",
              " 'animately',\n",
              " 'animatingly',\n",
              " 'anisocotyly',\n",
              " 'anisophylly',\n",
              " 'anisotropically',\n",
              " 'anniversarily',\n",
              " 'annoyingly',\n",
              " 'annually',\n",
              " 'annularly',\n",
              " 'anodically',\n",
              " 'anomalistically',\n",
              " 'anomalously',\n",
              " 'anomaly',\n",
              " 'anonymously',\n",
              " 'anorthographically',\n",
              " 'answerably',\n",
              " 'answeringly',\n",
              " 'answerlessly',\n",
              " 'antagonistically',\n",
              " 'antarctically',\n",
              " 'antecedaneously',\n",
              " 'antecedently',\n",
              " 'antediluvially',\n",
              " 'anteriorly',\n",
              " 'anterolaterally',\n",
              " 'anteroposteriorly',\n",
              " 'anteroventrally',\n",
              " 'anthologically',\n",
              " 'anthropologically',\n",
              " 'anthropometrically',\n",
              " 'anthropomorphically',\n",
              " 'anthropomorphologically',\n",
              " 'anthropomorphously',\n",
              " 'anthropopathically',\n",
              " 'anthropophagously',\n",
              " 'antichristianly',\n",
              " 'antichronically',\n",
              " 'anticipatively',\n",
              " 'anticipatorily',\n",
              " 'anticly',\n",
              " 'anticonstitutionally',\n",
              " 'anticyclonically',\n",
              " 'antidotally',\n",
              " 'antidotically',\n",
              " 'antidromically',\n",
              " 'antimonarchically',\n",
              " 'antimonopoly',\n",
              " 'antipathetically',\n",
              " 'antiperistatically',\n",
              " 'antiphonally',\n",
              " 'antiphonically',\n",
              " 'antiphrastically',\n",
              " 'antiquarianly',\n",
              " 'antiquely',\n",
              " 'antirachitically',\n",
              " 'antiseptically',\n",
              " 'antisocialistically',\n",
              " 'antistrophically',\n",
              " 'antitheistically',\n",
              " 'antithetically',\n",
              " 'antitypically',\n",
              " 'antonomastically',\n",
              " 'antrorsely',\n",
              " 'anxiously',\n",
              " 'aoristically',\n",
              " 'apagogically',\n",
              " 'apathetically',\n",
              " 'aperiodically',\n",
              " 'apertly',\n",
              " 'apetaly',\n",
              " 'apheliotropically',\n",
              " 'aphetically',\n",
              " 'aphoristically',\n",
              " 'aphylly',\n",
              " 'apically',\n",
              " 'apishly',\n",
              " 'aplanatically',\n",
              " 'apocalyptically',\n",
              " 'apocryphally',\n",
              " 'apodictically',\n",
              " 'apogamically',\n",
              " 'apogamously',\n",
              " 'apogeotropically',\n",
              " 'apologetically',\n",
              " 'apometaboly',\n",
              " 'apoplectically',\n",
              " 'aposematically',\n",
              " 'apostatically',\n",
              " 'apostolically',\n",
              " 'apothegmatically',\n",
              " 'appallingly',\n",
              " 'apparently',\n",
              " 'appealingly',\n",
              " 'appeasably',\n",
              " 'appeasingly',\n",
              " 'appellatively',\n",
              " 'apperceptively',\n",
              " 'appetently',\n",
              " 'appetizingly',\n",
              " 'applaudably',\n",
              " 'applaudingly',\n",
              " 'applausively',\n",
              " 'appliably',\n",
              " 'applicably',\n",
              " 'applicatively',\n",
              " 'applicatorily',\n",
              " 'appliedly',\n",
              " 'apply',\n",
              " 'applyingly',\n",
              " 'appositely',\n",
              " 'appositionally',\n",
              " 'appositively',\n",
              " 'appraisingly',\n",
              " 'appreciably',\n",
              " 'appreciatingly',\n",
              " 'appreciatively',\n",
              " 'appreciatorily',\n",
              " 'apprehendingly',\n",
              " 'apprehensibly',\n",
              " 'apprehensively',\n",
              " 'appropriately',\n",
              " 'approvedly',\n",
              " 'approvingly',\n",
              " 'approximately',\n",
              " 'approximatively',\n",
              " 'appulsively',\n",
              " 'apsidally',\n",
              " 'aptitudinally',\n",
              " 'aptly',\n",
              " 'aquatically',\n",
              " 'aqueously',\n",
              " 'arabesquely',\n",
              " 'arbitrarily',\n",
              " 'arboreally',\n",
              " 'arborescently',\n",
              " 'Arcadianly',\n",
              " 'archaeologically',\n",
              " 'archaically',\n",
              " 'archetypally',\n",
              " 'archetypically',\n",
              " 'archiepiscopally',\n",
              " 'architectonically',\n",
              " 'architecturally',\n",
              " 'archly',\n",
              " 'arctically',\n",
              " 'arcuately',\n",
              " 'ardently',\n",
              " 'arduously',\n",
              " 'areographically',\n",
              " 'areologically',\n",
              " 'argentometrically',\n",
              " 'argumentatively',\n",
              " 'argutely',\n",
              " 'aridly',\n",
              " 'arightly',\n",
              " 'aristocratically',\n",
              " 'arithmetically',\n",
              " 'aromatically',\n",
              " 'arrantly',\n",
              " 'arrestingly',\n",
              " 'arrhythmically',\n",
              " 'arrogantly',\n",
              " 'arrogatingly',\n",
              " 'arterially',\n",
              " 'artfully',\n",
              " 'articularly',\n",
              " 'articulately',\n",
              " 'artificially',\n",
              " 'artistically',\n",
              " 'artlessly',\n",
              " 'ascendingly',\n",
              " 'ascertainably',\n",
              " 'ascetically',\n",
              " 'aseptically',\n",
              " 'asexually',\n",
              " 'ashamedly',\n",
              " 'ashily',\n",
              " 'Asiatically',\n",
              " 'asininely',\n",
              " 'askingly',\n",
              " 'asperously',\n",
              " 'aspersively',\n",
              " 'aspiringly',\n",
              " 'assembly',\n",
              " 'assentatorily',\n",
              " 'assentingly',\n",
              " 'assertively',\n",
              " 'assertorially',\n",
              " 'assertorically',\n",
              " 'assertorily',\n",
              " 'assessably',\n",
              " 'asseveratingly',\n",
              " 'asseveratively',\n",
              " 'assidually',\n",
              " 'assiduously',\n",
              " 'assignably',\n",
              " 'assishly',\n",
              " 'associatively',\n",
              " 'assumably',\n",
              " 'assumedly',\n",
              " 'assumingly',\n",
              " 'assumptively',\n",
              " 'assuredly',\n",
              " 'assuringly',\n",
              " 'astatically',\n",
              " 'astely',\n",
              " 'asthmatically',\n",
              " 'astigmatically',\n",
              " 'astonishedly',\n",
              " 'astonishingly',\n",
              " 'astoundingly',\n",
              " 'astrally',\n",
              " 'astrictively',\n",
              " 'astringently',\n",
              " 'astrologically',\n",
              " 'astronomically',\n",
              " 'astuciously',\n",
              " 'astutely',\n",
              " 'asymmetrically',\n",
              " 'asymptotically',\n",
              " 'asyndetically',\n",
              " 'atavistically',\n",
              " 'atheistically',\n",
              " 'Athenianly',\n",
              " 'atheologically',\n",
              " 'athletically',\n",
              " 'atmospherically',\n",
              " 'atomically',\n",
              " 'atomistically',\n",
              " 'atonally',\n",
              " 'atoningly',\n",
              " 'atrociously',\n",
              " 'attachedly',\n",
              " 'attemperately',\n",
              " 'attendantly',\n",
              " 'attendingly',\n",
              " 'attentively',\n",
              " 'attently',\n",
              " 'attractingly',\n",
              " 'attractionally',\n",
              " 'attractively',\n",
              " 'attributively',\n",
              " 'attunely',\n",
              " 'atypically',\n",
              " 'audaciously',\n",
              " 'audibly',\n",
              " 'auditorially',\n",
              " 'auditorily',\n",
              " 'augmentatively',\n",
              " 'augmentedly',\n",
              " 'augustly',\n",
              " 'auntly',\n",
              " 'aurally',\n",
              " 'aureately',\n",
              " 'aureously',\n",
              " 'auricularly',\n",
              " 'auriculately',\n",
              " 'aurorally',\n",
              " 'auspiciously',\n",
              " 'austerely',\n",
              " 'auteciously',\n",
              " 'autecologically',\n",
              " 'authentically',\n",
              " 'authenticly',\n",
              " 'authorially',\n",
              " 'authoritatively',\n",
              " 'authorly',\n",
              " 'autobiographically',\n",
              " 'autocatalytically',\n",
              " 'autocephaly',\n",
              " 'autochthonously',\n",
              " 'autocratically',\n",
              " 'autoeciously',\n",
              " 'autoerotically',\n",
              " 'autogenetically',\n",
              " 'autogenously',\n",
              " 'autographically',\n",
              " 'automatically',\n",
              " 'automorphically',\n",
              " 'autonomically',\n",
              " 'autonomously',\n",
              " 'autophytically',\n",
              " 'autoptically',\n",
              " 'autoschediastically',\n",
              " 'autostyly',\n",
              " 'autosymbolically',\n",
              " 'autotropically',\n",
              " 'autumnally',\n",
              " 'auxetically',\n",
              " 'auxiliarly',\n",
              " 'auxinically',\n",
              " 'availably',\n",
              " 'availingly',\n",
              " 'avariciously',\n",
              " 'avengingly',\n",
              " 'averagely',\n",
              " 'aversely',\n",
              " 'avertedly',\n",
              " 'avidiously',\n",
              " 'avidly',\n",
              " 'avoidably',\n",
              " 'avowably',\n",
              " 'avowedly',\n",
              " 'awakeningly',\n",
              " 'awesomely',\n",
              " 'awfully',\n",
              " 'awkwardly',\n",
              " 'axially',\n",
              " 'axiologically',\n",
              " 'axiomatically',\n",
              " 'azimuthally',\n",
              " 'babblingly',\n",
              " 'babblishly',\n",
              " 'babbly',\n",
              " 'babishly',\n",
              " 'babyishly',\n",
              " 'bacchanalianly',\n",
              " 'bachelorly',\n",
              " 'backbitingly',\n",
              " 'backhandedly',\n",
              " 'backwardly',\n",
              " 'bacterially',\n",
              " 'bacteriologically',\n",
              " 'bacterioscopically',\n",
              " 'baddishly',\n",
              " 'badgeringly',\n",
              " 'badgerly',\n",
              " 'badly',\n",
              " 'bafflingly',\n",
              " 'baggily',\n",
              " 'bairnly',\n",
              " 'bakerly',\n",
              " 'bakingly',\n",
              " 'baldly',\n",
              " 'balefully',\n",
              " 'balkingly',\n",
              " 'ballistically',\n",
              " 'bally',\n",
              " 'balmily',\n",
              " 'balsamically',\n",
              " 'banally',\n",
              " 'bandlessly',\n",
              " 'banefully',\n",
              " 'bankruptly',\n",
              " 'banteringly',\n",
              " 'baptismally',\n",
              " 'barbarically',\n",
              " 'barbarously',\n",
              " 'bardily',\n",
              " 'barefacedly',\n",
              " 'barely',\n",
              " 'barfly',\n",
              " 'barkingly',\n",
              " 'barometrically',\n",
              " 'barratrously',\n",
              " 'barrenly',\n",
              " 'barruly',\n",
              " 'basally',\n",
              " 'baselessly',\n",
              " 'basely',\n",
              " 'bashfully',\n",
              " 'basically',\n",
              " 'bastardly',\n",
              " 'bathymetrically',\n",
              " 'bawdily',\n",
              " 'bayardly',\n",
              " 'beadily',\n",
              " 'beamily',\n",
              " 'beamingly',\n",
              " 'bearably',\n",
              " 'bearishly',\n",
              " 'beastily',\n",
              " 'beastlily',\n",
              " 'beastly',\n",
              " 'beatifically',\n",
              " 'beauteously',\n",
              " 'beautifully',\n",
              " 'beckoningly',\n",
              " 'becomingly',\n",
              " 'bedazzlingly',\n",
              " 'beefily',\n",
              " 'beerily',\n",
              " 'beerishly',\n",
              " 'befittingly',\n",
              " 'beggarly',\n",
              " 'beggingly',\n",
              " 'begrudgingly',\n",
              " 'beguilingly',\n",
              " 'behavioristically',\n",
              " 'behoovefully',\n",
              " 'behoovingly',\n",
              " 'beknottedly',\n",
              " 'belatedly',\n",
              " 'believingly',\n",
              " 'bellicosely',\n",
              " 'belligerently',\n",
              " 'belly',\n",
              " 'bely',\n",
              " 'belyingly',\n",
              " 'bemoaningly',\n",
              " 'bemusedly',\n",
              " 'bendingly',\n",
              " 'benedictively',\n",
              " 'beneficently',\n",
              " 'beneficially',\n",
              " 'benevolently',\n",
              " 'benignantly',\n",
              " 'benignly',\n",
              " 'benumbingly',\n",
              " 'beseechingly',\n",
              " 'beseemingly',\n",
              " 'beseemly',\n",
              " 'besiegingly',\n",
              " 'besottedly',\n",
              " 'besottingly',\n",
              " 'bestially',\n",
              " 'besully',\n",
              " 'betterly',\n",
              " 'Beverly',\n",
              " 'bewailingly',\n",
              " 'bewilderedly',\n",
              " 'bewilderingly',\n",
              " 'bewitchingly',\n",
              " 'bewrayingly',\n",
              " 'biannually',\n",
              " 'biaxially',\n",
              " 'Biblically',\n",
              " 'bibliographically',\n",
              " 'bibliophily',\n",
              " 'bibliopolically',\n",
              " 'bibliopoly',\n",
              " 'bibulously',\n",
              " 'biconically',\n",
              " 'biddably',\n",
              " 'bienly',\n",
              " 'biennially',\n",
              " 'bifariously',\n",
              " 'bifidly',\n",
              " 'bifilarly',\n",
              " 'bifurcately',\n",
              " 'bigamously',\n",
              " 'bigotedly',\n",
              " 'bihourly',\n",
              " 'bilaterally',\n",
              " 'bilingually',\n",
              " 'biliously',\n",
              " 'billiardly',\n",
              " 'Billy',\n",
              " 'billy',\n",
              " 'bimanually',\n",
              " 'bimonthly',\n",
              " 'binately',\n",
              " 'bindingly',\n",
              " 'binocularly',\n",
              " 'binomially',\n",
              " 'biochemically',\n",
              " 'bioecologically',\n",
              " 'biogenetically',\n",
              " 'biogeographically',\n",
              " 'biographically',\n",
              " 'biologically',\n",
              " 'biometrically',\n",
              " 'bionomically',\n",
              " 'bipartitely',\n",
              " 'bipinnately',\n",
              " 'biquarterly',\n",
              " 'bisectionally',\n",
              " 'biserially',\n",
              " 'biseriately',\n",
              " 'bisexually',\n",
              " 'bisymmetrically',\n",
              " 'biternately',\n",
              " 'bitingly',\n",
              " 'bitterly',\n",
              " 'biweekly',\n",
              " 'biyearly',\n",
              " 'bizarrely',\n",
              " 'blackbelly',\n",
              " 'blackguardly',\n",
              " 'blackishly',\n",
              " 'blackly',\n",
              " 'blamably',\n",
              " 'blamefully',\n",
              " 'blamelessly',\n",
              " 'blamingly',\n",
              " 'blanchingly',\n",
              " 'blandishingly',\n",
              " 'blandly',\n",
              " 'blankly',\n",
              " 'blasphemously',\n",
              " 'blatantly',\n",
              " 'blately',\n",
              " 'blazingly',\n",
              " 'bleakly',\n",
              " 'bleatingly',\n",
              " 'blenchingly',\n",
              " 'blessedly',\n",
              " 'blessingly',\n",
              " 'blightingly',\n",
              " 'blindedly',\n",
              " 'blindfoldly',\n",
              " 'blindingly',\n",
              " 'blindly',\n",
              " 'blinkingly',\n",
              " 'blissfully',\n",
              " 'blisteringly',\n",
              " 'blithefully',\n",
              " 'blithely',\n",
              " 'blithesomely',\n",
              " 'blizzardly',\n",
              " 'blockheadedly',\n",
              " 'blockishly',\n",
              " 'blolly',\n",
              " 'bloodily',\n",
              " 'bloodlessly',\n",
              " 'bloodthirstily',\n",
              " 'bloomingly',\n",
              " 'blottesquely',\n",
              " 'blottingly',\n",
              " 'blowfly',\n",
              " 'blubberingly',\n",
              " 'bluely',\n",
              " 'bluffly',\n",
              " 'blunderingly',\n",
              " 'bluntly',\n",
              " 'blushfully',\n",
              " 'blushingly',\n",
              " 'blusteringly',\n",
              " 'blusterously',\n",
              " 'boardly',\n",
              " 'boarishly',\n",
              " 'boastfully',\n",
              " 'boatly',\n",
              " 'bobbishly',\n",
              " 'bobfly',\n",
              " 'bodaciously',\n",
              " 'bodily',\n",
              " 'bodingly',\n",
              " 'boilingly',\n",
              " 'boily',\n",
              " 'boisterously',\n",
              " 'boldly',\n",
              " 'bolly',\n",
              " 'bolographically',\n",
              " 'Bolshevistically',\n",
              " 'bombastically',\n",
              " 'bonairly',\n",
              " 'bonally',\n",
              " 'bonelessly',\n",
              " 'bonnily',\n",
              " 'boobily',\n",
              " 'bookishly',\n",
              " 'booly',\n",
              " 'boomingly',\n",
              " 'boorishly',\n",
              " 'bootlessly',\n",
              " 'boozily',\n",
              " 'boringly',\n",
              " 'botanically',\n",
              " 'botchedly',\n",
              " 'botcherly',\n",
              " 'botchily',\n",
              " 'botfly',\n",
              " 'botryoidally',\n",
              " 'bottomlessly',\n",
              " 'bounceably',\n",
              " 'bouncingly',\n",
              " 'boundedly',\n",
              " 'boundingly',\n",
              " 'boundlessly',\n",
              " 'boundly',\n",
              " 'bounteously',\n",
              " 'bountifully',\n",
              " 'bovinely',\n",
              " 'bowingly',\n",
              " 'bowly',\n",
              " 'boyishly',\n",
              " 'brabblingly',\n",
              " 'brachistocephaly',\n",
              " 'brachycephaly',\n",
              " 'brachydactyly',\n",
              " 'bracingly',\n",
              " 'braggartly',\n",
              " 'braggingly',\n",
              " 'braggishly',\n",
              " 'brainlessly',\n",
              " 'brainsickly',\n",
              " 'brambly',\n",
              " 'brassily',\n",
              " 'bravely',\n",
              " 'brawlingly',\n",
              " 'brawly',\n",
              " 'brawnily',\n",
              " 'brazenfacedly',\n",
              " 'brazenly',\n",
              " 'breakably',\n",
              " 'breathingly',\n",
              " 'breathlessly',\n",
              " 'breezily',\n",
              " 'bremely',\n",
              " 'brickly',\n",
              " 'bridally',\n",
              " 'bridely',\n",
              " 'brieflessly',\n",
              " 'briefly',\n",
              " 'brigandishly',\n",
              " 'brightly',\n",
              " 'brilliantly',\n",
              " 'brimfully',\n",
              " 'brimmingly',\n",
              " 'briskly',\n",
              " 'bristly',\n",
              " 'Britannically',\n",
              " 'Britishly',\n",
              " 'brittlely',\n",
              " 'broadly',\n",
              " 'broilingly',\n",
              " 'brokenheartedly',\n",
              " 'brokenly',\n",
              " 'brolly',\n",
              " 'bromidically',\n",
              " 'bromometrically',\n",
              " 'bronchially',\n",
              " 'broodingly',\n",
              " 'brotherly',\n",
              " 'brownly',\n",
              " 'brusquely',\n",
              " 'brutally',\n",
              " 'brutely',\n",
              " 'brutishly',\n",
              " 'bubblingly',\n",
              " 'bubbly',\n",
              " 'buccally',\n",
              " 'buckishly',\n",
              " 'bucolically',\n",
              " 'buirdly',\n",
              " 'bulkily',\n",
              " 'bullheadedly',\n",
              " 'bullishly',\n",
              " 'bully',\n",
              " 'bumpily',\n",
              " 'bumpingly',\n",
              " 'bumpkinly',\n",
              " 'bumptiously',\n",
              " 'bunchily',\n",
              " 'bungerly',\n",
              " 'bunglingly',\n",
              " 'buoyantly',\n",
              " 'burbly',\n",
              " 'burdensomely',\n",
              " 'bureaucratically',\n",
              " 'burglariously',\n",
              " 'burlesquely',\n",
              " 'burlily',\n",
              " 'burly',\n",
              " 'burningly',\n",
              " 'bushily',\n",
              " 'busily',\n",
              " 'bustlingly',\n",
              " 'butcherly',\n",
              " 'butterfly',\n",
              " 'butyrically',\n",
              " 'buxomly',\n",
              " 'buzzardly',\n",
              " 'buzzingly',\n",
              " 'byously',\n",
              " 'Byronically',\n",
              " 'cabalistically',\n",
              " 'cacophonically',\n",
              " 'cacophonously',\n",
              " ...]"
            ]
          },
          "metadata": {
            "tags": []
          },
          "execution_count": 66
        }
      ]
    },
    {
      "cell_type": "code",
      "metadata": {
        "id": "wa9rx_ayokin",
        "colab_type": "code",
        "colab": {
          "base_uri": "https://localhost:8080/",
          "height": 34
        },
        "outputId": "c4dd0c88-51f4-4144-ba7c-0a99eea97cd5"
      },
      "source": [
        "anagrams = defaultdict(list)\n",
        "for word in words:\n",
        "     key = ''.join(sorted(word))\n",
        "     anagrams[key].append(word)\n",
        "\n",
        "anagrams['aeilnrt']"
      ],
      "execution_count": 67,
      "outputs": [
        {
          "output_type": "execute_result",
          "data": {
            "text/plain": [
              "['entrail', 'latrine', 'ratline', 'reliant', 'retinal', 'trenail']"
            ]
          },
          "metadata": {
            "tags": []
          },
          "execution_count": 67
        }
      ]
    },
    {
      "cell_type": "code",
      "metadata": {
        "id": "qJkRouzUor4c",
        "colab_type": "code",
        "colab": {
          "base_uri": "https://localhost:8080/",
          "height": 187
        },
        "outputId": "366953ed-7bf5-44e3-b250-a4aa885a2d6b"
      },
      "source": [
        "counts = defaultdict(int)\n",
        "for word in nltk.corpus.gutenberg.words('milton-paradise.txt'):\n",
        "     counts[word] += 1\n",
        "\n",
        "[key for (key, value) in counts.items() if value == 32]"
      ],
      "execution_count": 68,
      "outputs": [
        {
          "output_type": "execute_result",
          "data": {
            "text/plain": [
              "['mortal',\n",
              " 'Against',\n",
              " 'Him',\n",
              " 'There',\n",
              " 'brought',\n",
              " 'King',\n",
              " 'virtue',\n",
              " 'every',\n",
              " 'been',\n",
              " 'thine']"
            ]
          },
          "metadata": {
            "tags": []
          },
          "execution_count": 68
        }
      ]
    },
    {
      "cell_type": "code",
      "metadata": {
        "id": "mkmcLgkjxqKe",
        "colab_type": "code",
        "colab": {
          "base_uri": "https://localhost:8080/",
          "height": 35
        },
        "outputId": "4a889ce8-92f2-490e-a6eb-3e71f3054c2a"
      },
      "source": [
        "pos = {'colorless': 'ADJ', 'ideas': 'N', 'sleep': 'V', 'furiously': 'ADV'}\n",
        "pos2 = dict((value, key) for (key, value) in pos.items())\n",
        "pos2['N']"
      ],
      "execution_count": 69,
      "outputs": [
        {
          "output_type": "execute_result",
          "data": {
            "application/vnd.google.colaboratory.intrinsic": {
              "type": "string"
            },
            "text/plain": [
              "'ideas'"
            ]
          },
          "metadata": {
            "tags": []
          },
          "execution_count": 69
        }
      ]
    },
    {
      "cell_type": "code",
      "metadata": {
        "id": "BJLsHSPbxsvx",
        "colab_type": "code",
        "colab": {
          "base_uri": "https://localhost:8080/",
          "height": 34
        },
        "outputId": "2bed1423-7809-4840-f211-6fd920d31239"
      },
      "source": [
        "pos.update({'cats': 'N', 'scratch': 'V', 'peacefully': 'ADV', 'old': 'ADJ'})\n",
        "pos2 = defaultdict(list)\n",
        "for key, value in pos.items():\n",
        "     pos2[value].append(key)\n",
        "\n",
        "pos2['ADV']"
      ],
      "execution_count": 70,
      "outputs": [
        {
          "output_type": "execute_result",
          "data": {
            "text/plain": [
              "['furiously', 'peacefully']"
            ]
          },
          "metadata": {
            "tags": []
          },
          "execution_count": 70
        }
      ]
    },
    {
      "cell_type": "code",
      "metadata": {
        "id": "KdRWbM7zxxJO",
        "colab_type": "code",
        "colab": {}
      },
      "source": [
        "from nltk.corpus import brown\n",
        "brown_tagged_sents = brown.tagged_sents(categories='news')\n",
        "brown_sents = brown.sents(categories='news')"
      ],
      "execution_count": 71,
      "outputs": []
    },
    {
      "cell_type": "code",
      "metadata": {
        "id": "A6-b6dFBxz7E",
        "colab_type": "code",
        "colab": {
          "base_uri": "https://localhost:8080/",
          "height": 35
        },
        "outputId": "9e1cab9f-f161-44fe-a2f0-d8ea89ed2967"
      },
      "source": [
        "tags = [tag for (word, tag) in brown.tagged_words(categories='news')]\n",
        "nltk.FreqDist(tags).max()"
      ],
      "execution_count": 72,
      "outputs": [
        {
          "output_type": "execute_result",
          "data": {
            "application/vnd.google.colaboratory.intrinsic": {
              "type": "string"
            },
            "text/plain": [
              "'NN'"
            ]
          },
          "metadata": {
            "tags": []
          },
          "execution_count": 72
        }
      ]
    },
    {
      "cell_type": "code",
      "metadata": {
        "id": "JGNYBpJbx13Q",
        "colab_type": "code",
        "colab": {
          "base_uri": "https://localhost:8080/",
          "height": 323
        },
        "outputId": "7bf3ba19-f5e9-4645-c056-5767b417113e"
      },
      "source": [
        "raw = 'I do not like green eggs and ham, I do not like them Sam I am!'\n",
        "tokens = nltk.word_tokenize(raw)\n",
        "default_tagger = nltk.DefaultTagger('NN')\n",
        "default_tagger.tag(tokens)"
      ],
      "execution_count": 73,
      "outputs": [
        {
          "output_type": "execute_result",
          "data": {
            "text/plain": [
              "[('I', 'NN'),\n",
              " ('do', 'NN'),\n",
              " ('not', 'NN'),\n",
              " ('like', 'NN'),\n",
              " ('green', 'NN'),\n",
              " ('eggs', 'NN'),\n",
              " ('and', 'NN'),\n",
              " ('ham', 'NN'),\n",
              " (',', 'NN'),\n",
              " ('I', 'NN'),\n",
              " ('do', 'NN'),\n",
              " ('not', 'NN'),\n",
              " ('like', 'NN'),\n",
              " ('them', 'NN'),\n",
              " ('Sam', 'NN'),\n",
              " ('I', 'NN'),\n",
              " ('am', 'NN'),\n",
              " ('!', 'NN')]"
            ]
          },
          "metadata": {
            "tags": []
          },
          "execution_count": 73
        }
      ]
    },
    {
      "cell_type": "code",
      "metadata": {
        "id": "LTwetXNVx5gO",
        "colab_type": "code",
        "colab": {
          "base_uri": "https://localhost:8080/",
          "height": 34
        },
        "outputId": "061979d7-01ac-46bf-860d-8dce30f42126"
      },
      "source": [
        "default_tagger.evaluate(brown_tagged_sents)"
      ],
      "execution_count": 74,
      "outputs": [
        {
          "output_type": "execute_result",
          "data": {
            "text/plain": [
              "0.13089484257215028"
            ]
          },
          "metadata": {
            "tags": []
          },
          "execution_count": 74
        }
      ]
    },
    {
      "cell_type": "code",
      "metadata": {
        "id": "LPVQFxYEx7Dc",
        "colab_type": "code",
        "colab": {}
      },
      "source": [
        "patterns = [\n",
        "     (r'.*ing$', 'VBG'),                # gerunds\n",
        "     (r'.*ed$', 'VBD'),                 # simple past\n",
        "     (r'.*es$', 'VBZ'),                 # 3rd singular present\n",
        "     (r'.*ould$', 'MD'),                # modals\n",
        "     (r'.*\\'s$', 'NN$'),                # possessive nouns\n",
        "     (r'.*s$', 'NNS'),                  # plural nouns\n",
        "     (r'^-?[0-9]+(\\.[0-9]+)?$', 'CD'),  # cardinal numbers\n",
        "     (r'.*', 'NN')                      # nouns (default)\n",
        "]"
      ],
      "execution_count": 75,
      "outputs": []
    },
    {
      "cell_type": "code",
      "metadata": {
        "id": "lhych08xyDcl",
        "colab_type": "code",
        "colab": {
          "base_uri": "https://localhost:8080/",
          "height": 646
        },
        "outputId": "6f2071c9-c9b1-4676-a535-aa9039a12305"
      },
      "source": [
        "regexp_tagger = nltk.RegexpTagger(patterns)\n",
        "regexp_tagger.tag(brown_sents[3])"
      ],
      "execution_count": 76,
      "outputs": [
        {
          "output_type": "execute_result",
          "data": {
            "text/plain": [
              "[('``', 'NN'),\n",
              " ('Only', 'NN'),\n",
              " ('a', 'NN'),\n",
              " ('relative', 'NN'),\n",
              " ('handful', 'NN'),\n",
              " ('of', 'NN'),\n",
              " ('such', 'NN'),\n",
              " ('reports', 'NNS'),\n",
              " ('was', 'NNS'),\n",
              " ('received', 'VBD'),\n",
              " (\"''\", 'NN'),\n",
              " (',', 'NN'),\n",
              " ('the', 'NN'),\n",
              " ('jury', 'NN'),\n",
              " ('said', 'NN'),\n",
              " (',', 'NN'),\n",
              " ('``', 'NN'),\n",
              " ('considering', 'VBG'),\n",
              " ('the', 'NN'),\n",
              " ('widespread', 'NN'),\n",
              " ('interest', 'NN'),\n",
              " ('in', 'NN'),\n",
              " ('the', 'NN'),\n",
              " ('election', 'NN'),\n",
              " (',', 'NN'),\n",
              " ('the', 'NN'),\n",
              " ('number', 'NN'),\n",
              " ('of', 'NN'),\n",
              " ('voters', 'NNS'),\n",
              " ('and', 'NN'),\n",
              " ('the', 'NN'),\n",
              " ('size', 'NN'),\n",
              " ('of', 'NN'),\n",
              " ('this', 'NNS'),\n",
              " ('city', 'NN'),\n",
              " (\"''\", 'NN'),\n",
              " ('.', 'NN')]"
            ]
          },
          "metadata": {
            "tags": []
          },
          "execution_count": 76
        }
      ]
    },
    {
      "cell_type": "code",
      "metadata": {
        "id": "uBdr_lYSyFZi",
        "colab_type": "code",
        "colab": {
          "base_uri": "https://localhost:8080/",
          "height": 34
        },
        "outputId": "b085a9f5-7c78-46ab-8264-347f92727292"
      },
      "source": [
        "fd = nltk.FreqDist(brown.words(categories='news'))\n",
        "cfd = nltk.ConditionalFreqDist(brown.tagged_words(categories='news'))\n",
        "most_freq_words = fd.most_common(100)\n",
        "likely_tags = dict((word, cfd[word].max()) for (word, _) in most_freq_words)\n",
        "baseline_tagger = nltk.UnigramTagger(model=likely_tags)\n",
        "baseline_tagger.evaluate(brown_tagged_sents)"
      ],
      "execution_count": 77,
      "outputs": [
        {
          "output_type": "execute_result",
          "data": {
            "text/plain": [
              "0.45578495136941344"
            ]
          },
          "metadata": {
            "tags": []
          },
          "execution_count": 77
        }
      ]
    },
    {
      "cell_type": "code",
      "metadata": {
        "id": "2NeB9rDByKVK",
        "colab_type": "code",
        "colab": {
          "base_uri": "https://localhost:8080/",
          "height": 646
        },
        "outputId": "a3f458ae-51ab-4505-b655-842bc05d0919"
      },
      "source": [
        "sent = brown.sents(categories='news')[3]\n",
        "baseline_tagger.tag(sent)"
      ],
      "execution_count": 78,
      "outputs": [
        {
          "output_type": "execute_result",
          "data": {
            "text/plain": [
              "[('``', '``'),\n",
              " ('Only', None),\n",
              " ('a', 'AT'),\n",
              " ('relative', None),\n",
              " ('handful', None),\n",
              " ('of', 'IN'),\n",
              " ('such', None),\n",
              " ('reports', None),\n",
              " ('was', 'BEDZ'),\n",
              " ('received', None),\n",
              " (\"''\", \"''\"),\n",
              " (',', ','),\n",
              " ('the', 'AT'),\n",
              " ('jury', None),\n",
              " ('said', 'VBD'),\n",
              " (',', ','),\n",
              " ('``', '``'),\n",
              " ('considering', None),\n",
              " ('the', 'AT'),\n",
              " ('widespread', None),\n",
              " ('interest', None),\n",
              " ('in', 'IN'),\n",
              " ('the', 'AT'),\n",
              " ('election', None),\n",
              " (',', ','),\n",
              " ('the', 'AT'),\n",
              " ('number', None),\n",
              " ('of', 'IN'),\n",
              " ('voters', None),\n",
              " ('and', 'CC'),\n",
              " ('the', 'AT'),\n",
              " ('size', None),\n",
              " ('of', 'IN'),\n",
              " ('this', 'DT'),\n",
              " ('city', None),\n",
              " (\"''\", \"''\"),\n",
              " ('.', '.')]"
            ]
          },
          "metadata": {
            "tags": []
          },
          "execution_count": 78
        }
      ]
    },
    {
      "cell_type": "code",
      "metadata": {
        "id": "BEm8BmMVyMy9",
        "colab_type": "code",
        "colab": {}
      },
      "source": [
        "baseline_tagger = nltk.UnigramTagger(model=likely_tags,\n",
        "                                    backoff=nltk.DefaultTagger('NN'))\n"
      ],
      "execution_count": 79,
      "outputs": []
    },
    {
      "cell_type": "code",
      "metadata": {
        "id": "TEo6gIQMyQuk",
        "colab_type": "code",
        "colab": {}
      },
      "source": [
        "def performance(cfd, wordlist):\n",
        "    lt = dict((word, cfd[word].max()) for word in wordlist)\n",
        "    baseline_tagger = nltk.UnigramTagger(model=lt, backoff=nltk.DefaultTagger('NN'))\n",
        "    return baseline_tagger.evaluate(brown.tagged_sents(categories='news'))\n",
        "\n",
        "def display():\n",
        "    import pylab\n",
        "    word_freqs = nltk.FreqDist(brown.words(categories='news')).most_common()\n",
        "    words_by_freq = [w for (w, _) in word_freqs]\n",
        "    cfd = nltk.ConditionalFreqDist(brown.tagged_words(categories='news'))\n",
        "    sizes = 2 ** pylab.arange(15)\n",
        "    perfs = [performance(cfd, words_by_freq[:size]) for size in sizes]\n",
        "    pylab.plot(sizes, perfs, '-bo')\n",
        "    pylab.title('Lookup Tagger Performance with Varying Model Size')\n",
        "    pylab.xlabel('Model Size')\n",
        "    pylab.ylabel('Performance')\n",
        "    pylab.show()\n"
      ],
      "execution_count": 80,
      "outputs": []
    },
    {
      "cell_type": "code",
      "metadata": {
        "id": "m2q6D9OdyXXW",
        "colab_type": "code",
        "colab": {
          "base_uri": "https://localhost:8080/",
          "height": 374
        },
        "outputId": "7d7ecf5e-8872-4413-eba7-256619e474d7"
      },
      "source": [
        "from nltk.corpus import brown\n",
        "brown_tagged_sents = brown.tagged_sents(categories='news')\n",
        "brown_sents = brown.sents(categories='news')\n",
        "unigram_tagger = nltk.UnigramTagger(brown_tagged_sents)\n",
        "unigram_tagger.tag(brown_sents[2007])"
      ],
      "execution_count": 81,
      "outputs": [
        {
          "output_type": "execute_result",
          "data": {
            "text/plain": [
              "[('Various', 'JJ'),\n",
              " ('of', 'IN'),\n",
              " ('the', 'AT'),\n",
              " ('apartments', 'NNS'),\n",
              " ('are', 'BER'),\n",
              " ('of', 'IN'),\n",
              " ('the', 'AT'),\n",
              " ('terrace', 'NN'),\n",
              " ('type', 'NN'),\n",
              " (',', ','),\n",
              " ('being', 'BEG'),\n",
              " ('on', 'IN'),\n",
              " ('the', 'AT'),\n",
              " ('ground', 'NN'),\n",
              " ('floor', 'NN'),\n",
              " ('so', 'QL'),\n",
              " ('that', 'CS'),\n",
              " ('entrance', 'NN'),\n",
              " ('is', 'BEZ'),\n",
              " ('direct', 'JJ'),\n",
              " ('.', '.')]"
            ]
          },
          "metadata": {
            "tags": []
          },
          "execution_count": 81
        }
      ]
    },
    {
      "cell_type": "code",
      "metadata": {
        "id": "M8prkjymybid",
        "colab_type": "code",
        "colab": {
          "base_uri": "https://localhost:8080/",
          "height": 34
        },
        "outputId": "80702880-2cbe-4f24-929b-b8b2b51932f7"
      },
      "source": [
        "unigram_tagger.evaluate(brown_tagged_sents)"
      ],
      "execution_count": 82,
      "outputs": [
        {
          "output_type": "execute_result",
          "data": {
            "text/plain": [
              "0.9349006503968017"
            ]
          },
          "metadata": {
            "tags": []
          },
          "execution_count": 82
        }
      ]
    },
    {
      "cell_type": "code",
      "metadata": {
        "id": "yI2LjAqjyc_D",
        "colab_type": "code",
        "colab": {
          "base_uri": "https://localhost:8080/",
          "height": 34
        },
        "outputId": "723be1a6-ca24-47f5-e5b8-210f160b254d"
      },
      "source": [
        "size = int(len(brown_tagged_sents) * 0.9)\n",
        "size\n",
        "\n",
        "train_sents = brown_tagged_sents[:size]\n",
        "test_sents = brown_tagged_sents[size:]\n",
        "unigram_tagger = nltk.UnigramTagger(train_sents)\n",
        "unigram_tagger.evaluate(test_sents)"
      ],
      "execution_count": 83,
      "outputs": [
        {
          "output_type": "execute_result",
          "data": {
            "text/plain": [
              "0.8121200039868434"
            ]
          },
          "metadata": {
            "tags": []
          },
          "execution_count": 83
        }
      ]
    },
    {
      "cell_type": "code",
      "metadata": {
        "id": "3ofG0Yy5yg7R",
        "colab_type": "code",
        "colab": {
          "base_uri": "https://localhost:8080/",
          "height": 374
        },
        "outputId": "37e04435-ae64-4c53-a5c1-b7a75a150154"
      },
      "source": [
        "bigram_tagger = nltk.BigramTagger(train_sents)\n",
        "bigram_tagger.tag(brown_sents[2007])"
      ],
      "execution_count": 84,
      "outputs": [
        {
          "output_type": "execute_result",
          "data": {
            "text/plain": [
              "[('Various', 'JJ'),\n",
              " ('of', 'IN'),\n",
              " ('the', 'AT'),\n",
              " ('apartments', 'NNS'),\n",
              " ('are', 'BER'),\n",
              " ('of', 'IN'),\n",
              " ('the', 'AT'),\n",
              " ('terrace', 'NN'),\n",
              " ('type', 'NN'),\n",
              " (',', ','),\n",
              " ('being', 'BEG'),\n",
              " ('on', 'IN'),\n",
              " ('the', 'AT'),\n",
              " ('ground', 'NN'),\n",
              " ('floor', 'NN'),\n",
              " ('so', 'CS'),\n",
              " ('that', 'CS'),\n",
              " ('entrance', 'NN'),\n",
              " ('is', 'BEZ'),\n",
              " ('direct', 'JJ'),\n",
              " ('.', '.')]"
            ]
          },
          "metadata": {
            "tags": []
          },
          "execution_count": 84
        }
      ]
    },
    {
      "cell_type": "code",
      "metadata": {
        "id": "xOVoOx9DykBD",
        "colab_type": "code",
        "colab": {
          "base_uri": "https://localhost:8080/",
          "height": 476
        },
        "outputId": "316a7a7e-a46e-4387-9b43-d567d0ae65d9"
      },
      "source": [
        "unseen_sent = brown_sents[4203]\n",
        "bigram_tagger.tag(unseen_sent)"
      ],
      "execution_count": 85,
      "outputs": [
        {
          "output_type": "execute_result",
          "data": {
            "text/plain": [
              "[('The', 'AT'),\n",
              " ('population', 'NN'),\n",
              " ('of', 'IN'),\n",
              " ('the', 'AT'),\n",
              " ('Congo', 'NP'),\n",
              " ('is', 'BEZ'),\n",
              " ('13.5', None),\n",
              " ('million', None),\n",
              " (',', None),\n",
              " ('divided', None),\n",
              " ('into', None),\n",
              " ('at', None),\n",
              " ('least', None),\n",
              " ('seven', None),\n",
              " ('major', None),\n",
              " ('``', None),\n",
              " ('culture', None),\n",
              " ('clusters', None),\n",
              " (\"''\", None),\n",
              " ('and', None),\n",
              " ('innumerable', None),\n",
              " ('tribes', None),\n",
              " ('speaking', None),\n",
              " ('400', None),\n",
              " ('separate', None),\n",
              " ('dialects', None),\n",
              " ('.', None)]"
            ]
          },
          "metadata": {
            "tags": []
          },
          "execution_count": 85
        }
      ]
    },
    {
      "cell_type": "code",
      "metadata": {
        "id": "7h-DYZHIyl7x",
        "colab_type": "code",
        "colab": {
          "base_uri": "https://localhost:8080/",
          "height": 34
        },
        "outputId": "109dd39e-75f2-4646-e737-3949d4560873"
      },
      "source": [
        "bigram_tagger.evaluate(test_sents)"
      ],
      "execution_count": 86,
      "outputs": [
        {
          "output_type": "execute_result",
          "data": {
            "text/plain": [
              "0.10206319146815508"
            ]
          },
          "metadata": {
            "tags": []
          },
          "execution_count": 86
        }
      ]
    },
    {
      "cell_type": "code",
      "metadata": {
        "id": "QYMbl8esyoig",
        "colab_type": "code",
        "colab": {
          "base_uri": "https://localhost:8080/",
          "height": 34
        },
        "outputId": "cbd7df76-ac63-4a2f-d6be-6bf44a7039b8"
      },
      "source": [
        "t0 = nltk.DefaultTagger('NN')\n",
        "t1 = nltk.UnigramTagger(train_sents, backoff=t0)\n",
        "t2 = nltk.BigramTagger(train_sents, backoff=t1)\n",
        "t2.evaluate(test_sents)"
      ],
      "execution_count": 87,
      "outputs": [
        {
          "output_type": "execute_result",
          "data": {
            "text/plain": [
              "0.8452108043456593"
            ]
          },
          "metadata": {
            "tags": []
          },
          "execution_count": 87
        }
      ]
    },
    {
      "cell_type": "code",
      "metadata": {
        "id": "Trf-q7IIzD2c",
        "colab_type": "code",
        "colab": {}
      },
      "source": [
        "from pickle import dump\n",
        "output = open('t2.pkl', 'wb')\n",
        "dump(t2, output, -1)\n",
        "output.close()"
      ],
      "execution_count": 88,
      "outputs": []
    },
    {
      "cell_type": "code",
      "metadata": {
        "id": "5-bnzi1JzGdH",
        "colab_type": "code",
        "colab": {}
      },
      "source": [
        "from pickle import load\n",
        "input = open('t2.pkl', 'rb')\n",
        "tagger = load(input)\n",
        "input.close()"
      ],
      "execution_count": 89,
      "outputs": []
    },
    {
      "cell_type": "code",
      "metadata": {
        "id": "AoVXiKACzJB9",
        "colab_type": "code",
        "colab": {
          "base_uri": "https://localhost:8080/",
          "height": 323
        },
        "outputId": "958d32a3-eb75-46eb-dc38-68f0e5a6845e"
      },
      "source": [
        "text = \"\"\"The board's action shows what free enterprise\n",
        "     is up against in our complex maze of regulatory laws .\"\"\"\n",
        "tokens = text.split()\n",
        "tagger.tag(tokens)"
      ],
      "execution_count": 90,
      "outputs": [
        {
          "output_type": "execute_result",
          "data": {
            "text/plain": [
              "[('The', 'AT'),\n",
              " (\"board's\", 'NN$'),\n",
              " ('action', 'NN'),\n",
              " ('shows', 'NNS'),\n",
              " ('what', 'WDT'),\n",
              " ('free', 'JJ'),\n",
              " ('enterprise', 'NN'),\n",
              " ('is', 'BEZ'),\n",
              " ('up', 'RP'),\n",
              " ('against', 'IN'),\n",
              " ('in', 'IN'),\n",
              " ('our', 'PP$'),\n",
              " ('complex', 'JJ'),\n",
              " ('maze', 'NN'),\n",
              " ('of', 'IN'),\n",
              " ('regulatory', 'NN'),\n",
              " ('laws', 'NNS'),\n",
              " ('.', '.')]"
            ]
          },
          "metadata": {
            "tags": []
          },
          "execution_count": 90
        }
      ]
    },
    {
      "cell_type": "code",
      "metadata": {
        "id": "GgL3AiW-zLaB",
        "colab_type": "code",
        "colab": {
          "base_uri": "https://localhost:8080/",
          "height": 34
        },
        "outputId": "9a7ffacc-a6ca-48d5-fe78-9d8085b78464"
      },
      "source": [
        "cfd = nltk.ConditionalFreqDist(\n",
        "            ((x[1], y[1], z[0]), z[1])\n",
        "            for sent in brown_tagged_sents\n",
        "            for x, y, z in nltk.trigrams(sent))\n",
        "ambiguous_contexts = [c for c in cfd.conditions() if len(cfd[c]) > 1]\n",
        "sum(cfd[c].N() for c in ambiguous_contexts) / cfd.N()"
      ],
      "execution_count": 91,
      "outputs": [
        {
          "output_type": "execute_result",
          "data": {
            "text/plain": [
              "0.049297702068029296"
            ]
          },
          "metadata": {
            "tags": []
          },
          "execution_count": 91
        }
      ]
    },
    {
      "cell_type": "code",
      "metadata": {
        "id": "6f-lPzyfzPUU",
        "colab_type": "code",
        "colab": {
          "base_uri": "https://localhost:8080/",
          "height": 1000
        },
        "outputId": "997caf91-3617-4a22-dd15-cef55d56914c"
      },
      "source": [
        "test_tags = [tag for sent in brown.sents(categories='editorial')\n",
        "                  for (word, tag) in t2.tag(sent)]\n",
        "gold_tags = [tag for (word, tag) in brown.tagged_words(categories='editorial')]\n",
        "print(nltk.ConfusionMatrix(gold_tags, test_tags)) "
      ],
      "execution_count": 92,
      "outputs": [
        {
          "output_type": "stream",
          "text": [
            "           |                                                                                                                                                                                                                                                                                                                                                                                                                                                                                                                                                                                                                                                                                                                                                                                                                                                                                                                                                                                                                                  W                                         |\n",
            "           |                                                                                                                                                                                                                                                                                                                                                                                                                                                                                                                                                                                                                       N                                                                                                                                                                                                                                                                                                                                                                            V                             D                                         |\n",
            "           |                                                                                                                                                                                                                                                                                                                                                   F              F         F         F                                                                                                        J                                                                                         N                             N                                                                                                                                                                                        P    P         P                                                                                                                                                                    B                             T                                         |\n",
            "           |                                                                                                                                                                                                                                                                                                                                                   W              W         W         W                                                                                                        J                                                                                         N              N              S                                            N                                                                                                                       P    P              P    P    P    P    P    P    P                                                                                                                                                     N                        W    +                                         |\n",
            "           |                                                                                         A                                                                                              B    B              B    B                                                                                    D         D                        E         -              -         -         -    F         F    F         F    F                                                                     -         J    J         J         J                                  N    N              -              N    N    N    -              N    N    N                   P    N    N              N                                                 P    P         P              P    P         P    P    P         S    S    P    S    P    P    P                                                                                              V                   V         V    V         V    V    -         V    V         D    B    W              W              W      |\n",
            "           |                                                 -                                       B                   A    A         A    A         B              B                             E    E              E    E         C    C         C    C         C              D    D                        O         T                        X    F    A    F    F    I    F    J    F    N    W    F    W    W    F    W    W                                       I    I    I         J    J    T         J    J         J         J              M    M              N    N    N    N    T              S    N    N    T              P    P    P    N    N         S    P    P              R    N              O              P              P    P         P              P    P         S    S    P         S    S    S    S    S    S    S         Q                   R    R    R                        R         T         U         B    V    V         B         B    B         B    B    T         B    B         T    E    D              P              R      |\n",
            "           |                             *         ,         -         .         :    :              N                   P    P         T    T         E         B    E                        B    R    R         B    Z    Z         C    C         D    D         S              O    O         D         D    Z         +                        +    W    T    W    W    N    W    J    W    N    -    W    -    -    W    -    -                             H         N    N    N         J    J    L         R    R         S         T              D    D              $    $    N    N    L         N    $    S    S    L              $    $    +    P    P         $    S    S              $    R              D              N         P    $    $         L    P         O    O         +    +    S    P    +    +    S    +    S    S    S         L                   B    B    B                        P         O         H         +    B    B         D         G    G         N    N    L         Z    Z         +    Z    T              O              B      |\n",
            "           |                             -         -         -         -         -    -    A    A    -    A         A    -    -         -    -         -    B    E    D    B    B    B    B    E    -    -    B    E    -    -         -    -         -    -         -         D    -    -    D    O    D    O    -         B    D    D    D         B    -    -    -    -    -    -    -    -    -    N    -    P    P    -    V    W         H    H    H    H    V         -    -    -         -    -    -    J    -    -    J    -    J    -         M    -    -         N    -    -    -    -    -    N    N    -    -    -    -         N    -    -    B    -    -    N    -    -    -         N    -    -    N         -         P    -    P    P    -    -    P    -    P    P    -    -    P    B    H    +    P    B    B    +    H    +    -    -         -    Q         R    -    -    -    R    R              -         -         -         P    -    -    V    -    V    -    -    V    -    -    -    V    -    -    W    B    -    -    W    W    -    W    W    -      |\n",
            "           |         '                   H         H    -    H         H         H    T    B    B    T    B    A    P    H    T    A    H    T    B    H    E    D    Z    E    E    E    E    R    H    T    E    Z    H    T    C    H    T    C    H    T    C    H    D    O    H    T    O    D    O    Z    H    D    E    T    T    T    E    E    A    T    C    I    T    J    T    N    T    N    N    P    P    V    B    D    H    V    V    V    V    Z    I    H    N    T    J    H    T    H    J    H    T    J    T    J    H    M    D    H    T    N    N    H    T    H    T    H    N    S    T    H    T    H    N    P    H    T    E    H    T    P    H    H    T    N    R    T    T    R    O    T    P    N    H    P    $    H    T    P    H    L    P    H    T    P    E    V    M    S    E    E    H    V    M    H    T    Q    H    L    R    B    H    N    T    B    B    R    R    H    T    H    U    H    V    P    H    T    B    H    B    H    T    B    H    T    H    B    H    T    D    E    H    H    P    P    T    P    R    H    ` |\n",
            "           |    '    '    (    )    *    L    ,    L    -    L    .    L    :    L    L    L    N    L    X    P    $    L    L    T    L    L    E    L    D    Z    *    G    M    N    R    *    L    L    Z    *    L    L    C    L    L    D    L    L    S    L    O    *    L    L    D    *    Z    *    L    T    Z    I    S    X    X    Z    T    L    C    N    L    J    L    N    L    S    P    L    O    B    Z    T    V    D    G    N    Z    *    N    L    C    L    J    L    L    L    R    L    L    S    L    T    L    D    *    L    L    N    $    L    L    L    L    L    S    $    L    L    L    L    P    $    L    L    Z    L    L    S    L    L    L    R    $    L    L    S    D    L    N    $    L    $    $    L    L    L    L    S    O    L    L    S    Z    Z    D    S    M    R    V    D    D    L    L    L    L    P    B    $    L    C    L    R    T    N    P    L    O    L    H    L    B    O    L    L    D    L    G    L    L    N    L    L    L    Z    L    L    T    Z    L    L    $    O    L    S    B    L    ` |\n",
            "-----------+----------------------------------------------------------------------------------------------------------------------------------------------------------------------------------------------------------------------------------------------------------------------------------------------------------------------------------------------------------------------------------------------------------------------------------------------------------------------------------------------------------------------------------------------------------------------------------------------------------------------------------------------------------------------------------------------------------------------------------------------------------------------------------------------------------------------------------------------------------------------------------------------------------------------------------------------------------------------------------------------------------------------------------------------------------------------------+\n",
            "         ' |  <19>   .    .    .    .    .    .    .    .    .    .    .    .    .    .    .    .    .    .    .    .    .    .    .    .    .    .    .    .    .    .    .    .    .    .    .    .    .    .    .    .    .    .    .    .    .    .    .    .    .    .    .    .    .    .    .    .    .    .    .    .    .    .    .    .    .    .    .    .    .    .    .    .    .    .    .    .    .    .    .    .    .    .    .    .    .    .    .    .    .    .    .    .    .    .    .    .    .    .    .    .    .    .    .    .    .    .    .    .    .    .    .    .    .    .    .    .    .    .    .    .    .    .    .    .    .    .    .    .    .    .    .    .    .    .    .    .    .    .    .    .    .    .    .    .    .    .    .    .    .    .    .    .    .    .    .    .    .    .    .    .    .    .    .    .    .    .    .    .    .    .    .    .    .    .    .    .    .    .    .    .    .    .    .    .    .    .    .    .    .    .    .    .    .    .    .    .    .    .    .    .    .    .    .    .    .    . |\n",
            "        '' |    . <382>   .    .    .    .    .    .    .    .    .    .    .    .    .    .    .    .    .    .    .    .    .    .    .    .    .    .    .    .    .    .    .    .    .    .    .    .    .    .    .    .    .    .    .    .    .    .    .    .    .    .    .    .    .    .    .    .    .    .    .    .    .    .    .    .    .    .    .    .    .    .    .    .    .    .    .    .    .    .    .    .    .    .    .    .    .    .    .    .    .    .    .    .    .    .    .    .    .    .    .    .    .    .    .    .    .    .    .    .    .    .    .    .    .    .    .    .    .    .    .    .    .    .    .    .    .    .    .    .    .    .    .    .    .    .    .    .    .    .    .    .    .    .    .    .    .    .    .    .    .    .    .    .    .    .    .    .    .    .    .    .    .    .    .    .    .    .    .    .    .    .    .    .    .    .    .    .    .    .    .    .    .    .    .    .    .    .    .    .    .    .    .    .    .    .    .    .    .    .    .    .    .    .    .    .    . |\n",
            "         ( |    .    .  <95>   .    .    .    .    .    .    .    .    .    .    .    .    .    .    .    .    .    .    .    .    .    .    .    .    .    .    .    .    .    .    .    .    .    .    .    .    .    .    .    .    .    .    .    .    .    .    .    .    .    .    .    .    .    .    .    .    .    .    .    .    .    .    .    .    .    .    .    .    .    .    .    .    .    .    .    .    .    .    .    .    .    .    .    .    .    .    .    .    .    .    .    .    .    .    .    .    .    .    .    .    .    .    .    .    .    .    .    .    .    .    .    .    .    .    .    .    .    .    .    .    .    .    .    .    .    .    .    .    .    .    .    .    .    .    .    .    .    .    .    .    .    .    .    .    .    .    .    .    .    .    .    .    .    .    .    .    .    .    .    .    .    .    .    .    .    .    .    .    .    .    .    .    .    .    .    .    .    .    .    .    .    .    .    .    .    .    .    .    .    .    .    .    .    .    .    .    .    .    .    .    .    .    .    . |\n",
            "         ) |    .    .    .  <95>   .    .    .    .    .    .    .    .    .    .    .    .    .    .    .    .    .    .    .    .    .    .    .    .    .    .    .    .    .    .    .    .    .    .    .    .    .    .    .    .    .    .    .    .    .    .    .    .    .    .    .    .    .    .    .    .    .    .    .    .    .    .    .    .    .    .    .    .    .    .    .    .    .    .    .    .    .    .    .    .    .    .    .    .    .    .    .    .    .    .    .    .    .    .    .    .    .    .    .    .    .    .    .    .    .    .    .    .    .    .    .    .    .    .    .    .    .    .    .    .    .    .    .    .    .    .    .    .    .    .    .    .    .    .    .    .    .    .    .    .    .    .    .    .    .    .    .    .    .    .    .    .    .    .    .    .    .    .    .    .    .    .    .    .    .    .    .    .    .    .    .    .    .    .    .    .    .    .    .    .    .    .    .    .    .    .    .    .    .    .    .    .    .    .    .    .    .    .    .    .    .    .    . |\n",
            "         * |    .    .    .    . <304>   .    .    .    .    .    .    .    .    .    .    .    .    .    .    .    .    .    .    .    .    .    .    .    .    .    .    .    .    .    .    .    .    .    .    .    .    .    .    .    .    .    .    .    .    .    .    .    .    .    .    .    .    .    .    .    .    .    .    .    .    .    .    .    .    .    .    .    .    .    .    .    .    .    .    .    .    .    .    .    .    .    .    .    .    .    .    .    .    .    .    .    .    .    .    .    .    .    .    .    .    .    .    .    .    .    .    .    .    .    .    .    .    .    .    .    .    .    .    .    .    .    .    .    .    .    .    .    .    .    .    .    .    .    .    .    .    .    .    .    .    .    .    .    .    .    .    .    .    .    .    .    .    .    .    .    .    .    .    .    .    .    .    .    .    .    .    .    .    .    .    .    .    .    .    .    .    .    .    .    .    .    .    .    .    .    .    .    .    .    .    .    .    .    .    .    .    .    .    .    .    .    . |\n",
            "      *-HL |    .    .    .    .    3   <.>   .    .    .    .    .    .    .    .    .    .    .    .    .    .    .    .    .    .    .    .    .    .    .    .    .    .    .    .    .    .    .    .    .    .    .    .    .    .    .    .    .    .    .    .    .    .    .    .    .    .    .    .    .    .    .    .    .    .    .    .    .    .    .    .    .    .    .    .    .    .    .    .    .    .    .    .    .    .    .    .    .    .    .    .    .    .    .    .    .    .    .    .    .    .    .    .    .    .    .    .    .    .    .    .    .    .    .    .    .    .    .    .    .    .    .    .    .    .    .    .    .    .    .    .    .    .    .    .    .    .    .    .    .    .    .    .    .    .    .    .    .    .    .    .    .    .    .    .    .    .    .    .    .    .    .    .    .    .    .    .    .    .    .    .    .    .    .    .    .    .    .    .    .    .    .    .    .    .    .    .    .    .    .    .    .    .    .    .    .    .    .    .    .    .    .    .    .    .    .    .    . |\n",
            "         , |    .    .    .    .    .    .<2735>   6    .    .    .    .    .    .    .    .    .    .    .    .    .    .    .    .    .    .    .    .    .    .    .    .    .    .    .    .    .    .    .    .    .    .    .    .    .    .    .    .    .    .    .    .    .    .    .    .    .    .    .    .    .    .    .    .    .    .    .    .    .    .    .    .    .    .    .    .    .    .    .    .    .    .    .    .    .    .    .    .    .    .    .    .    .    .    .    .    .    .    .    .    .    .    .    .    .    .    .    .    .    .    .    .    .    .    .    .    .    .    .    .    .    .    .    .    .    .    .    .    .    .    .    .    .    .    .    .    .    .    .    .    .    .    .    .    .    .    .    .    .    .    .    .    .    .    .    .    .    .    .    .    .    .    .    .    .    .    .    .    .    .    .    .    .    .    .    .    .    .    .    .    .    .    .    .    .    .    .    .    .    .    .    .    .    .    .    .    .    .    .    .    .    .    .    .    .    .    . |\n",
            "      ,-HL |    .    .    .    .    .    .   22   <3>   .    .    .    .    .    .    .    .    .    .    .    .    .    .    .    .    .    .    .    .    .    .    .    .    .    .    .    .    .    .    .    .    .    .    .    .    .    .    .    .    .    .    .    .    .    .    .    .    .    .    .    .    .    .    .    .    .    .    .    .    .    .    .    .    .    .    .    .    .    .    .    .    .    .    .    .    .    .    .    .    .    .    .    .    .    .    .    .    .    .    .    .    .    .    .    .    .    .    .    .    .    .    .    .    .    .    .    .    .    .    .    .    .    .    .    .    .    .    .    .    .    .    .    .    .    .    .    .    .    .    .    .    .    .    .    .    .    .    .    .    .    .    .    .    .    .    .    .    .    .    .    .    .    .    .    .    .    .    .    .    .    .    .    .    .    .    .    .    .    .    .    .    .    .    .    .    .    .    .    .    .    .    .    .    .    .    .    .    .    .    .    .    .    .    .    .    .    .    . |\n",
            "        -- |    .    .    .    .    .    .    .    . <191>   .    .    .    .    .    .    .    .    .    .    .    .    .    .    .    .    .    .    .    .    .    .    .    .    .    .    .    .    .    .    .    .    .    .    .    .    .    .    .    .    .    .    .    .    .    .    .    .    .    .    .    .    .    .    .    .    .    .    .    .    .    .    .    .    .    .    .    .    .    .    .    .    .    .    .    .    .    .    .    .    .    .    .    .    .    .    .    .    .    .    .    .    .    .    .    .    .    .    .    .    .    .    .    .    .    .    .    .    .    .    .    .    .    .    .    .    .    .    .    .    .    .    .    .    .    .    .    .    .    .    .    .    .    .    .    .    .    .    .    .    .    .    .    .    .    .    .    .    .    .    .    .    .    .    .    .    .    .    .    .    .    .    .    .    .    .    .    .    .    .    .    .    .    .    .    .    .    .    .    .    .    .    .    .    .    .    .    .    .    .    .    .    .    .    .    .    .    . |\n",
            "     ---HL |    .    .    .    .    .    .    .    .    1   <.>   .    .    .    .    .    .    .    .    .    .    .    .    .    .    .    .    .    .    .    .    .    .    .    .    .    .    .    .    .    .    .    .    .    .    .    .    .    .    .    .    .    .    .    .    .    .    .    .    .    .    .    .    .    .    .    .    .    .    .    .    .    .    .    .    .    .    .    .    .    .    .    .    .    .    .    .    .    .    .    .    .    .    .    .    .    .    .    .    .    .    .    .    .    .    .    .    .    .    .    .    .    .    .    .    .    .    .    .    .    .    .    .    .    .    .    .    .    .    .    .    .    .    .    .    .    .    .    .    .    .    .    .    .    .    .    .    .    .    .    .    .    .    .    .    .    .    .    .    .    .    .    .    .    .    .    .    .    .    .    .    .    .    .    .    .    .    .    .    .    .    .    .    .    .    .    .    .    .    .    .    .    .    .    .    .    .    .    .    .    .    .    .    .    .    .    .    . |\n",
            "         . |    .    .    .    .    .    .    .    .    .    .<2976>   4    8    .    .    .    .    .    .    .    .    .    .    .    .    .    .    .    .    .    .    .    .    .    .    .    .    .    .    .    .    .    .    .    .    .    .    .    .    .    .    .    .    .    .    .    .    .    .    .    .    .    .    .    .    .    .    .    .    .    .    .    .    .    .    .    .    .    .    .    .    .    .    .    .    .    .    .    .    .    .    .    .    .    .    .    .    .    .    .    .    .    .    .    .    .    .    .    .    .    .    .    .    .    .    .    .    .    .    .    .    .    .    .    .    .    .    .    .    .    .    .    .    .    .    .    .    .    .    .    .    .    .    .    .    .    .    .    .    .    .    .    .    .    .    .    .    .    .    .    .    .    .    .    .    .    .    .    .    .    .    .    .    .    .    .    .    .    .    .    .    .    .    .    .    .    .    .    .    .    .    .    .    .    .    .    .    .    .    .    .    .    .    .    .    .    . |\n",
            "      .-HL |    .    .    .    .    .    .    .    .    .    .   20   <1>   .    .    .    .    .    .    .    .    .    .    .    .    .    .    .    .    .    .    .    .    .    .    .    .    .    .    .    .    .    .    .    .    .    .    .    .    .    .    .    .    .    .    .    .    .    .    .    .    .    .    .    .    .    .    .    .    .    .    .    .    .    .    .    .    .    .    .    .    .    .    .    .    .    .    .    .    .    .    .    .    .    .    .    .    .    .    .    .    .    .    .    .    .    .    .    .    .    .    .    .    .    .    .    .    .    .    .    .    .    .    .    .    .    .    .    .    .    .    .    .    .    .    .    .    .    .    .    .    .    .    .    .    .    .    .    .    .    .    .    .    .    .    .    .    .    .    .    .    .    .    .    .    .    .    .    .    .    .    .    .    .    .    .    .    .    .    .    .    .    .    .    .    .    .    .    .    .    .    .    .    .    .    .    .    .    .    .    .    .    .    .    .    .    .    . |\n",
            "         : |    .    .    .    .    .    .    .    .    .    .    .    . <108>   .    .    .    .    .    .    .    .    .    .    .    .    .    .    .    .    .    .    .    .    .    .    .    .    .    .    .    .    .    .    .    .    .    .    .    .    .    .    .    .    .    .    .    .    .    .    .    .    .    .    .    .    .    .    .    .    .    .    .    .    .    .    .    .    .    .    .    .    .    .    .    .    .    .    .    .    .    .    .    .    .    .    .    .    .    .    .    .    .    .    .    .    .    .    .    .    .    .    .    .    .    .    .    .    .    .    .    .    .    .    .    .    .    .    .    .    .    .    .    .    .    .    .    .    .    .    .    .    .    .    .    .    .    .    .    .    .    .    .    .    .    .    .    .    .    .    .    .    .    .    .    .    .    .    .    .    .    .    .    .    .    .    .    .    .    .    .    .    .    .    .    .    .    .    .    .    .    .    .    .    .    .    .    .    .    .    .    .    .    .    .    .    .    . |\n",
            "      :-HL |    .    .    .    .    .    .    .    .    .    .    .    .   36   <.>   .    .    .    .    .    .    .    .    .    .    .    .    .    .    .    .    .    .    .    .    .    .    .    .    .    .    .    .    .    .    .    .    .    .    .    .    .    .    .    .    .    .    .    .    .    .    .    .    .    .    .    .    .    .    .    .    .    .    .    .    .    .    .    .    .    .    .    .    .    .    .    .    .    .    .    .    .    .    .    .    .    .    .    .    .    .    .    .    .    .    .    .    .    .    .    .    .    .    .    .    .    .    .    .    .    .    .    .    .    .    .    .    .    .    .    .    .    .    .    .    .    .    .    .    .    .    .    .    .    .    .    .    .    .    .    .    .    .    .    .    .    .    .    .    .    .    .    .    .    .    .    .    .    .    .    .    .    .    .    .    .    .    .    .    .    .    .    .    .    .    .    .    .    .    .    .    .    .    .    .    .    .    .    .    .    .    .    .    .    .    .    .    . |\n",
            "      :-TL |    .    .    .    .    .    .    .    .    .    .    .    .    1    .   <.>   .    .    .    .    .    .    .    .    .    .    .    .    .    .    .    .    .    .    .    .    .    .    .    .    .    .    .    .    .    .    .    .    .    .    .    .    .    .    .    .    .    .    .    .    .    .    .    .    .    .    .    .    .    .    .    .    .    .    .    .    .    .    .    .    .    .    .    .    .    .    .    .    .    .    .    .    .    .    .    .    .    .    .    .    .    .    .    .    .    .    .    .    .    .    .    .    .    .    .    .    .    .    .    .    .    .    .    .    .    .    .    .    .    .    .    .    .    .    .    .    .    .    .    .    .    .    .    .    .    .    .    .    .    .    .    .    .    .    .    .    .    .    .    .    .    .    .    .    .    .    .    .    .    .    .    .    .    .    .    .    .    .    .    .    .    .    .    .    .    .    .    .    .    .    .    .    .    .    .    .    .    .    .    .    .    .    .    .    .    .    .    . |\n",
            "       ABL |    .    .    .    .    .    .    .    .    .    .    .    .    .    .    .   <2>   .    .    .    .    .    .    .    .    .    .    .    .    .    .    .    .    .    .    .    .    .    .    .    .    .    .    .    .    .    .    .    .    .    .    .    .    .    .    .    .    .    .    .    .    .    .    .    .    .    .    .    .    .    .    .    .    .    .    .    .    .    .    .    .    .    .    .    .    .    .    .    .    .    .    .    .   12    .    .    .    .    .    .    .    .    .    .    .    .    .    .    .    .    .    .    .    .    .    .    .    .    .    .    .    .    .    .    .    .    .    .    .    .    .    .    .    .    .    .    .    .    .    .    .    .    .    .    .    .    .    .    .    .    .    .    .    .    .    .    .    .    .    .    .    .    .    .    .    .    .    1    .    .    .    .    .    .    .    .    .    .    .    .    .    .    .    .    .    .    .    .    .    .    .    .    .    .    .    .    .    .    .    .    .    .    .    .    .    .    .    . |\n",
            "       ABN |    .    .    .    .    .    .    .    .    .    .    .    .    .    .    .    . <150>   .    .    .    .    .    .    .    .    .    .    .    .    .    .    .    .    .    .    .    .    .    .    .    .    .    .    .    .    .    .    .    .    .    .    .    .    .    .    .    .    .    .    .    .    .    .    .    .    .    .    .    .    .    .    .    .    .    .    .    .    .    .    .    .    .    .    .    .    .    .    .    .    .    .    .    .    .    .    .    .    .    .    .    .    .    .    .    .    .    .    2    .    .    .    .    .    .    .    .    .    .    .    .    .    .    .    .    .    .    .    .    .    .    .    .    .    .    .    .    .    .    .    .    .    .    .    .    .    .    .    .    .    .    .    .    .    .    .    .    .    .    .    .    .    .    .    1    .    .    .    .    .    .    .    .    .    .    .    .    .    .    .    .    .    .    .    .    .    .    .    .    .    .    .    .    .    .    .    .    .    .    .    .    .    .    .    .    .    .    . |\n",
            "    ABN-TL |    .    .    .    .    .    .    .    .    .    .    .    .    .    .    .    .    2   <.>   .    .    .    .    .    .    .    .    .    .    .    .    .    .    .    .    .    .    .    .    .    .    .    .    .    .    .    .    .    .    .    .    .    .    .    .    .    .    .    .    .    .    .    .    .    .    .    .    .    .    .    .    .    .    .    .    .    .    .    .    .    .    .    .    .    .    .    .    .    .    .    .    .    .    .    .    .    .    .    .    .    .    .    .    .    .    .    .    .    .    .    .    .    .    .    .    .    .    .    .    .    .    .    .    .    .    .    .    .    .    .    .    .    .    .    .    .    .    .    .    .    .    .    .    .    .    .    .    .    .    .    .    .    .    .    .    .    .    .    .    .    .    .    .    .    .    .    .    .    .    .    .    .    .    .    .    .    .    .    .    .    .    .    .    .    .    .    .    .    .    .    .    .    .    .    .    .    .    .    .    .    .    .    .    .    .    .    .    . |\n",
            "       ABX |    .    .    .    .    .    .    .    .    .    .    .    .    .    .    .    .    .    .  <30>   .    .    .    .    .    .    .    .    .    .    .    .    .    .    .    .    .    .    .    .    .    .    .    .    .    .    .    .    .    .    .    .    .    .    .    .    .    .    .    .    .    .    .    .    .    .    .    .    .    .    .    .    .    .    .    .    .    .    .    .    .    .    .    .    .    .    .    .    .    .    .    .    .    .    .    .    .    .    .    .    .    .    .    .    .    .    .    .    .    .    .    .    .    .    .    .    .    .    .    .    .    .    .    .    .    .    .    .    .    .    .    .    .    .    .    .    .    .    .    .    .    .    .    .    .    .    .    .    .    .    .    .    .    .    .    .    .    .    .    .    .    .    .    .    .    .    .    .    .    .    .    .    .    .    .    .    .    .    .    .    .    .    .    .    .    .    .    .    .    .    .    .    .    .    .    .    .    .    .    .    .    .    .    .    .    .    .    . |\n",
            "        AP |    .    .    .    .    .    .    .    .    .    .    .    .    .    .    .    .    .    .    . <533>   .    .    .    .    .    .    .    .    .    .    .    .    .    .    .    .    .    .    .    .    .    .    .    .    .    .    .    .    .    .    .    .    .    .    .    .    .    .    .    .    .    .    .    .    .    .    .    .    .    .    .    .    .    .    .    .    .    .    .    .    .    .    .    .    .    .    .    .    2    .    .    .    1    .    .    .    1    .    .    .    .    .    .    .    .    .    .   18    .    .    .    .    .    .    .    .    .    .    .    .    .    .    .    .    .    .    .    .    .    .    .    .    .    .    .    .    .    .    .    .    .    .    .    .    .    .    .    .    .    .    .    .    .    .    .    .    .    .    .    .    .    .    .   39    .    1    4    .    .    .    .    4    .    .    .    .    .    .    .    .    .    .    .    .    .    .    .    .    .    .    .    .    .    .    .    .    .    .    .    .    .    .    .    .    .    .    . |\n",
            "       AP$ |    .    .    .    .    .    .    .    .    .    .    .    .    .    .    .    .    .    .    .    .   <1>   .    .    .    .    .    .    .    .    .    .    .    .    .    .    .    .    .    .    .    .    .    .    .    .    .    .    .    .    .    .    .    .    .    .    .    .    .    .    .    .    .    .    .    .    .    .    .    .    .    .    .    .    .    .    .    .    .    .    .    .    .    .    .    .    .    .    .    .    .    .    .    .    .    .    .    .    .    .    .    .    .    .    .    .    .    .    .    .    .    .    .    .    .    .    .    .    .    .    .    .    .    .    .    .    .    .    .    .    .    .    .    .    .    .    .    .    .    .    .    .    .    .    .    .    .    .    .    .    .    .    .    .    .    .    .    .    .    .    .    .    .    .    .    .    .    .    .    .    .    .    .    .    .    .    .    .    .    .    .    .    .    .    .    .    .    .    .    .    .    .    .    .    .    .    .    .    .    .    .    .    .    .    .    .    .    . |\n",
            "     AP-HL |    .    .    .    .    .    .    .    .    .    .    .    .    .    .    .    .    .    .    .    4    .   <.>   .    .    .    .    .    .    .    .    .    .    .    .    .    .    .    .    .    .    .    .    .    .    .    .    .    .    .    .    .    .    .    .    .    .    .    .    .    .    .    .    .    .    .    .    .    .    .    .    .    .    .    .    .    .    .    .    .    .    .    .    .    .    .    .    .    .    .    .    .    .    .    .    .    .    .    .    .    .    .    .    .    .    .    .    .    .    .    .    .    .    .    .    .    .    .    .    .    .    .    .    .    .    .    .    .    .    .    .    .    .    .    .    .    .    .    .    .    .    .    .    .    .    .    .    .    .    .    .    .    .    .    .    .    .    .    .    .    .    .    .    .    2    .    .    .    .    .    .    .    .    .    .    .    .    .    .    .    .    .    .    .    .    .    .    .    .    .    .    .    .    .    .    .    .    .    .    .    .    .    .    .    .    .    .    . |\n",
            "     AP-TL |    .    .    .    .    .    .    .    .    .    .    .    .    .    .    .    .    .    .    .    1    .    .   <.>   .    .    .    .    .    .    .    .    .    .    .    .    .    .    .    .    .    .    .    .    .    .    .    .    .    .    .    .    .    .    .    .    .    .    .    .    .    .    .    .    .    .    .    .    .    .    .    .    .    .    .    .    .    .    .    .    .    .    .    .    .    .    .    .    .    .    .    .    .    .    .    .    .    .    .    .    .    .    .    .    .    .    .    .    .    .    .    .    .    .    .    .    .    .    .    .    .    .    .    .    .    .    .    .    .    .    .    .    .    .    .    .    .    .    .    .    .    .    .    .    .    .    .    .    .    .    .    .    .    .    .    .    .    .    .    .    .    .    .    .    .    .    .    .    .    .    .    .    .    .    .    .    .    .    .    .    .    .    .    .    .    .    .    .    .    .    .    .    .    .    .    .    .    .    .    .    .    .    .    .    .    .    .    . |\n",
            "        AT |    .    .    .    .    .    .    .    .    .    .    .    .    .    .    .    .    .    .    .    .    .    .    .<5299>   3    4    .    .    .    .    .    .    .    .    .    .    .    .    .    .    .    .    .    .    .    .    .    .    .    .    .    .    .    .    .    .    .    .    .    .    .    .    .    .    .    .    .    .    .    .    .    .    .    .    .    .    .    .    .    .    .    .    .    .    .    .    .    .    .    .    .    .    .    .    .    .    .    .    .    .    .    .    .    .    .    .    .    .    .    .    .    .    .    .    .    .    .    .    .    .    .    .    .    .    .    .    .    .    .    .    .    .    .    .    .    .    .    .    .    .    .    .    .    .    .    .    .    .    .    .    .    .    .    .    .    .    .    .    .    .    .    .    .    .    .    .    5    .    .    .    .    .    .    .    .    .    .    .    .    .    .    .    .    .    .    .    .    .    .    .    .    .    .    .    .    .    .    .    .    .    .    .    .    .    .    .    . |\n",
            "     AT-HL |    .    .    .    .    .    .    .    .    .    .    .    .    .    .    .    .    .    .    .    .    .    .    .   93   <.>   2    .    .    .    .    .    .    .    .    .    .    .    .    .    .    .    .    .    .    .    .    .    .    .    .    .    .    .    .    .    .    .    .    .    .    .    .    .    .    .    .    .    .    .    .    .    .    .    .    .    .    .    .    .    .    .    .    .    .    .    .    .    .    .    .    .    .    .    .    .    .    .    .    .    .    .    .    .    .    .    .    .    .    .    .    .    .    .    .    .    .    .    .    .    .    .    .    .    .    .    .    .    .    .    .    .    .    .    .    .    .    .    .    .    .    .    .    .    .    .    .    .    .    .    .    .    .    .    .    .    .    .    .    .    .    .    .    .    .    .    .    .    .    .    .    .    .    .    .    .    .    .    .    .    .    .    .    .    .    .    .    .    .    .    .    .    .    .    .    .    .    .    .    .    .    .    .    .    .    .    .    . |\n",
            "     AT-TL |    .    .    .    .    .    .    .    .    .    .    .    .    .    .    .    .    .    .    .    .    .    .    .   30    .  <13>   .    .    .    .    .    .    .    .    .    .    .    .    .    .    .    .    .    .    .    .    .    .    .    .    .    .    .    .    .    .    .    .    .    .    .    .    .    .    .    .    .    .    .    .    .    .    .    .    .    .    .    .    .    .    .    .    .    .    .    .    .    .    .    .    .    .    .    .    .    .    .    .    .    .    .    .    .    .    .    .    .    .    .    .    .    .    .    .    .    .    .    .    .    .    .    .    .    .    .    .    .    .    .    .    .    .    .    .    .    .    .    .    .    .    .    .    .    .    .    .    .    .    .    .    .    .    .    .    .    .    .    .    .    .    .    .    .    .    .    .    .    .    .    .    .    .    .    .    .    .    .    .    .    .    .    .    .    .    .    .    .    .    .    .    .    .    .    .    .    .    .    .    .    .    .    .    .    .    .    .    . |\n",
            "        BE |    .    .    .    .    .    .    .    .    .    .    .    .    .    .    .    .    .    .    .    .    .    .    .    .    .    . <420>   .    .    .    .    .    .    .    .    .    .    .    .    .    .    .    .    .    .    .    .    .    .    .    .    .    .    .    .    .    .    .    .    .    .    .    .    .    .    .    .    .    .    .    .    .    .    .    .    .    .    .    .    .    .    .    .    .    .    .    .    .    .    .    .    .    .    .    .    .    .    .    .    .    .    .    .    .    .    .    .    1    .    .    .    .    .    .    .    .    .    .    .    .    .    .    .    .    .    .    .    .    .    .    .    .    .    .    .    .    .    .    .    .    .    .    .    .    .    .    .    .    .    .    .    .    .    .    .    .    .    .    .    .    .    .    .    .    .    .    .    .    .    .    .    .    .    .    .    .    .    .    .    .    .    .    .    .    .    .    .    .    .    .    .    .    .    .    .    .    .    .    .    .    .    .    .    .    .    .    . |\n",
            "     BE-HL |    .    .    .    .    .    .    .    .    .    .    .    .    .    .    .    .    .    .    .    .    .    .    .    .    .    .    1   <.>   .    .    .    .    .    .    .    .    .    .    .    .    .    .    .    .    .    .    .    .    .    .    .    .    .    .    .    .    .    .    .    .    .    .    .    .    .    .    .    .    .    .    .    .    .    .    .    .    .    .    .    .    .    .    .    .    .    .    .    .    .    .    .    .    .    .    .    .    .    .    .    .    .    .    .    .    .    .    .    .    .    .    .    .    .    .    .    .    .    .    .    .    .    .    .    .    .    .    .    .    .    .    .    .    .    .    .    .    .    .    .    .    .    .    .    .    .    .    .    .    .    .    .    .    .    .    .    .    .    .    .    .    .    .    .    .    .    .    .    .    .    .    .    .    .    .    .    .    .    .    .    .    .    .    .    .    .    .    .    .    .    .    .    .    .    .    .    .    .    .    .    .    .    .    .    .    .    .    . |\n",
            "       BED |    .    .    .    .    .    .    .    .    .    .    .    .    .    .    .    .    .    .    .    .    .    .    .    .    .    .    .    . <109>   .    .    .    .    .    .    .    .    .    .    .    .    .    .    .    .    .    .    .    .    .    .    .    .    .    .    .    .    .    .    .    .    .    .    .    .    .    .    .    .    .    .    .    .    .    .    .    .    .    .    .    .    .    .    .    .    .    .    .    .    .    .    .    .    .    .    .    .    .    .    .    .    .    .    .    .    .    .    .    .    .    .    .    .    .    .    .    .    .    .    .    .    .    .    .    .    .    .    .    .    .    .    .    .    .    .    .    .    .    .    .    .    .    .    .    .    .    .    .    .    .    .    .    .    .    .    .    .    .    .    .    .    .    .    .    .    .    .    .    .    .    .    .    .    .    .    .    .    .    .    .    .    .    .    .    .    .    .    .    .    .    .    .    .    .    .    .    .    .    .    .    .    .    .    .    .    .    . |\n",
            "      BEDZ |    .    .    .    .    .    .    .    .    .    .    .    .    .    .    .    .    .    .    .    .    .    .    .    .    .    .    .    .    . <308>   .    .    .    .    .    .    .    .    .    .    .    .    .    .    .    .    .    .    .    .    .    .    .    .    .    .    .    .    .    .    .    .    .    .    .    .    .    .    .    .    .    .    .    .    .    .    .    .    .    .    .    .    .    .    .    .    .    .    .    .    .    .    .    .    .    .    .    .    .    .    .    .    .    .    .    .    .    2    .    .    .    .    .    .    .    .    .    .    .    .    .    .    .    .    .    .    .    .    .    .    .    .    .    .    .    .    .    .    .    .    .    .    .    .    .    .    .    .    .    .    .    .    .    .    .    .    .    .    .    .    .    .    .    .    .    .    .    .    .    .    .    .    .    .    .    .    .    .    .    .    .    .    .    .    .    .    .    .    .    .    .    .    .    .    .    .    .    .    .    .    .    .    .    .    .    .    . |\n",
            "     BEDZ* |    .    .    .    .    .    .    .    .    .    .    .    .    .    .    .    .    .    .    .    .    .    .    .    .    .    .    .    .    .    .   <2>   .    .    .    .    .    .    .    .    .    .    .    .    .    .    .    .    .    .    .    .    .    .    .    .    .    .    .    .    .    .    .    .    .    .    .    .    .    .    .    .    .    .    .    .    .    .    .    .    .    .    .    .    .    .    .    .    .    .    .    .    .    .    .    .    .    .    .    .    .    .    .    .    .    .    .    .    .    .    .    .    .    .    .    .    .    .    .    .    .    .    .    .    .    .    .    .    .    .    .    .    .    .    .    .    .    .    .    .    .    .    .    .    .    .    .    .    .    .    .    .    .    .    .    .    .    .    .    .    .    .    .    .    .    .    .    .    .    .    .    .    .    .    .    .    .    .    .    .    .    .    .    .    .    .    .    .    .    .    .    .    .    .    .    .    .    .    .    .    .    .    .    .    .    .    .    . |\n",
            "       BEG |    .    .    .    .    .    .    .    .    .    .    .    .    .    .    .    .    .    .    .    .    .    .    .    .    .    .    .    .    .    .    .  <45>   .    .    .    .    .    .    .    .    .    .    .    .    .    .    .    .    .    .    .    .    .    .    .    .    .    .    .    .    .    .    .    .    .    .    .    .    .    .    .    .    .    .    .    .    .    .    .    .    .    .    .    .    .    .    .    .    .    .    .    .    .    .    .    .    .    .    .    .    .    .    .    .    .    .    .    .    .    .    .    .    .    .    .    .    .    .    .    .    .    .    .    .    .    .    .    .    .    .    .    .    .    .    .    .    .    .    .    .    .    .    .    .    .    .    .    .    .    .    .    .    .    .    .    .    .    .    .    .    .    .    .    .    .    .    .    .    .    .    .    .    .    .    .    .    .    .    .    .    .    .    .    .    .    .    .    .    .    .    .    .    .    .    .    .    .    .    .    .    .    .    .    .    .    .    . |\n",
            "       BEM |    .    .    .    .    .    .    .    .    .    .    .    .    .    .    .    .    .    .    .    .    .    .    .    .    .    .    .    .    .    .    .    .  <19>   .    .    .    .    .    .    .    .    .    .    .    .    .    .    .    .    .    .    .    .    .    .    .    .    .    .    .    .    .    .    .    .    .    .    .    .    .    .    .    .    .    .    .    .    .    .    .    .    .    .    .    .    .    .    .    .    .    .    .    .    .    .    .    .    .    .    .    .    .    .    .    .    .    .    .    .    .    .    .    .    .    .    .    .    .    .    .    .    .    .    .    .    .    .    .    .    .    .    .    .    .    .    .    .    .    .    .    .    .    .    .    .    .    .    .    .    .    .    .    .    .    .    .    .    .    .    .    .    .    .    .    .    .    .    .    .    .    .    .    .    .    .    .    .    .    .    .    .    .    .    .    .    .    .    .    .    .    .    .    .    .    .    .    .    .    .    .    .    .    .    .    .    .    . |\n",
            "       BEN |    .    .    .    .    .    .    .    .    .    .    .    .    .    .    .    .    .    .    .    .    .    .    .    .    .    .    .    .    .    .    .    .    . <151>   .    .    .    .    .    .    .    .    .    .    .    .    .    .    .    .    .    .    .    .    .    .    .    .    .    .    .    .    .    .    .    .    .    .    .    .    .    .    .    .    .    .    .    .    .    .    .    .    .    .    .    .    .    .    .    .    .    .    .    .    .    .    .    .    .    .    .    .    .    .    .    .    .    .    .    .    .    .    .    .    .    .    .    .    .    .    .    .    .    .    .    .    .    .    .    .    .    .    .    .    .    .    .    .    .    .    .    .    .    .    .    .    .    .    .    .    .    .    .    .    .    .    .    .    .    .    .    .    .    .    .    .    .    .    .    .    .    .    .    .    .    .    .    .    .    .    .    .    .    .    .    .    .    .    .    .    .    .    .    .    .    .    .    .    .    .    .    .    .    .    .    .    . |\n",
            "       BER |    .    .    .    .    .    .    .    .    .    .    .    .    .    .    .    .    .    .    .    .    .    .    .    .    .    .    .    .    .    .    .    .    .    . <292>   .    1    4    .    .    .    .    .    .    .    .    .    .    .    .    .    .    .    .    .    .    .    .    .    .    .    .    .    .    .    .    .    .    .    .    .    .    .    .    .    .    .    .    .    .    .    .    .    .    .    .    .    .    .    .    .    .    .    .    .    .    .    .    .    .    .    .    .    .    .    .    .    .    .    .    .    .    .    .    .    .    .    .    .    .    .    .    .    .    .    .    .    .    .    .    .    .    .    .    .    .    .    .    .    .    .    .    .    .    .    .    .    .    .    .    .    .    .    .    .    .    .    .    .    .    .    .    .    .    .    .    .    .    .    .    .    .    .    .    .    .    .    .    .    .    .    .    .    .    .    .    .    .    .    .    .    .    .    .    .    .    .    .    .    .    .    .    .    .    .    .    . |\n",
            "      BER* |    .    .    .    .    .    .    .    .    .    .    .    .    .    .    .    .    .    .    .    .    .    .    .    .    .    .    .    .    .    .    .    .    .    .    .   <3>   .    .    .    .    .    .    .    .    .    .    .    .    .    .    .    .    .    .    .    .    .    .    .    .    .    .    .    .    .    .    .    .    .    .    .    .    .    .    .    .    .    .    .    .    .    .    .    .    .    .    .    .    .    .    .    .    .    .    .    .    .    .    .    .    .    .    .    .    .    .    .    2    .    .    .    .    .    .    .    .    .    .    .    .    .    .    .    .    .    .    .    .    .    .    .    .    .    .    .    .    .    .    .    .    .    .    .    .    .    .    .    .    .    .    .    .    .    .    .    .    .    .    .    .    .    .    .    .    .    .    .    .    .    .    .    .    .    .    .    .    .    .    .    .    .    .    .    .    .    .    .    .    .    .    .    .    .    .    .    .    .    .    .    .    .    .    .    .    .    .    . |\n",
            "    BER-HL |    .    .    .    .    .    .    .    .    .    .    .    .    .    .    .    .    .    .    .    .    .    .    .    .    .    .    .    .    .    .    .    .    .    .    1    .   <.>   .    .    .    .    .    .    .    .    .    .    .    .    .    .    .    .    .    .    .    .    .    .    .    .    .    .    .    .    .    .    .    .    .    .    .    .    .    .    .    .    .    .    .    .    .    .    .    .    .    .    .    .    .    .    .    .    .    .    .    .    .    .    .    .    .    .    .    .    .    .    .    .    .    .    .    .    .    .    .    .    .    .    .    .    .    .    .    .    .    .    .    .    .    .    .    .    .    .    .    .    .    .    .    .    .    .    .    .    .    .    .    .    .    .    .    .    .    .    .    .    .    .    .    .    .    .    .    .    .    .    .    .    .    .    .    .    .    .    .    .    .    .    .    .    .    .    .    .    .    .    .    .    .    .    .    .    .    .    .    .    .    .    .    .    .    .    .    .    .    . |\n",
            "    BER-TL |    .    .    .    .    .    .    .    .    .    .    .    .    .    .    .    .    .    .    .    .    .    .    .    .    .    .    .    .    .    .    .    .    .    .    .    .    .   <.>   .    .    .    .    .    .    .    .    .    .    .    .    .    .    .    .    .    .    .    .    .    .    .    .    .    .    .    .    .    .    .    .    .    .    .    .    .    .    .    .    .    .    .    .    .    .    .    .    .    .    .    .    .    .    .    .    .    .    .    .    .    .    .    .    .    .    .    .    .    .    .    .    .    .    .    .    .    .    .    .    .    .    .    .    .    .    .    .    .    .    .    .    .    .    .    .    .    .    .    .    .    .    .    .    .    .    .    .    .    .    .    .    .    .    .    .    .    .    .    .    .    .    .    .    .    .    .    .    .    .    .    .    .    .    .    .    .    .    .    .    .    .    .    .    .    .    .    .    .    .    .    .    .    .    .    .    .    .    .    .    .    .    .    .    .    .    .    .    . |\n",
            "       BEZ |    .    .    .    .    .    .    .    .    .    .    .    .    .    .    .    .    .    .    .    .    .    .    .    .    .    .    .    .    .    .    .    .    .    .    .    .    .    . <749>   .    .    .    .    .    .    .    .    .    .    .    .    .    .    .    .    .    .    .    .    .    .    .    .    .    .    .    .    .    .    .    .    .    .    .    .    .    .    .    .    .    .    .    .    .    .    .    .    .    .    .    .    .    .    .    .    .    .    .    .    .    .    .    .    .    .    .    .    .    .    .    .    .    .    .    .    .    .    .    .    .    .    .    .    .    .    .    .    .    .    .    .    .    .    .    .    .    .    .    .    .    .    .    .    .    .    .    .    .    .    .    .    .    .    .    .    .    .    .    .    .    .    .    .    .    .    .    .    .    .    .    .    .    .    .    .    .    .    .    .    .    .    .    .    .    .    .    .    .    .    .    .    .    .    .    .    .    .    .    .    .    .    .    .    .    .    .    . |\n",
            "      BEZ* |    .    .    .    .    .    .    .    .    .    .    .    .    .    .    .    .    .    .    .    .    .    .    .    .    .    .    .    .    .    .    .    .    .    .    .    .    .    .    .   <7>   .    .    .    .    .    .    .    .    .    .    .    .    .    .    .    .    .    .    .    .    .    .    .    .    .    .    .    .    .    .    .    .    .    .    .    .    .    .    .    .    .    .    .    .    .    .    .    .    .    .    .    .    .    .    .    .    .    .    .    .    .    .    .    .    .    .    .    .    .    .    .    .    .    .    .    .    .    .    .    .    .    .    .    .    .    .    .    .    .    .    .    .    .    .    .    .    .    .    .    .    .    .    .    .    .    .    .    .    .    .    .    .    .    .    .    .    .    .    .    .    .    .    .    .    .    .    .    .    .    .    .    .    .    .    .    .    .    .    .    .    .    .    .    .    .    .    .    .    .    .    .    .    .    .    .    .    .    .    .    .    .    .    .    .    .    .    . |\n",
            "    BEZ-HL |    .    .    .    .    .    .    .    .    .    .    .    .    .    .    .    .    .    .    .    .    .    .    .    .    .    .    .    .    .    .    .    .    .    .    .    .    .    .    2    .   <.>   .    .    .    .    .    .    .    .    .    .    .    .    .    .    .    .    .    .    .    .    .    .    .    .    .    .    .    .    .    .    .    .    .    .    .    .    .    .    .    .    .    .    .    .    .    .    .    .    .    .    .    .    .    .    .    .    .    .    .    .    .    .    .    .    .    .    .    .    .    .    .    .    .    .    .    .    .    .    .    .    .    .    .    .    .    .    .    .    .    .    .    .    .    .    .    .    .    .    .    .    .    .    .    .    .    .    .    .    .    .    .    .    .    .    .    .    .    .    .    .    .    .    .    .    .    .    .    .    .    .    .    .    .    .    .    .    .    .    .    .    .    .    .    .    .    .    .    .    .    .    .    .    .    .    .    .    .    .    .    .    .    .    .    .    .    . |\n",
            "    BEZ-TL |    .    .    .    .    .    .    .    .    .    .    .    .    .    .    .    .    .    .    .    .    .    .    .    .    .    .    .    .    .    .    .    .    .    .    .    .    .    .    1    .    .   <.>   .    .    .    .    .    .    .    .    .    .    .    .    .    .    .    .    .    .    .    .    .    .    .    .    .    .    .    .    .    .    .    .    .    .    .    .    .    .    .    .    .    .    .    .    .    .    .    .    .    .    .    .    .    .    .    .    .    .    .    .    .    .    .    .    .    .    .    .    .    .    .    .    .    .    .    .    .    .    .    .    .    .    .    .    .    .    .    .    .    .    .    .    .    .    .    .    .    .    .    .    .    .    .    .    .    .    .    .    .    .    .    .    .    .    .    .    .    .    .    .    .    .    .    .    .    .    .    .    .    .    .    .    .    .    .    .    .    .    .    .    .    .    .    .    .    .    .    .    .    .    .    .    .    .    .    .    .    .    .    .    .    .    .    .    . |\n",
            "        CC |    .    .    .    .    .    .    .    .    .    .    .    .    .    .    .    .    .    .    .    .    .    .    .    .    .    .    .    .    .    .    .    .    .    .    .    .    .    .    .    .    .    .<1818>   1    3    .    .    .    .    .    .    .    .    .    .    .    .    .    .    .    .    .    .    3    .    .    .    .    .    .    .    .    .    .    .    .    .    .    .    .    .    .    .    .    .    .    .    .    2    .    .    .    .    .    .    .    .    .    .    .    .    .    .    .    .    .    .    1    .    .    .    .    .    .    .    .    .    .    .    .    .    .    .    .    .    .    .    .    .    .    .    .    .    .    .    .    .    .    .    .    .    .    .    .    .    .    .    .    .    .    .    .    .    .    .    .    .    .    .    .    .    .    .    .    .    .    7    .    .    .    .    .    .    .    .    .    .    .    .    .    .    .    .    .    .    .    .    .    .    .    .    .    .    .    .    .    .    .    .    .    .    .    .    .    .    .    . |\n",
            "     CC-HL |    .    .    .    .    .    .    .    .    .    .    .    .    .    .    .    .    .    .    .    .    .    .    .    .    .    .    .    .    .    .    .    .    .    .    .    .    .    .    .    .    .    .    7   <.>   .    .    .    .    .    .    .    .    .    .    .    .    .    .    .    .    .    .    .    .    .    .    .    .    .    .    .    .    .    .    .    .    .    .    .    .    .    .    .    .    .    .    .    .    .    .    .    .    .    .    .    .    .    .    .    .    .    .    .    .    .    .    .    .    .    .    .    .    .    .    .    .    .    .    .    .    .    .    .    .    .    .    .    .    .    .    .    .    .    .    .    .    .    .    .    .    .    .    .    .    .    .    .    .    .    .    .    .    .    .    .    .    .    .    .    .    .    .    .    .    .    .    .    .    .    .    .    .    .    .    .    .    .    .    .    .    .    .    .    .    .    .    .    .    .    .    .    .    .    .    .    .    .    .    .    .    .    .    .    .    .    .    . |\n",
            "     CC-TL |    .    .    .    .    .    .    .    .    .    .    .    .    .    .    .    .    .    .    .    .    .    .    .    .    .    .    .    .    .    .    .    .    .    .    .    .    .    .    .    .    .    .   17    .   <3>   .    .    .    .    .    .    .    .    .    .    .    .    .    .    .    .    .    .    .    .    .    .    .    .    .    .    .    .    .    .    .    .    .    .    .    .    .    .    .    .    .    .    .    .    .    .    .    .    .    .    .    .    .    .    .    .    .    .    .    .    .    .    .    .    .    .    .    .    .    .    .    .    .    .    .    .    .    .    .    .    .    .    .    .    .    .    .    .    .    .    .    .    .    .    .    .    .    .    .    .    .    .    .    .    .    .    .    .    .    .    .    .    .    .    .    .    .    .    .    .    .    .    .    .    .    .    .    .    .    .    .    .    .    .    .    .    .    .    .    .    .    .    .    .    .    .    .    .    .    .    .    .    .    .    .    .    .    .    .    .    .    . |\n",
            "        CD |    .    .    .    .    .    .    .    .    .    .    .    .    .    .    .    .    .    .    .    .    .    .    .    .    .    .    .    .    .    .    .    .    .    .    .    .    .    .    .    .    .    .    .    .    . <591>   1    1    .    .    .    .    .    .    .    .    .    .    .    .    .    .    .    .    .    .    .    .    .    .    .    .    .    .    .    .    .    .    .    .    .    .    .    .    .    .    .    .    .    .    .    .    .    .    .    .    .    .    .    .    .    .    .    .    .    .    .   72    .    .    .    .    .    .    .    .    .    .    .    .    .    .    .    .    .    .    .    .    .    .    .    .    .    .    .    .    .    .    7    .    .    .    .    .    .    .    .    .    .    .    .    .    .    .    .    .    .    .    .    .    .    .    .    .    .    .    .    .    .    .    .    .    .    .    .    .    .    .    .    .    .    .    .    .    .    .    .    .    .    .    .    .    .    .    .    .    .    .    .    .    .    .    .    .    .    .    . |\n",
            "     CD-HL |    .    .    .    .    .    .    .    .    .    .    .    .    .    .    .    .    .    .    .    .    .    .    .    .    .    .    .    .    .    .    .    .    .    .    .    .    .    .    .    .    .    .    .    .    .   17   <1>   .    .    .    .    .    .    .    .    .    .    .    .    .    .    .    .    .    .    .    .    .    .    .    .    .    .    .    .    .    .    .    .    .    .    .    .    .    .    .    .    .    .    .    .    .    .    .    .    .    .    .    .    .    .    .    .    .    .    .    .    .    .    .    .    .    .    .    .    .    .    .    .    .    .    .    .    .    .    .    .    .    .    .    .    .    .    .    .    .    .    .    .    .    .    .    .    .    .    .    .    .    .    .    .    .    .    .    .    .    .    .    .    .    .    .    .    .    .    .    .    .    .    .    .    .    .    .    .    .    .    .    .    .    .    .    .    .    .    .    .    .    .    .    .    .    .    .    .    .    .    .    .    .    .    .    .    .    .    .    . |\n",
            "     CD-TL |    .    .    .    .    .    .    .    .    .    .    .    .    .    .    .    .    .    .    .    .    .    .    .    .    .    .    .    .    .    .    .    .    .    .    .    .    .    .    .    .    .    .    .    .    .   17    .  <10>   .    .    .    .    .    .    .    .    .    .    .    .    .    .    .    .    .    .    .    .    .    .    .    .    .    .    .    .    .    .    .    .    .    .    .    .    .    .    .    .    .    .    .    .    .    .    .    .    .    .    .    .    .    .    .    .    .    .    .    5    .    .    .    .    .    .    .    .    .    .    .    .    .    .    .    .    .    .    .    .    .    .    .    .    .    .    .    .    .    .    .    .    .    .    .    .    .    .    .    .    .    .    .    .    .    .    .    .    .    .    .    .    .    .    .    .    .    .    .    .    .    .    .    .    .    .    .    .    .    .    .    .    .    .    .    .    .    .    .    .    .    .    .    .    .    .    .    .    .    .    .    .    .    .    .    .    .    .    . |\n",
            "        CS |    .    .    .    .    .    .    .    .    .    .    .    .    .    .    .    .    .    .    .    .    .    .    .    .    .    .    .    .    .    .    .    .    .    .    .    .    .    .    .    .    .    .    .    .    .    .    .    .<1037>   .    .    .    .    .    .    .    .    .    .    7    .    .    .    .    .    .    .    .    .    .    .    .    .    .    .    .    .    .    .    .    .    .    .    .    .    .    .    .  102    .    .    1    .    .    .    .    .    .    .    .    .    .    .    .    .    .    .    7    .    .    .    .    .    .    .    .    .    .    .    .    .    .    .    .    .    .    .    .    .    .    .    .    .    .    .    .    .    .    .    .    .    .    .    .    .    .    .    .    .    .    .    .    .    .    .    .    .    .    .    .    .    .    .    6    .    .   15    .    .    .    .    .    .    .    .    .    .    .    .    .    .    .    .    .    .    .    .    .    .    .    .    .    .    .    .    .    .    .    .    .    .    .    .   19    .    .    . |\n",
            "     CS-HL |    .    .    .    .    .    .    .    .    .    .    .    .    .    .    .    .    .    .    .    .    .    .    .    .    .    .    .    .    .    .    .    .    .    .    .    .    .    .    .    .    .    .    .    .    .    .    .    .    2   <.>   .    .    .    .    .    .    .    .    .    .    .    .    .    .    .    .    .    .    .    .    .    .    .    .    .    .    .    .    .    .    .    .    .    .    .    .    .    .    1    .    .    .    .    .    .    .    .    .    .    .    .    .    .    .    .    .    .    .    .    .    .    .    .    .    .    .    .    .    .    .    .    .    .    .    .    .    .    .    .    .    .    .    .    .    .    .    .    .    .    .    .    .    .    .    .    .    .    .    .    .    .    .    .    .    .    .    .    .    .    .    .    .    .    .    .    .    .    .    .    .    .    .    .    .    .    .    .    .    .    .    .    .    .    .    .    .    .    .    .    .    .    .    .    .    .    .    .    .    .    .    .    .    .    .    .    .    . |\n",
            "        DO |    .    .    .    .    .    .    .    .    .    .    .    .    .    .    .    .    .    .    .    .    .    .    .    .    .    .    .    .    .    .    .    .    .    .    .    .    .    .    .    .    .    .    .    .    .    .    .    .    .    . <109>   .    .    .    .    .    .    .    .    .    .    .    .    .    .    .    .    .    .    .    .    .    .    .    .    .    .    .    .    .    .    .    .    .    .    .    .    .    .    .    .    .    .    .    .    .    .    .    .    .    .    .    .    .    .    .    .    .    .    .    .    .    .    .    .    .    .    .    .    .    .    .    .    .    .    .    .    .    .    .    .    .    .    .    .    .    .    .    .    .    .    .    .    .    .    .    .    .    .    .    .    .    .    .    .    .    .    .    .    .    .    .    .    .    .    .    .    .    .    .    .    .    .    .    .    .    .    .    .    .    .    .    .    .    .    .    .    .    .    .    .    .    .    .    .    .    .    .    .    .    .    .    .    .    .    .    . |\n",
            "       DO* |    .    .    .    .    .    .    .    .    .    .    .    .    .    .    .    .    .    .    .    .    .    .    .    .    .    .    .    .    .    .    .    .    .    .    .    .    .    .    .    .    .    .    .    .    .    .    .    .    .    .    .  <24>   .    .    .    .    .    .    .    .    .    .    .    .    .    .    .    .    .    .    .    .    .    .    .    .    .    .    .    .    .    .    .    .    .    .    .    .    .    .    .    .    .    .    .    .    .    .    .    .    .    .    .    .    .    .    .    .    .    .    .    .    .    .    .    .    .    .    .    .    .    .    .    .    .    .    .    .    .    .    .    .    .    .    .    .    .    .    .    .    .    .    .    .    .    .    .    .    .    .    .    .    .    .    .    .    .    .    .    .    .    .    .    .    .    .    .    .    .    .    .    .    .    .    .    .    .    .    .    .    .    .    .    .    .    .    .    .    .    .    .    .    .    .    .    .    .    .    .    .    .    .    .    .    .    .    . |\n",
            "     DO-HL |    .    .    .    .    .    .    .    .    .    .    .    .    .    .    .    .    .    .    .    .    .    .    .    .    .    .    .    .    .    .    .    .    .    .    .    .    .    .    .    .    .    .    .    .    .    .    .    .    .    .    1    .   <.>   .    .    .    .    .    .    .    .    .    .    .    .    .    .    .    .    .    .    .    .    .    .    .    .    .    .    .    .    .    .    .    .    .    .    .    .    .    .    .    .    .    .    .    .    .    .    .    .    .    .    .    .    .    .    .    .    .    .    .    .    .    .    .    .    .    .    .    .    .    .    .    .    .    .    .    .    .    .    .    .    .    .    .    .    .    .    .    .    .    .    .    .    .    .    .    .    .    .    .    .    .    .    .    .    .    .    .    .    .    .    .    .    .    .    .    .    .    .    .    .    .    .    .    .    .    .    .    .    .    .    .    .    .    .    .    .    .    .    .    .    .    .    .    .    .    .    .    .    .    .    .    .    .    . |\n",
            "     DO-TL |    .    .    .    .    .    .    .    .    .    .    .    .    .    .    .    .    .    .    .    .    .    .    .    .    .    .    .    .    .    .    .    .    .    .    .    .    .    .    .    .    .    .    .    .    .    .    .    .    .    .    1    .    .   <.>   .    .    .    .    .    .    .    .    .    .    .    .    .    .    .    .    .    .    .    .    .    .    .    .    .    .    .    .    .    .    .    .    .    .    .    .    .    .    .    .    .    .    .    .    .    .    .    .    .    .    .    .    .    .    .    .    .    .    .    .    .    .    .    .    .    .    .    .    .    .    .    .    .    .    .    .    .    .    .    .    .    .    .    .    .    .    .    .    .    .    .    .    .    .    .    .    .    .    .    .    .    .    .    .    .    .    .    .    .    .    .    .    .    .    .    .    .    .    .    .    .    .    .    .    .    .    .    .    .    .    .    .    .    .    .    .    .    .    .    .    .    .    .    .    .    .    .    .    .    .    .    .    . |\n",
            "       DOD |    .    .    .    .    .    .    .    .    .    .    .    .    .    .    .    .    .    .    .    .    .    .    .    .    .    .    .    .    .    .    .    .    .    .    .    .    .    .    .    .    .    .    .    .    .    .    .    .    .    .    .    .    .    .  <36>   .    .    .    .    .    .    .    .    .    .    .    .    .    .    .    .    .    .    .    .    .    .    .    .    .    .    .    .    .    .    .    .    .    .    .    .    .    .    .    .    .    .    .    .    .    .    .    .    .    .    .    .    .    .    .    .    .    .    .    .    .    .    .    .    .    .    .    .    .    .    .    .    .    .    .    .    .    .    .    .    .    .    .    .    .    .    .    .    .    .    .    .    .    .    .    .    .    .    .    .    .    .    .    .    .    .    .    .    .    .    .    .    .    .    .    .    .    .    .    .    .    .    .    .    .    .    .    .    .    .    .    .    .    .    .    .    .    .    .    .    .    .    .    .    .    .    .    .    .    .    .    . |\n",
            "      DOD* |    .    .    .    .    .    .    .    .    .    .    .    .    .    .    .    .    .    .    .    .    .    .    .    .    .    .    .    .    .    .    .    .    .    .    .    .    .    .    .    .    .    .    .    .    .    .    .    .    .    .    .    .    .    .    .   <5>   .    .    .    .    .    .    .    .    .    .    .    .    .    .    .    .    .    .    .    .    .    .    .    .    .    .    .    .    .    .    .    .    .    .    .    .    .    .    .    .    .    .    .    .    .    .    .    .    .    .    .    .    .    .    .    .    .    .    .    .    .    .    .    .    .    .    .    .    .    .    .    .    .    .    .    .    .    .    .    .    .    .    .    .    .    .    .    .    .    .    .    .    .    .    .    .    .    .    .    .    .    .    .    .    .    .    .    .    .    .    .    .    .    .    .    .    .    .    .    .    .    .    .    .    .    .    .    .    .    .    .    .    .    .    .    .    .    .    .    .    .    .    .    .    .    .    .    .    .    .    . |\n",
            "       DOZ |    .    .    .    .    .    .    .    .    .    .    .    .    .    .    .    .    .    .    .    .    .    .    .    .    .    .    .    .    .    .    .    .    .    .    .    .    .    .    .    .    .    .    .    .    .    .    .    .    .    .    .    .    .    .    .    .  <28>   .    .    .    .    .    .    .    .    .    .    .    .    .    .    .    .    .    .    .    .    .    .    .    .    .    .    .    .    .    .    .    .    .    .    .    .    .    .    .    .    .    .    .    .    .    .    .    .    .    .   15    .    .    .    .    .    .    .    .    .    .    .    .    .    .    .    .    .    .    .    .    .    .    .    .    .    .    .    .    .    .    .    .    .    .    .    .    .    .    .    .    .    .    .    .    .    .    .    .    .    .    .    .    .    .    .    .    .    .    .    .    .    .    .    .    .    .    .    .    .    .    .    .    .    .    .    .    .    .    .    .    .    .    .    .    .    .    .    .    .    .    .    .    .    .    .    .    .    .    . |\n",
            "      DOZ* |    .    .    .    .    .    .    .    .    .    .    .    .    .    .    .    .    .    .    .    .    .    .    .    .    .    .    .    .    .    .    .    .    .    .    .    .    .    .    .    .    .    .    .    .    .    .    .    .    .    .    .    .    .    .    .    .    .  <10>   .    .    .    .    .    .    .    .    .    .    .    .    .    .    .    .    .    .    .    .    .    .    .    .    .    .    .    .    .    .    .    .    .    .    .    .    .    .    .    .    .    .    .    .    .    .    .    .    .    .    .    .    .    .    .    .    .    .    .    .    .    .    .    .    .    .    .    .    .    .    .    .    .    .    .    .    .    .    .    .    .    .    .    .    .    .    .    .    .    .    .    .    .    .    .    .    .    .    .    .    .    .    .    .    .    .    .    .    .    .    .    .    .    .    .    .    .    .    .    .    .    .    .    .    .    .    .    .    .    .    .    .    .    .    .    .    .    .    .    .    .    .    .    .    .    .    .    .    . |\n",
            "    DOZ-HL |    .    .    .    .    .    .    .    .    .    .    .    .    .    .    .    .    .    .    .    .    .    .    .    .    .    .    .    .    .    .    .    .    .    .    .    .    .    .    .    .    .    .    .    .    .    .    .    .    .    .    .    .    .    .    .    .    1    .   <.>   .    .    .    .    .    .    .    .    .    .    .    .    .    .    .    .    .    .    .    .    .    .    .    .    .    .    .    .    .    .    .    .    .    .    .    .    .    .    .    .    .    .    .    .    .    .    .    .    .    .    .    .    .    .    .    .    .    .    .    .    .    .    .    .    .    .    .    .    .    .    .    .    .    .    .    .    .    .    .    .    .    .    .    .    .    .    .    .    .    .    .    .    .    .    .    .    .    .    .    .    .    .    .    .    .    .    .    .    .    .    .    .    .    .    .    .    .    .    .    .    .    .    .    .    .    .    .    .    .    .    .    .    .    .    .    .    .    .    .    .    .    .    .    .    .    .    .    . |\n",
            "        DT |    .    .    .    .    .    .    .    .    .    .    .    .    .    .    .    .    .    .    .    .    .    .    .    .    .    .    .    .    .    .    .    .    .    .    .    .    .    .    .    .    .    .    .    .    .    .    .    .   54    .    .    .    .    .    .    .    .    .    . <452>   .    .    .    .    .    .    .    .    .    .    .    .    .    .    .    .    .    .    .    .    .    .    .    .    .    .    .    .    .    .    .    .    .    .    .    .    .    .    .    .    .    .    .    .    .    .    .    .    .    .    .    .    .    .    .    .    .    .    .    .    .    .    .    .    .    .    .    .    .    .    .    .    .    .    .    .    .    .    .    .    .    .    .    .    .    .    .    .    .    .    .    .    .    .    .    .    .    .    .    .    .    .    .    .    .    .    .    .    .    .    .    .    .    .    .    .    .    .    .    .    .    .    .    .    .    .    .    .    .    .    .    .    .    .    .    .    .    .    .    .    .    .    .    1    .    .    . |\n",
            "    DT+BEZ |    .    .    .    .    .    .    .    .    .    .    .    .    .    .    .    .    .    .    .    .    .    .    .    .    .    .    .    .    .    .    .    .    .    .    .    .    .    .    .    .    .    .    .    .    .    .    .    .    .    .    .    .    .    .    .    .    .    .    .    .   <1>   .    .    .    .    .    .    .    .    .    .    .    .    .    .    .    .    .    .    .    .    .    .    .    .    .    .    .    .    .    .    .    .    .    .    .    .    .    .    .    .    .    .    .    .    .    .    .    .    .    .    .    .    .    .    .    .    .    .    .    .    .    .    .    .    .    .    .    .    .    .    .    .    .    .    .    .    .    .    .    .    .    .    .    .    .    .    .    .    .    .    .    .    .    .    .    .    .    .    .    .    .    .    .    .    .    .    .    .    .    .    .    .    .    .    .    .    .    .    .    .    .    .    .    .    .    .    .    .    .    .    .    .    .    .    .    .    .    .    .    .    .    .    .    .    .    . |\n",
            "       DTI |    .    .    .    .    .    .    .    .    .    .    .    .    .    .    .    .    .    .    .    .    .    .    .    .    .    .    .    .    .    .    .    .    .    .    .    .    .    .    .    .    .    .    .    .    .    .    .    .    .    .    .    .    .    .    .    .    .    .    .    .    . <187>   .    .    .    .    .    .    .    .    .    .    .    .    .    .    .    .    .    .    .    .    .    .    .    .    .    .    .    .    .    .    .    .    .    .    .    .    .    .    .    .    .    .    .    .    .    .    .    .    .    .    .    .    .    .    .    .    .    .    .    .    .    .    .    .    .    .    .    .    .    .    .    .    .    .    .    .    .    .    .    .    .    .    .    .    .    .    .    .    .    .    .    .    .    .    .    .    .    .    .    .    .    .    .    .    .    .    .    .    .    .    .    .    .    .    .    .    .    .    .    .    .    .    .    .    .    .    .    .    .    .    .    .    .    .    .    .    .    .    .    .    .    .    .    .    . |\n",
            "       DTS |    .    .    .    .    .    .    .    .    .    .    .    .    .    .    .    .    .    .    .    .    .    .    .    .    .    .    .    .    .    .    .    .    .    .    .    .    .    .    .    .    .    .    .    .    .    .    .    .    .    .    .    .    .    .    .    .    .    .    .    .    .    . <140>   .    .    .    .    .    .    .    .    .    .    .    .    .    .    .    .    .    .    .    .    .    .    .    .    .    .    .    .    .    .    .    .    .    .    .    .    .    .    .    .    .    .    .    .    .    .    .    .    .    .    .    .    .    .    .    .    .    .    .    .    .    .    .    .    .    .    .    .    .    .    .    .    .    .    .    .    .    .    .    .    .    .    .    .    .    1    .    .    .    .    .    .    .    .    .    .    .    .    .    .    .    .    .    .    .    .    .    .    .    .    .    .    .    .    .    .    .    .    .    .    .    .    .    .    .    .    .    .    .    .    .    .    .    .    .    .    .    .    .    .    .    .    .    . |\n",
            "       DTX |    .    .    .    .    .    .    .    .    .    .    .    .    .    .    .    .    .    .    .    .    .    .    .    .    .    .    .    .    .    .    .    .    .    .    .    .    .    .    .    .    .    .    4    .    .    .    .    .    .    .    .    .    .    .    .    .    .    .    .    .    .    .    .   <.>   .    .    .    .    .    .    .    .    .    .    .    .    .    .    .    .    .    .    .    .    .    .    .    .    .    .    .    .    .    .    .    .    .    .    .    .    .    .    .    .    .    .    .    1    .    .    .    .    .    .    .    .    .    .    .    .    .    .    .    .    .    .    .    .    .    .    .    .    .    .    .    .    .    .    .    .    .    .    .    .    .    .    .    .    .    .    .    .    .    .    .    .    .    .    .    .    .    .    .    .    .    .    .    .    .    .    .    .    .    .    .    .    .    .    .    .    .    .    .    .    .    .    .    .    .    .    .    .    .    .    .    .    .    .    .    .    .    .    .    .    .    .    . |\n",
            "        EX |    .    .    .    .    .    .    .    .    .    .    .    .    .    .    .    .    .    .    .    .    .    .    .    .    .    .    .    .    .    .    .    .    .    .    .    .    .    .    .    .    .    .    .    .    .    .    .    .    .    .    .    .    .    .    .    .    .    .    .    .    .    .    .    .  <92>   .    .    .    .    .    .    .    .    .    .    .    .    .    .    .    .    .    .    .    .    .    .    .    .    .    .    .    .    .    .    .    .    .    .    .    .    .    .    .    .    .    .    .    .    .    .    .    .    .    .    .    .    .    .    .    .    .    .    .    .    .    .    .    .    .    .    .    .    .    .    .    .    .    .    .    .    .    .    .    .    .    .    .    .    .    .    .    .    .    .    .    .    .    .    .    .    .    .    .    .    .    5    .    .    .    .    .    .    .    .    .    .    .    .    .    .    .    .    .    .    .    .    .    .    .    .    .    .    .    .    .    .    .    .    .    .    .    .    .    .    .    . |\n",
            "    EX+BEZ |    .    .    .    .    .    .    .    .    .    .    .    .    .    .    .    .    .    .    .    .    .    .    .    .    .    .    .    .    .    .    .    .    .    .    .    .    .    .    .    .    .    .    .    .    .    .    .    .    .    .    .    .    .    .    .    .    .    .    .    .    .    .    .    .    .   <4>   .    .    .    .    .    .    .    .    .    .    .    .    .    .    .    .    .    .    .    .    .    .    .    .    .    .    .    .    .    .    .    .    .    .    .    .    .    .    .    .    .    .    .    .    .    .    .    .    .    .    .    .    .    .    .    .    .    .    .    .    .    .    .    .    .    .    .    .    .    .    .    .    .    .    .    .    .    .    .    .    .    .    .    .    .    .    .    .    .    .    .    .    .    .    .    .    .    .    .    .    .    .    .    .    .    .    .    .    .    .    .    .    .    .    .    .    .    .    .    .    .    .    .    .    .    .    .    .    .    .    .    .    .    .    .    .    .    .    .    .    . |\n",
            "     FW-AT |    .    .    .    .    .    .    .    .    .    .    .    .    .    .    .    .    .    .    .    .    .    .    .    .    .    .    .    .    .    .    .    .    .    .    .    .    .    .    .    .    .    .    .    .    .    .    .    .    .    .    .    .    .    .    .    .    .    .    .    .    .    .    .    .    .    .   <.>   .    .    .    .    .    .    .    .    .    .    .    .    .    .    .    .    .    .    .    .    .    .    .    .    .    .    .    .    .    .    .    .    .    .    .    .    .    .    .    .    1    .    .    .    .    .    .    .    .    .    .    .    .    .    .    .    .    .    .    .    .    .    .    .    .    .    .    .    .    .    .    .    .    .    .    .    .    .    .    .    .    .    .    .    .    .    .    .    .    .    .    .    .    .    .    .    .    .    .    .    .    .    .    .    .    .    .    .    .    .    .    .    .    .    .    .    .    .    .    .    .    .    .    .    .    .    .    .    .    .    .    .    .    .    .    .    .    .    .    . |\n",
            "  FW-AT-TL |    .    .    .    .    .    .    .    .    .    .    .    .    .    .    .    .    .    .    .    .    .    .    .    .    .    .    .    .    .    .    .    .    .    .    .    .    .    .    .    .    .    .    .    .    .    .    .    .    .    .    .    .    .    .    .    .    .    .    .    .    .    .    .    .    .    .    .   <1>   .    .    .    .    .    .    .    .    .    .    .    .    .    .    .    .    .    .    .    .    .    .    .    .    .    .    .    .    .    .    .    .    .    .    .    .    .    .    .    1    .    .    .    .    .    .    .    .    .    .    .    .    2    .    .    .    .    .    .    .    .    .    .    .    .    .    .    .    .    .    .    .    .    .    .    .    .    .    .    .    .    .    .    .    .    .    .    .    .    .    .    .    .    .    .    .    .    .    .    .    .    .    .    .    .    .    .    .    .    .    .    .    .    .    .    .    .    .    .    .    .    .    .    .    .    .    .    .    .    .    .    .    .    .    .    .    .    .    . |\n",
            "     FW-CC |    .    .    .    .    .    .    .    .    .    .    .    .    .    .    .    .    .    .    .    .    .    .    .    .    .    .    .    .    .    .    .    .    .    .    .    .    .    .    .    .    .    .    .    .    .    .    .    .    .    .    .    .    .    .    .    .    .    .    .    .    .    .    .    .    .    .    .    .   <1>   .    .    .    .    .    .    .    .    .    .    .    .    .    .    .    .    .    .    .    .    .    .    .    .    .    .    .    .    .    .    .    .    .    .    .    .    .    .    .    .    .    .    .    .    .    .    .    .    .    .    .    .    .    .    .    .    .    .    .    .    .    .    .    .    .    .    .    .    .    .    .    .    .    .    .    .    .    .    .    .    .    .    .    .    .    .    .    .    .    .    .    .    .    .    .    .    .    .    .    .    .    .    .    .    .    .    .    .    .    .    .    .    .    .    .    .    .    .    .    .    .    .    .    .    .    .    .    .    .    .    .    .    .    .    .    .    .    . |\n",
            "     FW-IN |    .    .    .    .    .    .    .    .    .    .    .    .    .    .    .    .    .    .    .    .    .    .    .    .    .    .    .    .    .    .    .    .    .    .    .    .    .    .    .    .    .    .    .    .    .    .    .    .    .    .    .    .    .    .    .    .    .    .    .    .    .    .    .    .    .    .    .    .    .   <3>   .    .    .    .    .    .    .    .    .    .    .    .    .    .    .    .    .    .    .    .    .    .    .    .    .    .    .    .    .    .    .    .    .    .    .    .    .    1    .    .    .    .    .    .    .    .    .    .    .    .    .    .    .    .    .    .    .    .    .    .    .    .    .    .    .    .    .    .    .    .    .    .    .    .    .    .    .    .    .    .    .    .    .    .    .    .    .    .    .    .    .    .    .    .    .    .    .    .    .    .    .    .    .    .    .    .    .    .    .    .    .    .    .    .    .    .    .    .    .    .    .    .    .    .    .    .    .    .    .    .    .    .    .    .    .    .    . |\n",
            "  FW-IN-TL |    .    .    .    .    .    .    .    .    .    .    .    .    .    .    .    .    .    .    .    .    .    .    .    .    .    .    .    .    .    .    .    .    .    .    .    .    .    .    .    .    .    .    .    .    .    .    .    .    .    .    .    .    .    .    .    .    .    .    .    .    .    .    .    .    .    .    .    .    .    .   <.>   .    .    .    .    .    .    .    .    .    .    .    .    .    .    .    .    .    .    .    .    .    .    .    .    .    .    .    .    .    .    .    .    .    .    .    .    .    .    .    .    .    .    .    .    .    .    .    .    .    1    .    .    .    .    .    .    .    .    .    .    .    .    .    .    .    .    .    .    .    .    .    .    .    .    .    .    .    .    .    .    .    .    .    .    .    .    .    .    .    .    .    .    .    .    .    .    .    .    .    .    .    .    .    .    .    .    .    .    .    .    .    .    .    .    .    .    .    .    .    .    .    .    .    .    .    .    .    .    .    .    .    .    .    .    .    . |\n",
            "     FW-JJ |    .    .    .    .    .    .    .    .    .    .    .    .    .    .    .    .    .    .    .    .    .    .    .    .    .    .    .    .    .    .    .    .    .    .    .    .    .    .    .    .    .    .    .    .    .    .    .    .    .    .    .    .    .    .    .    .    .    .    .    .    .    .    .    .    .    .    .    .    .    .    .   <.>   .    .    .    .    .    .    .    .    .    .    .    .    .    .    .    .    .    .    .    .    .    .    .    .    .    .    .    .    .    .    .    .    .    .    .    3    .    .    .    .    .    .    .    .    .    .    .    .    .    .    .    .    .    .    .    .    .    .    .    .    .    .    .    .    .    .    .    .    .    .    .    .    .    .    .    .    .    .    .    .    .    .    .    .    .    .    .    .    .    .    .    .    .    .    .    .    .    .    .    .    .    .    .    .    .    .    .    .    .    .    .    .    .    .    .    .    .    .    .    .    .    .    .    .    .    .    .    .    .    .    .    .    .    .    . |\n",
            "  FW-JJ-TL |    .    .    .    .    .    .    .    .    .    .    .    .    .    .    .    .    .    .    .    .    .    .    .    .    .    .    .    .    .    .    .    .    .    .    .    .    .    .    .    .    .    .    .    .    .    .    .    .    .    .    .    .    .    .    .    .    .    .    .    .    .    .    .    .    .    .    .    .    .    .    .    .   <.>   .    .    .    .    .    .    .    .    .    .    .    .    .    .    .    .    .    .    .    .    .    1    .    .    .    .    .    .    .    .    .    .    .    .    1    .    .    .    .    .    .    .    .    .    .    .    .    .    .    .    .    .    .    .    .    .    .    .    .    .    .    .    .    .    .    .    .    .    .    .    .    .    .    .    .    .    .    .    .    .    .    .    .    .    .    .    .    .    .    .    .    .    .    .    .    .    .    .    .    .    .    .    .    .    .    .    .    .    .    .    .    .    .    .    .    .    .    .    .    .    .    .    .    .    .    .    .    .    .    .    .    .    .    . |\n",
            "     FW-NN |    .    .    .    .    .    .    .    .    .    .    .    .    .    .    .    .    .    .    .    .    .    .    .    .    .    .    .    .    .    .    .    .    .    .    .    .    .    .    .    .    .    .    .    .    .    .    .    .    .    .    .    .    .    .    .    .    .    .    .    .    .    .    .    .    .    .    .    .    .    .    .    .    .   <2>   .    .    .    .    .    .    .    .    .    .    .    .    .    .    .    .    .    .    .    .    .    .    .    .    .    .    .    .    .    .    .    .    .   10    .    .    .    .    .    .    .    .    .    .    .    .    .    .    .    .    .    .    .    .    .    .    .    .    .    .    .    .    .    .    .    .    .    .    .    .    .    .    .    .    .    .    .    .    .    .    .    .    .    .    .    .    .    .    .    .    .    .    .    .    .    .    .    .    .    .    .    .    .    .    .    .    .    .    .    .    .    .    .    .    .    .    .    .    .    .    .    .    .    .    .    .    .    .    .    .    .    .    . |\n",
            "  FW-NN-TL |    .    .    .    .    .    .    .    .    .    .    .    .    .    .    .    .    .    .    .    .    .    .    .    .    .    .    .    .    .    .    .    .    .    .    .    .    .    .    .    .    .    .    .    .    .    .    .    .    .    .    .    .    .    .    .    .    .    .    .    .    .    .    .    .    .    .    .    .    .    .    .    .    .    .   <.>   .    .    .    .    .    .    .    .    .    .    .    .    .    .    .    .    .    .    .    .    .    .    .    .    .    .    .    .    .    .    .    .    4    .    .    .    .    .    .    .    .    .    .    .    .    .    .    .    .    .    .    .    .    .    .    .    .    .    .    .    .    .    .    .    .    .    .    .    .    .    .    .    .    .    .    .    .    .    .    .    .    .    .    .    .    .    .    .    .    .    .    .    .    .    .    .    .    .    .    .    .    .    .    .    .    .    .    .    .    .    .    .    .    .    .    .    .    .    .    .    .    .    .    .    .    .    .    .    .    .    .    . |\n",
            "    FW-NNS |    .    .    .    .    .    .    .    .    .    .    .    .    .    .    .    .    .    .    .    .    .    .    .    .    .    .    .    .    .    .    .    .    .    .    .    .    .    .    .    .    .    .    .    .    .    .    .    .    .    .    .    .    .    .    .    .    .    .    .    .    .    .    .    .    .    .    .    .    .    .    .    .    .    .    .   <1>   .    .    .    .    .    .    .    .    .    .    .    .    .    .    .    .    .    .    .    .    .    .    .    .    .    .    .    .    .    .    .    5    .    .    .    .    .    .    .    .    .    .    .    .    .    .    .    .    .    .    .    .    .    .    .    .    .    .    .    .    .    .    .    .    .    .    .    .    .    .    .    .    .    .    .    .    .    .    .    .    .    .    .    .    .    .    .    .    .    .    .    .    .    .    .    .    .    .    .    .    .    .    .    .    .    .    .    .    .    .    .    .    .    .    .    .    .    .    .    .    .    .    .    .    .    .    .    .    .    .    . |\n",
            "     FW-NP |    .    .    .    .    .    .    .    .    .    .    .    .    .    .    .    .    .    .    .    .    .    .    .    .    .    .    .    .    .    .    .    .    .    .    .    .    .    .    .    .    .    .    .    .    .    .    .    .    .    .    .    .    .    .    .    .    .    .    .    .    .    .    .    .    .    .    .    .    .    .    .    .    .    .    .    .   <.>   .    .    .    .    .    .    .    .    .    .    .    .    .    .    .    .    .    .    .    .    .    .    .    .    .    .    .    .    .    .    1    .    .    .    .    .    .    .    .    .    .    .    .    .    .    .    .    .    .    .    .    .    .    .    .    .    .    .    .    .    .    .    .    .    .    .    .    .    .    .    .    .    .    .    .    .    .    .    .    .    .    .    .    .    .    .    .    .    .    .    .    .    .    .    .    .    .    .    .    .    .    .    .    .    .    .    .    .    .    .    .    .    .    .    .    .    .    .    .    .    .    .    .    .    .    .    .    .    .    . |\n",
            "    FW-PPL |    .    .    .    .    .    .    .    .    .    .    .    .    .    .    .    .    .    .    .    .    .    .    .    .    .    .    .    .    .    .    .    .    .    .    .    .    .    .    .    .    .    .    .    .    .    .    .    .    .    .    .    .    .    .    .    .    .    .    .    .    .    .    .    .    .    .    .    .    .    .    .    .    .    .    .    .    .   <.>   .    .    .    .    .    .    .    .    .    .    .    .    .    .    .    .    .    .    .    .    .    .    .    .    .    .    .    .    .    1    .    .    .    .    .    .    .    .    .    .    .    .    .    .    .    .    .    .    .    .    .    .    .    .    .    .    .    .    .    .    .    .    .    .    .    .    .    .    .    .    .    .    .    .    .    .    .    .    .    .    .    .    .    .    .    .    .    .    .    .    .    .    .    .    .    .    .    .    .    .    .    .    .    .    .    .    .    .    .    .    .    .    .    .    .    .    .    .    .    .    .    .    .    .    .    .    .    .    . |\n",
            "    FW-PPO |    .    .    .    .    .    .    .    .    .    .    .    .    .    .    .    .    .    .    .    .    .    .    .    .    .    .    .    .    .    .    .    .    .    .    .    .    .    .    .    .    .    .    .    .    .    .    .    .    .    .    .    .    .    .    .    .    .    .    .    .    .    .    .    .    .    .    .    .    .    .    .    .    .    .    .    .    .    .   <.>   .    .    .    .    .    .    .    .    .    .    .    .    .    .    .    .    .    .    .    .    .    .    .    .    .    .    .    .    1    .    .    .    .    .    .    .    .    .    .    .    .    .    .    .    .    .    .    .    .    .    .    .    .    .    .    .    .    .    .    .    .    .    .    .    .    .    .    .    .    .    .    .    .    .    .    .    .    .    .    .    .    .    .    .    .    .    .    .    .    .    .    .    .    .    .    .    .    .    .    .    .    .    .    .    .    .    .    .    .    .    .    .    .    .    .    .    .    .    .    .    .    .    .    .    .    .    .    . |\n",
            "     FW-VB |    .    .    .    .    .    .    .    .    .    .    .    .    .    .    .    .    .    .    .    .    .    .    .    .    .    .    .    .    .    .    .    .    .    .    .    .    .    .    .    .    .    .    .    .    .    .    .    .    .    .    .    .    .    .    .    .    .    .    .    .    .    .    .    .    .    .    .    .    .    .    .    .    .    .    .    .    .    .    .   <.>   .    .    .    .    .    .    .    .    .    .    .    .    .    .    .    .    .    .    .    .    .    .    .    .    .    .    .    1    .    .    .    .    .    .    .    .    .    .    .    .    .    .    .    .    .    .    .    .    .    .    .    .    .    .    .    .    .    .    .    .    .    .    .    .    .    .    .    .    .    .    .    .    .    .    .    .    .    .    .    .    .    .    .    .    .    .    .    .    .    .    .    .    .    .    .    .    .    .    .    .    .    .    .    .    .    .    .    .    .    .    .    .    .    .    .    .    .    .    .    .    .    .    .    .    .    .    . |\n",
            "    FW-VBZ |    .    .    .    .    .    .    .    .    .    .    .    .    .    .    .    .    .    .    .    .    .    .    .    .    .    .    .    .    .    .    .    .    .    .    .    .    .    .    .    .    .    .    .    .    .    .    .    .    .    .    .    .    .    .    .    .    .    .    .    .    .    .    .    .    .    .    .    .    .    .    .    .    .    .    .    .    .    .    .    .   <.>   .    .    .    .    .    .    .    .    .    .    .    .    .    .    .    .    .    .    .    .    .    .    .    .    .    .    1    .    .    .    .    .    .    .    .    .    .    .    .    .    .    .    .    .    .    .    .    .    .    .    .    .    .    .    .    .    .    .    .    .    .    .    .    .    .    .    .    .    .    .    .    .    .    .    .    .    .    .    .    .    .    .    .    .    .    .    .    .    .    .    .    .    .    .    .    .    .    .    .    .    .    .    .    .    .    .    .    .    .    .    .    .    .    .    .    .    .    .    .    .    .    .    .    .    .    . |\n",
            "    FW-WDT |    .    .    .    .    .    .    .    .    .    .    .    .    .    .    .    .    .    .    .    .    .    .    .    .    .    .    .    .    .    .    .    .    .    .    .    .    .    .    .    .    .    .    .    .    .    .    .    .    .    .    .    .    .    .    .    .    .    .    .    .    .    .    .    .    .    .    .    .    .    .    .    .    .    .    .    .    .    .    .    .    .   <.>   .    .    .    .    .    .    .    .    .    .    .    .    .    .    .    .    .    .    .    .    .    .    .    .    .    1    .    .    .    .    .    .    .    .    .    .    .    .    .    .    .    .    .    .    .    .    .    .    .    .    .    .    .    .    .    .    .    .    .    .    .    .    .    .    .    .    .    .    .    .    .    .    .    .    .    .    .    .    .    .    .    .    .    .    .    .    .    .    .    .    .    .    .    .    .    .    .    .    .    .    .    .    .    .    .    .    .    .    .    .    .    .    .    .    .    .    .    .    .    .    .    .    .    .    . |\n",
            "        HV |    .    .    .    .    .    .    .    .    .    .    .    .    .    .    .    .    .    .    .    .    .    .    .    .    .    .    .    .    .    .    .    .    .    .    .    .    .    .    .    .    .    .    .    .    .    .    .    .    .    .    .    .    .    .    .    .    .    .    .    .    .    .    .    .    .    .    .    .    .    .    .    .    .    .    .    .    .    .    .    .    .    . <275>   .    .    .    .    .    .    .    .    .    .    .    .    .    .    .    .    .    .    .    .    .    .    .    .    .    .    .    .    .    .    .    .    .    .    .    .    .    .    .    .    .    .    .    .    .    .    .    .    .    .    .    .    .    .    .    .    .    .    .    .    .    .    .    .    .    .    .    .    .    .    .    .    .    .    .    .    .    .    .    .    .    .    .    .    .    .    .    .    .    .    .    .    .    .    .    .    .    .    .    .    .    .    .    .    .    .    .    .    .    .    .    .    .    .    .    .    .    .    .    .    .    .    .    . |\n",
            "       HVD |    .    .    .    .    .    .    .    .    .    .    .    .    .    .    .    .    .    .    .    .    .    .    .    .    .    .    .    .    .    .    .    .    .    .    .    .    .    .    .    .    .    .    .    .    .    .    .    .    .    .    .    .    .    .    .    .    .    .    .    .    .    .    .    .    .    .    .    .    .    .    .    .    .    .    .    .    .    .    .    .    .    .    . <120>   .    .    .    .    .    .    .    .    .    .    .    .    .    .    .    .    .    .    .    .    .    .    .    .    .    .    .    .    .    .    .    .    .    .    .    .    .    .    .    .    .    .    .    .    .    .    .    .    .    .    .    .    .    .    .    .    .    .    .    .    .    .    .    .    .    .    .    .    .    .    .    .    .    .    .    .    .    .    .    .    .    .    .    .    .    .    .    .    .    .    .    .    .    .    .    .    .    .    .    .    .    .    .    .    .    .    .    .    .    .    .    .    .    .    .    .    .    .    .    .    .    .    . |\n",
            "       HVG |    .    .    .    .    .    .    .    .    .    .    .    .    .    .    .    .    .    .    .    .    .    .    .    .    .    .    .    .    .    .    .    .    .    .    .    .    .    .    .    .    .    .    .    .    .    .    .    .    .    .    .    .    .    .    .    .    .    .    .    .    .    .    .    .    .    .    .    .    .    .    .    .    .    .    .    .    .    .    .    .    .    .    .    .  <19>   .    .    .    .    .    .    .    .    .    .    .    .    .    .    .    .    .    .    .    .    .    .    .    .    .    .    .    .    .    .    .    .    .    .    .    .    .    .    .    .    .    .    .    .    .    .    .    .    .    .    .    .    .    .    .    .    .    .    .    .    .    .    .    .    .    .    .    .    .    .    .    .    .    .    .    .    .    .    .    .    .    .    .    .    .    .    .    .    .    .    .    .    .    .    .    .    .    .    .    .    .    .    .    .    .    .    .    .    .    .    .    .    .    .    .    .    .    .    .    .    .    . |\n",
            "       HVN |    .    .    .    .    .    .    .    .    .    .    .    .    .    .    .    .    .    .    .    .    .    .    .    .    .    .    .    .    .    .    .    .    .    .    .    .    .    .    .    .    .    .    .    .    .    .    .    .    .    .    .    .    .    .    .    .    .    .    .    .    .    .    .    .    .    .    .    .    .    .    .    .    .    .    .    .    .    .    .    .    .    .    .    4    .   <8>   .    .    .    .    .    .    .    .    .    .    .    .    .    .    .    .    .    .    .    .    .    .    .    .    .    .    .    .    .    .    .    .    .    .    .    .    .    .    .    .    .    .    .    .    .    .    .    .    .    .    .    .    .    .    .    .    .    .    .    .    .    .    .    .    .    .    .    .    .    .    .    .    .    .    .    .    .    .    .    .    .    .    .    .    .    .    .    .    .    .    .    .    .    .    .    .    .    .    .    .    .    .    .    .    .    .    .    .    .    .    .    .    .    .    .    .    .    .    .    .    . |\n",
            "       HVZ |    .    .    .    .    .    .    .    .    .    .    .    .    .    .    .    .    .    .    .    .    .    .    .    .    .    .    .    .    .    .    .    .    .    .    .    .    .    .    .    .    .    .    .    .    .    .    .    .    .    .    .    .    .    .    .    .    .    .    .    .    .    .    .    .    .    .    .    .    .    .    .    .    .    .    .    .    .    .    .    .    .    .    .    .    .    . <261>   .    .    .    .    .    .    .    .    .    .    .    .    .    .    .    .    .    .    .    .    .    .    .    .    .    .    .    .    .    .    .    .    .    .    .    .    .    .    .    .    .    .    .    .    .    .    .    .    .    .    .    .    .    .    .    .    .    .    .    .    .    .    .    .    .    .    .    .    .    .    .    .    .    .    .    .    .    .    .    .    .    .    .    .    .    .    .    .    .    .    .    .    .    .    .    .    .    .    .    .    .    .    .    .    .    .    .    .    .    .    .    .    .    .    .    .    .    .    .    . |\n",
            "      HVZ* |    .    .    .    .    .    .    .    .    .    .    .    .    .    .    .    .    .    .    .    .    .    .    .    .    .    .    .    .    .    .    .    .    .    .    .    .    .    .    .    .    .    .    .    .    .    .    .    .    .    .    .    .    .    .    .    .    .    .    .    .    .    .    .    .    .    .    .    .    .    .    .    .    .    .    .    .    .    .    .    .    .    .    .    .    .    .    .   <6>   .    .    .    .    .    .    .    .    .    .    .    .    .    .    .    .    .    .    .    .    .    .    .    .    .    .    .    .    .    .    .    .    .    .    .    .    .    .    .    .    .    .    .    .    .    .    .    .    .    .    .    .    .    .    .    .    .    .    .    .    .    .    .    .    .    .    .    .    .    .    .    .    .    .    .    .    .    .    .    .    .    .    .    .    .    .    .    .    .    .    .    .    .    .    .    .    .    .    .    .    .    .    .    .    .    .    .    .    .    .    .    .    .    .    .    .    .    .    . |\n",
            "        IN |    .    .    .    .    .    .    .    .    .    .    .    .    .    .    .    .    .    .    .    3    .    .    .    .    .    .    .    .    .    .    .    .    .    .    .    .    .    .    .    .    .    .    9    .    .    .    .    .   32    .    .    .    .    .    .    .    .    .    .    .    .    .    .    .    .    .    .    .    .    .    .    .    .    .    .    .    .    .    .    .    .    .    .    .    .    .    .    .<5538>  11    .   10    .    .    .    .    .    .    .    .    .    .    .    .    .    .    .   30    .    .    .    .    .    .    1    .    .    .    .    .    .    .    .    .    .    .    .    .    .    .    .    .    .    .    .    .    .    .    .    .    .    .    .    .    .    .    .    .    .    .    .    .    .    .    .    .    .    .    .    .    .    .    .    .    .    .   19    .    .    .    .    .    .    .   36    .  514    1    .    .    .    .    .    .    .    .    .    .    .    .    .    .    .    .    .    .    .    .    .    .    .    .    .    .    .    .    . |\n",
            "     IN-HL |    .    .    .    .    .    .    .    .    .    .    .    .    .    .    .    .    .    .    .    .    .    .    .    .    .    .    .    .    .    .    .    .    .    .    .    .    .    .    .    .    .    .    .    .    .    .    .    .    .    .    .    .    .    .    .    .    .    .    .    .    .    .    .    .    .    .    .    .    .    .    .    .    .    .    .    .    .    .    .    .    .    .    .    .    .    .    .    .   66   <.>   .    2    .    .    .    .    .    .    .    .    .    .    .    .    .    .    .    3    .    .    .    .    .    .    .    .    .    .    .    .    .    .    .    .    .    .    .    .    .    .    .    .    .    .    .    .    .    .    .    .    .    .    .    .    .    .    .    .    .    .    .    .    .    .    .    .    .    .    .    .    .    .    .    .    .    .    .    .    .    .    .    .    .    .    1    .   41    .    .    .    .    .    .    .    .    .    .    .    .    .    .    .    .    .    .    .    .    .    .    .    .    .    .    .    .    .    . |\n",
            "     IN-NC |    .    .    .    .    .    .    .    .    .    .    .    .    .    .    .    .    .    .    .    .    .    .    .    .    .    .    .    .    .    .    .    .    .    .    .    .    .    .    .    .    .    .    .    .    .    .    .    .    .    .    .    .    .    .    .    .    .    .    .    .    .    .    .    .    .    .    .    .    .    .    .    .    .    .    .    .    .    .    .    .    .    .    .    .    .    .    .    .    1    .   <.>   .    .    .    .    .    .    .    .    .    .    .    .    .    .    .    .    .    .    .    .    .    .    .    .    .    .    .    .    .    .    .    .    .    .    .    .    .    .    .    .    .    .    .    .    .    .    .    .    .    .    .    .    .    .    .    .    .    .    .    .    .    .    .    .    .    .    .    .    .    .    .    .    .    .    .    .    .    .    .    .    .    .    .    .    .    .    .    .    .    .    .    .    .    .    .    .    .    .    .    .    .    .    .    .    .    .    .    .    .    .    .    .    .    .    .    . |\n",
            "     IN-TL |    .    .    .    .    .    .    .    .    .    .    .    .    .    .    .    .    .    .    .    .    .    .    .    .    .    .    .    .    .    .    .    .    .    .    .    .    .    .    .    .    .    .    .    .    .    .    .    .    .    .    .    .    .    .    .    .    .    .    .    .    .    .    .    .    .    .    .    .    .    .    .    .    .    .    .    .    .    .    .    .    .    .    .    .    .    .    .    .   40    .    .  <58>   .    .    .    .    .    .    .    .    .    .    .    .    .    .    .    .    .    .    .    .    .    .    .    .    .    .    .    .    .    .    .    .    .    .    .    .    .    .    .    .    .    .    .    .    .    .    .    .    .    .    .    .    .    .    .    .    .    .    .    .    .    .    .    .    .    .    .    .    .    .    .    .    .    .    .    .    .    .    .    .    .    .    .    .    .    .    .    .    .    .    .    .    .    .    .    .    .    .    .    .    .    .    .    .    .    .    .    .    .    .    .    .    .    .    . |\n",
            "        JJ |    .    .    .    .    .    .    .    .    .    .    .    .    .    .    .    .    .    .    .    8    .    .    .    .    .    .    .    .    .    .    .    .    .    .    .    .    .    .    .    .    .    .    .    .    .    .    .    .    1    .    .    .    .    .    .    .    .    .    .    .    .    .    .    .    .    .    .    .    .    .    .    .    .    .    .    .    .    .    .    .    .    .    .    .    .    .    .    .    .    .    .    .<2475>   3   15    .    .    .    .    .    .    .    .    .    .    .    . 1015    .    .    .    .    1    .    .    .    .    .    .    .   21    .    .    .    .    .    6    2    .    .    .    3    .    .    .    .    .    .    .    .    .    .    .    .    .    .    .    .    .    .    .    .    .    .    .    .    .    .    .    .    .    .    .   10    .    .   20    .    .    .    .    .    .    .    .    .    .    .    .    .    7    .    .    .    5    .    1    .    .    .    .    .    .    .    .    .    .    .    .    .    .    .    .    .    .    .    . |\n",
            "     JJ-HL |    .    .    .    .    .    .    .    .    .    .    .    .    .    .    .    .    .    .    .    1    .    .    .    .    .    .    .    .    .    .    .    .    .    .    .    .    .    .    .    .    .    .    .    .    .    .    .    .    .    .    .    .    .    .    .    .    .    .    .    .    .    .    .    .    .    .    .    .    .    .    .    .    .    .    .    .    .    .    .    .    .    .    .    .    .    .    .    .    .    .    .    .   17   <.>   1    .    .    .    .    .    .    .    .    .    .    .    .   20    .    .    .    .    .    .    .    .    .    .    .    .    .    .    .    .    .    .    .    .    .    .    .    .    .    .    .    .    .    .    .    .    .    .    .    .    .    .    .    .    .    .    .    .    .    .    .    .    .    .    .    .    .    .    .    .    .    .    1    .    .    .    .    .    .    .    .    .    .    .    .    .    .    .    .    .    .    .    .    .    .    .    .    .    .    .    .    .    .    .    .    .    .    .    .    .    .    .    . |\n",
            "     JJ-TL |    .    .    .    .    .    .    .    .    .    .    .    .    .    .    .    .    .    .    .    .    .    .    .    .    .    .    .    .    .    .    .    .    .    .    .    .    .    .    .    .    .    .    .    .    .    .    .    .    .    .    .    .    .    .    .    .    .    .    .    .    .    .    .    .    .    .    .    .    .    .    .    .    .    .    .    .    .    .    .    .    .    .    .    .    .    .    .    .    .    .    .    .   24    1 <301>   .    .    .    .    .    .    .    .    .    .    .    .   36    .    .    .    1    3    .    .    .    .    .    .    .    5    .    .    .    .    .    6    .    .    .    .    .    .    .   25    .    .    .    .    .    .    .    .    .    .    .    .    .    .    .    .    .    .    .    .    .    .    .    .    .    .    .    .    .    .    .    .    .    .    .    .    .    .    .    .    .    .    .    .    .    .    .    .    .    .    .    .    .    .    .    .    .    .    .    .    .    .    .    .    .    .    .    .    .    .    .    . |\n",
            "  JJ-TL-HL |    .    .    .    .    .    .    .    .    .    .    .    .    .    .    .    .    .    .    .    .    .    .    .    .    .    .    .    .    .    .    .    .    .    .    .    .    .    .    .    .    .    .    .    .    .    .    .    .    .    .    .    .    .    .    .    .    .    .    .    .    .    .    .    .    .    .    .    .    .    .    .    .    .    .    .    .    .    .    .    .    .    .    .    .    .    .    .    .    .    .    .    .    .    .    3   <.>   .    .    .    .    .    .    .    .    .    .    .    .    .    .    .    .    .    .    .    .    .    .    .    .    .    .    .    .    .    .    .    .    .    .    .    .    .    .    .    .    .    .    .    .    .    .    .    .    .    .    .    .    .    .    .    .    .    .    .    .    .    .    .    .    .    .    .    .    .    .    .    .    .    .    .    .    .    .    .    .    .    .    .    .    .    .    .    .    .    .    .    .    .    .    .    .    .    .    .    .    .    .    .    .    .    .    .    .    .    .    . |\n",
            "       JJR |    .    .    .    .    .    .    .    .    .    .    .    .    .    .    .    .    .    .    .    2    .    .    .    .    .    .    .    .    .    .    .    .    .    .    .    .    .    .    .    .    .    .    .    .    .    .    .    .    .    .    .    .    .    .    .    .    .    .    .    .    .    .    .    .    .    .    .    .    .    .    .    .    .    .    .    .    .    .    .    .    .    .    .    .    .    .    .    .    .    .    .    .    .    .    .    .  <69>   .    .    .    .    .    .    .    .    .    .   20    .    .    .    .    .    .    .    .    .    .    .    .    .    .    .    .    .    .    .    .    .    .    .    .    .    .    .    .    .    .    .    .    .    .    .    .    .    .    .    .    .    .    .    .    .    .    .    .    .    .    .    .    .    .    .    .    .    .    .    .    .    .    .    7    .    .    .    .    .    .    .    .    .    .    .    .    .    .    .    .    .    .    .    .    .    .    .    .    .    .    .    .    .    .    .    .    .    .    . |\n",
            "    JJR-HL |    .    .    .    .    .    .    .    .    .    .    .    .    .    .    .    .    .    .    .    .    .    .    .    .    .    .    .    .    .    .    .    .    .    .    .    .    .    .    .    .    .    .    .    .    .    .    .    .    .    .    .    .    .    .    .    .    .    .    .    .    .    .    .    .    .    .    .    .    .    .    .    .    .    .    .    .    .    .    .    .    .    .    .    .    .    .    .    .    .    .    .    .    .    .    .    .    2   <.>   1    .    .    .    .    .    .    .    .    1    .    .    .    .    .    .    .    .    .    .    .    .    .    .    .    .    .    .    .    .    .    .    .    .    .    .    .    .    .    .    .    .    .    .    .    .    .    .    .    .    .    .    .    .    .    .    .    .    .    .    .    .    .    .    .    .    .    .    .    .    .    .    .    .    .    .    .    .    .    .    .    .    .    .    .    .    .    .    .    .    .    .    .    .    .    .    .    .    .    .    .    .    .    .    .    .    .    .    . |\n",
            "    JJR-TL |    .    .    .    .    .    .    .    .    .    .    .    .    .    .    .    .    .    .    .    .    .    .    .    .    .    .    .    .    .    .    .    .    .    .    .    .    .    .    .    .    .    .    .    .    .    .    .    .    .    .    .    .    .    .    .    .    .    .    .    .    .    .    .    .    .    .    .    .    .    .    .    .    .    .    .    .    .    .    .    .    .    .    .    .    .    .    .    .    .    .    .    .    .    .    .    .    .    .   <3>   .    .    .    .    .    .    .    .    1    .    .    .    .    .    .    .    .    .    .    .    .    .    .    .    .    .    .    .    .    .    .    .    .    .    .    .    .    .    .    .    .    .    .    .    .    .    .    .    .    .    .    .    .    .    .    .    .    .    .    .    .    .    .    .    .    .    .    .    .    .    .    .    .    .    .    .    .    .    .    .    .    .    .    .    .    .    .    .    .    .    .    .    .    .    .    .    .    .    .    .    .    .    .    .    .    .    .    . |\n",
            "       JJS |    .    .    .    .    .    .    .    .    .    .    .    .    .    .    .    .    .    .    .    .    .    .    .    .    .    .    .    .    .    .    .    .    .    .    .    .    .    .    .    .    .    .    .    .    .    .    .    .    .    .    .    .    .    .    .    .    .    .    .    .    .    .    .    .    .    .    .    .    .    .    .    .    .    .    .    .    .    .    .    .    .    .    .    .    .    .    .    .    .    .    .    .    .    .    .    .    .    .    .  <17>   .    .    .    .    .    .    .    5    .    .    .    .    .    .    1    .    .    .    .    .    .    .    .    .    .    .    .    .    .    .    .    .    .    .    .    .    .    .    .    .    .    .    .    .    .    .    .    .    .    .    .    .    .    .    .    .    .    .    .    .    .    .    .    .    .    .    .    .    .    .    .    .    .    .    .    .    .    .    .    .    .    .    .    .    .    .    .    .    .    .    .    .    .    .    .    .    .    .    .    .    .    .    .    .    .    .    . |\n",
            "    JJS-TL |    .    .    .    .    .    .    .    .    .    .    .    .    .    .    .    .    .    .    .    .    .    .    .    .    .    .    .    .    .    .    .    .    .    .    .    .    .    .    .    .    .    .    .    .    .    .    .    .    .    .    .    .    .    .    .    .    .    .    .    .    .    .    .    .    .    .    .    .    .    .    .    .    .    .    .    .    .    .    .    .    .    .    .    .    .    .    .    .    .    .    .    .    .    .    .    .    .    .    .    .   <.>   .    .    .    .    .    .    .    .    .    .    .    1    .    .    .    .    .    .    .    .    .    .    .    .    .    .    .    .    .    .    .    .    .    .    .    .    .    .    .    .    .    .    .    .    .    .    .    .    .    .    .    .    .    .    .    .    .    .    .    .    .    .    .    .    .    .    .    .    .    .    .    .    .    .    .    .    .    .    .    .    .    .    .    .    .    .    .    .    .    .    .    .    .    .    .    .    .    .    .    .    .    .    .    .    .    . |\n",
            "       JJT |    .    .    .    .    .    .    .    .    .    .    .    .    .    .    .    .    .    .    .    .    .    .    .    .    .    .    .    .    .    .    .    .    .    .    .    .    .    .    .    .    .    .    .    .    .    .    .    .    .    .    .    .    .    .    .    .    .    .    .    .    .    .    .    .    .    .    .    .    .    .    .    .    .    .    .    .    .    .    .    .    .    .    .    .    .    .    .    .    .    .    .    .    .    .    .    .    .    .    .    .    .  <47>   .    .    .    .    .   17    .    .    .    .    .    .    .    .    .    .    .    .    .    .    .    .    .    .    .    .    .    .    .    .    .    .    .    .    .    .    .    .    .    .    .    .    .    .    .    .    .    .    .    .    .    .    .    .    .    .    .    .    .    .    .    .    .    .    .    .    .    .    .    .    .    .    .    .    .    .    .    .    .    .    .    .    .    .    .    .    .    .    .    .    .    .    .    .    .    .    .    .    .    .    .    .    .    .    . |\n",
            "    JJT-HL |    .    .    .    .    .    .    .    .    .    .    .    .    .    .    .    .    .    .    .    .    .    .    .    .    .    .    .    .    .    .    .    .    .    .    .    .    .    .    .    .    .    .    .    .    .    .    .    .    .    .    .    .    .    .    .    .    .    .    .    .    .    .    .    .    .    .    .    .    .    .    .    .    .    .    .    .    .    .    .    .    .    .    .    .    .    .    .    .    .    .    .    .    .    .    .    .    .    .    .    .    .    1   <.>   .    .    .    .    2    .    .    .    .    .    .    .    .    .    .    .    .    .    .    .    .    .    .    .    .    .    .    .    .    .    .    .    .    .    .    .    .    .    .    .    .    .    .    .    .    .    .    .    .    .    .    .    .    .    .    .    .    .    .    .    .    .    .    .    .    .    .    .    .    .    .    .    .    .    .    .    .    .    .    .    .    .    .    .    .    .    .    .    .    .    .    .    .    .    .    .    .    .    .    .    .    .    .    . |\n",
            "        MD |    .    .    .    .    .    .    .    .    .    .    .    .    .    .    .    .    .    .    .    .    .    .    .    .    .    .    .    .    .    .    .    .    .    .    .    .    .    .    .    .    .    .    .    .    .    .    .    .    .    .    .    .    .    .    .    .    .    .    .    .    .    .    .    .    .    .    .    .    .    .    .    .    .    .    .    .    .    .    .    .    .    .    .    .    .    .    .    .    .    .    .    .    .    .    .    .    .    .    .    .    .    .    . <857>   .    7    .    2    .    .    .    .    .    .    .    .    .    .    .    .    .    .    .    .    .    .    .    .    .    .    .    .    .    .    .    .    .    .    .    .    .    .    .    .    .    .    .    .    .    .    .    .    .    .    .    .    .    .    .    .    .    .    .    .    .    .    .    .    .    .    .    .    .    .    .    .    .    .    .    .    1    .    .    .    .    .    .    .    .    .    .    .    .    .    .    .    .    .    .    .    .    .    .    .    .    .    . |\n",
            "       MD* |    .    .    .    .    .    .    .    .    .    .    .    .    .    .    .    .    .    .    .    .    .    .    .    .    .    .    .    .    .    .    .    .    .    .    .    .    .    .    .    .    .    .    .    .    .    .    .    .    .    .    .    .    .    .    .    .    .    .    .    .    .    .    .    .    .    .    .    .    .    .    .    .    .    .    .    .    .    .    .    .    .    .    .    .    .    .    .    .    .    .    .    .    .    .    .    .    .    .    .    .    .    .    .    .  <63>   .    .    .    .    .    .    .    .    .    .    .    .    .    .    .    .    .    .    .    .    .    .    .    .    .    .    .    .    .    .    .    .    .    .    .    .    .    .    .    .    .    .    .    .    .    .    .    .    .    .    .    .    .    .    .    .    .    .    .    .    .    .    .    .    .    .    .    .    .    .    .    .    .    .    .    .    .    .    .    .    .    .    .    .    .    .    .    .    .    .    .    .    .    .    .    .    .    .    .    .    .    . |\n",
            "     MD-HL |    .    .    .    .    .    .    .    .    .    .    .    .    .    .    .    .    .    .    .    .    .    .    .    .    .    .    .    .    .    .    .    .    .    .    .    .    .    .    .    .    .    .    .    .    .    .    .    .    .    .    .    .    .    .    .    .    .    .    .    .    .    .    .    .    .    .    .    .    .    .    .    .    .    .    .    .    .    .    .    .    .    .    .    .    .    .    .    .    .    .    .    .    .    .    .    .    .    .    .    .    .    .    .    3    .   <1>   .    .    .    .    .    .    .    .    .    .    .    .    .    .    .    .    .    .    .    .    .    .    .    .    .    .    .    .    .    .    .    .    .    .    .    .    .    .    .    .    .    .    .    .    .    .    .    .    .    .    .    .    .    .    .    .    .    .    .    .    .    .    .    .    .    .    .    .    .    .    .    .    .    .    .    .    .    .    .    .    .    .    .    .    .    .    .    .    .    .    .    .    .    .    .    .    .    .    .    .    . |\n",
            "     MD-TL |    .    .    .    .    .    .    .    .    .    .    .    .    .    .    .    .    .    .    .    .    .    .    .    .    .    .    .    .    .    .    .    .    .    .    .    .    .    .    .    .    .    .    .    .    .    .    .    .    .    .    .    .    .    .    .    .    .    .    .    .    .    .    .    .    .    .    .    .    .    .    .    .    .    .    .    .    .    .    .    .    .    .    .    .    .    .    .    .    .    .    .    .    .    .    .    .    .    .    .    .    .    .    .    .    .    1   <.>   .    .    .    .    .    .    .    .    .    .    .    .    .    .    .    .    .    .    .    .    .    .    .    .    .    .    .    .    .    .    .    .    .    .    .    .    .    .    .    .    .    .    .    .    .    .    .    .    .    .    .    .    .    .    .    .    .    .    .    .    .    .    .    .    .    .    .    .    .    .    .    .    .    .    .    .    .    .    .    .    .    .    .    .    .    .    .    .    .    .    .    .    .    .    .    .    .    .    .    . |\n",
            "        NN |    .    .    .    .    .    .    .    .    .    .    .    .    .    .    .    .    .    .    .    .    .    .    .    .    .    .    .    .    .    .    .    1    .    .    .    .    .    .    .    .    .    .    .    .    .    .    .    .    .    .    .    .    .    .    .    .    .    .    .    .    .    .    .    .    .    .    .    .    .    .    .    .    .    2    .    .    .    .    .    .    .    .    .    .    .    .    .    .    1    .    .    .   98    .    .    .    .    .    .    2    .    .    .    8    .    .    .<7317>   .    .    .    7   13    .    4    .    .    .    .    .    1    .    .    .    .    .    .    .    .    .    .    .    .    .    .    .    .    .    .    .    .    .    .    .    .    .    .    .    .    .    .    .    .    .    .    .    .    .    .    .    .    .    .    3    .    .    4    .    .    .    .    .    .    .    .    .    .    .    1    .  137    .    2    .    2    .   64    .    .    8    .    .    .    .    .    .    .    .    .    .    .    .    .    .    .    .    . |\n",
            "       NN$ |    .    .    .    .    .    .    .    .    .    .    .    .    .    .    .    .    .    .    .    .    .    .    .    .    .    .    .    .    .    .    .    .    .    .    .    .    .    .    .    .    .    .    .    .    .    .    .    .    .    .    .    .    .    .    .    .    .    .    .    .    .    .    .    .    .    .    .    .    .    .    .    .    .    .    .    .    .    .    .    .    .    .    .    .    .    .    .    .    .    .    .    .    .    .    .    .    .    .    .    .    .    .    .    .    .    .    .   36  <39>   .    .    .    .    .    .    .    .    .    .    .    .    .    .    .    .    .    .    .    .    .    .    .    .    .    .    .    .    .    .    .    .    .    .    .    .    .    .    .    .    .    .    .    .    .    .    .    .    .    .    .    .    .    .    .    .    .    .    .    .    .    .    .    .    .    .    .    .    .    .    .    .    .    .    .    .    .    .    .    .    .    .    .    .    .    .    .    .    .    .    .    .    .    .    .    .    .    . |\n",
            "    NN$-HL |    .    .    .    .    .    .    .    .    .    .    .    .    .    .    .    .    .    .    .    .    .    .    .    .    .    .    .    .    .    .    .    .    .    .    .    .    .    .    .    .    .    .    .    .    .    .    .    .    .    .    .    .    .    .    .    .    .    .    .    .    .    .    .    .    .    .    .    .    .    .    .    .    .    .    .    .    .    .    .    .    .    .    .    .    .    .    .    .    .    .    .    .    .    .    .    .    .    .    .    .    .    .    .    .    .    .    .    1    .   <.>   .    .    .    .    .    .    .    .    .    .    .    .    .    .    .    .    .    .    .    .    .    .    .    .    .    .    .    .    .    .    .    .    .    .    .    .    .    .    .    .    .    .    .    .    .    .    .    .    .    .    .    .    .    .    .    .    .    .    .    .    .    .    .    .    .    .    .    .    .    .    .    .    .    .    .    .    .    .    .    .    .    .    .    .    .    .    .    .    .    .    .    .    .    .    .    .    . |\n",
            "    NN$-TL |    .    .    .    .    .    .    .    .    .    .    .    .    .    .    .    .    .    .    .    .    .    .    .    .    .    .    .    .    .    .    .    .    .    .    .    .    .    .    .    .    .    .    .    .    .    .    .    .    .    .    .    .    .    .    .    .    .    .    .    .    .    .    .    .    .    .    .    .    .    .    .    .    .    .    .    .    .    .    .    .    .    .    .    .    .    .    .    .    .    .    .    .    .    .    .    .    .    .    .    .    .    .    .    .    .    .    .   16    .    .  <13>   .    .    .    .    .    .    .    .    .    .    .    .    .    .    .    .    .    .    .    .    .    .    .    .    .    .    .    .    .    .    .    .    .    .    .    .    .    .    .    .    .    .    .    .    .    .    .    .    .    .    .    .    .    .    .    .    .    .    .    .    .    .    .    .    .    .    .    .    .    .    .    .    .    .    .    .    .    .    .    .    .    .    .    .    .    .    .    .    .    .    .    .    .    .    .    . |\n",
            "     NN-HL |    .    .    .    .    .    .    .    .    .    .    .    .    .    .    .    .    .    .    .    .    .    .    .    .    .    .    .    .    .    .    .    .    .    .    .    .    .    .    .    .    .    .    .    .    .    .    .    .    .    .    .    .    .    .    .    .    .    .    .    .    .    .    .    .    .    .    .    .    .    .    .    .    .    .    .    .    .    .    .    .    .    .    .    .    .    .    .    .    .    .    .    .    4    .    .    .    .    .    .    .    .    .    .    .    .    .    .  176    .    .    .   <3>   7    .    .    .    .    .    .    .    .    .    .    .    .    .    .    .    .    .    .    .    .    .    .    .    .    .    .    .    .    .    .    .    .    .    .    .    .    .    .    .    .    .    .    .    .    .    .    .    .    .    .    .    .    .    .    .    .    .    .    .    .    .    .    .    .    .    .    .    7    .    .    .    .    .    .    .    .    1    .    .    .    .    .    .    .    .    .    .    .    .    .    .    .    .    . |\n",
            "     NN-TL |    .    .    .    .    .    .    .    .    .    .    .    .    .    .    .    .    .    .    .    .    .    .    .    .    .    .    .    .    .    .    .    .    .    .    .    .    .    .    .    .    .    .    .    .    .    .    .    .    .    .    1    .    .    .    .    .    .    .    .    .    .    .    .    .    .    .    .    .    .    .    .    .    .    .    .    .    .    .    .    .    .    .    .    .    .    .    .    .    .    .    .    .    .    .    1    .    .    .    .    .    .    .    .    .    .    .    .  248    .    .    .    6 <875>   1    .    .    .    .    .    .   18    .    .    .    .    .    1    .    .    .    .    .    .    .    .    .    .    .    .    .    .    .    .    .    .    .    .    .    .    .    .    .    .    .    .    .    .    .    .    .    .    .    .    .    .    .    .    .    .    .    .    .    .    .    .    .    .    .    .    .    .    .    .    .    .    .    1    .    .    .    .    .    .    .    .    .    .    .    .    .    .    .    .    .    .    .    . |\n",
            "  NN-TL-HL |    .    .    .    .    .    .    .    .    .    .    .    .    .    .    .    .    .    .    .    .    .    .    .    .    .    .    .    .    .    .    .    .    .    .    .    .    .    .    .    .    .    .    .    .    .    .    .    .    .    .    .    .    .    .    .    .    .    .    .    .    .    .    .    .    .    .    .    .    .    .    .    .    .    .    .    .    .    .    .    .    .    .    .    .    .    .    .    .    .    .    .    .    .    .    .    .    .    .    .    .    .    .    .    .    .    .    .    2    .    .    .    1    8   <.>   .    .    .    .    .    .    .    .    .    .    .    .    .    .    .    .    .    .    .    .    .    .    .    .    .    .    .    .    .    .    .    .    .    .    .    .    .    .    .    .    .    .    .    .    .    .    .    .    .    .    .    .    .    .    .    .    .    .    .    .    .    .    .    .    .    .    .    .    .    .    .    .    .    .    .    .    .    .    .    .    .    .    .    .    .    .    .    .    .    .    .    .    . |\n",
            "       NNS |    .    .    .    .    .    .    .    .    .    .    .    .    .    .    .    .    .    .    .    .    .    .    .    .    .    .    .    .    .    .    .    .    .    .    .    .    .    .    .    .    .    .    .    .    .    .    .    .    .    .    .    .    .    .    .    .    .    .    .    .    .    .    .    .    .    .    .    .    .    .    .    .    .    .    .    .    .    .    .    .    .    .    .    .    .    .    .    .    .    .    .    .    .    .    .    .    .    .    .    .    .    .    .    .    .    .    .  901    .    .    .    .    .    .<2019>   .    .   16    3    .    1    .    .    .    .    .    .    .    .    .    .    .    .    .    .    .    .    .    .    .    .    .    .    .    .    .    .    .    .    .    .    .    .    .    .    .    .    .    .    .    .    .    .    .    .    .    .    .    .    .    .    .    .    .    .    .    .    .    .    .    .    .    .    .    .    .    .    .    .    .    .    .    .   30    2    .    .    .    .    .    .    .    .    .    .    .    . |\n",
            "      NNS$ |    .    .    .    .    .    .    .    .    .    .    .    .    .    .    .    .    .    .    .    .    .    .    .    .    .    .    .    .    .    .    .    .    .    .    .    .    .    .    .    .    .    .    .    .    .    .    .    .    .    .    .    .    .    .    .    .    .    .    .    .    .    .    .    .    .    .    .    .    .    .    .    .    .    .    .    .    .    .    .    .    .    .    .    .    .    .    .    .    .    .    .    .    .    .    .    .    .    .    .    .    .    .    .    .    .    .    .   14    .    .    .    .    .    .    .   <7>   .    .    .    .    .    .    .    .    .    .    .    .    .    .    .    .    .    .    .    .    .    .    .    .    .    .    .    .    .    .    .    .    .    .    .    .    .    .    .    .    .    .    .    .    .    .    .    .    .    .    .    .    .    .    .    .    .    .    .    .    .    .    .    .    .    .    .    .    .    .    .    .    .    .    .    .    .    .    .    .    .    .    .    .    .    .    .    .    .    .    . |\n",
            "   NNS$-TL |    .    .    .    .    .    .    .    .    .    .    .    .    .    .    .    .    .    .    .    .    .    .    .    .    .    .    .    .    .    .    .    .    .    .    .    .    .    .    .    .    .    .    .    .    .    .    .    .    .    .    .    .    .    .    .    .    .    .    .    .    .    .    .    .    .    .    .    .    .    .    .    .    .    .    .    .    .    .    .    .    .    .    .    .    .    .    .    .    .    .    .    .    .    .    .    .    .    .    .    .    .    .    .    .    .    .    .    7    .    .    .    .    .    .    .    .   <1>   .    .    .    .    .    .    .    .    .    .    .    .    .    .    .    .    .    .    .    .    .    .    .    .    .    .    .    .    .    .    .    .    .    .    .    .    .    .    .    .    .    .    .    .    .    .    .    .    .    .    .    .    .    .    .    .    .    .    .    .    .    .    .    .    .    .    .    .    .    .    .    .    .    .    .    .    .    .    .    .    .    .    .    .    .    .    .    .    .    . |\n",
            "    NNS-HL |    .    .    .    .    .    .    .    .    .    .    .    .    .    .    .    .    .    .    .    .    .    .    .    .    .    .    .    .    .    .    .    .    .    .    .    .    .    .    .    .    .    .    .    .    .    .    .    .    .    .    .    .    .    .    .    .    .    .    .    .    .    .    .    .    .    .    .    .    .    .    .    .    .    .    .    .    .    .    .    .    .    .    .    .    .    .    .    .    .    .    .    .    .    .    .    .    .    .    .    .    .    .    .    .    .    .    .   23    .    .    .    .    .    .   22    .    .   <.>   1    .    .    .    .    .    .    .    .    .    .    .    .    .    .    .    .    .    .    .    .    .    .    .    .    .    .    .    .    .    .    .    .    .    .    .    .    .    .    .    .    .    .    .    .    .    .    .    .    .    .    .    .    .    .    .    .    .    .    .    .    .    .    .    .    .    .    .    .    .    .    .    .    .    .    4    .    .    .    .    .    .    .    .    .    .    .    .    . |\n",
            "    NNS-TL |    .    .    .    .    .    .    .    .    .    .    .    .    .    .    .    .    .    .    .    .    .    .    .    .    .    .    .    .    .    .    .    .    .    .    .    .    .    .    .    .    .    .    .    .    .    .    .    .    .    .    .    .    .    .    .    .    .    .    .    .    .    .    .    .    .    .    .    .    .    .    .    .    .    .    .    .    .    .    .    .    .    .    .    .    .    .    .    .    .    .    .    .    .    .    .    .    .    .    .    .    .    .    .    .    .    .    .   52    .    .    .    .    .    .    6    .    .    . <127>   .    .    .    .    .    .    .    .    1    .    .    .    .    .    .    .    .    .    .    .    .    .    .    .    .    .    .    .    .    .    .    .    .    .    .    .    .    .    .    .    .    .    .    .    .    .    .    .    .    .    .    .    .    .    .    .    .    .    .    .    .    .    .    .    .    .    .    .    .    .    .    .    .    .    .    .    .    .    .    .    .    .    .    .    .    .    .    . |\n",
            " NNS-TL-HL |    .    .    .    .    .    .    .    .    .    .    .    .    .    .    .    .    .    .    .    .    .    .    .    .    .    .    .    .    .    .    .    .    .    .    .    .    .    .    .    .    .    .    .    .    .    .    .    .    .    .    .    .    .    .    .    .    .    .    .    .    .    .    .    .    .    .    .    .    .    .    .    .    .    .    .    .    .    .    .    .    .    .    .    .    .    .    .    .    .    .    .    .    .    .    .    .    .    .    .    .    .    .    .    .    .    .    .    .    .    .    .    .    .    .    .    .    .    .    6   <.>   .    .    .    .    .    .    .    .    .    .    .    .    .    .    .    .    .    .    .    .    .    .    .    .    .    .    .    .    .    .    .    .    .    .    .    .    .    .    .    .    .    .    .    .    .    .    .    .    .    .    .    .    .    .    .    .    .    .    .    .    .    .    .    .    .    .    .    .    .    .    .    .    .    .    .    .    .    .    .    .    .    .    .    .    .    .    . |\n",
            "        NP |    .    .    .    .    .    .    .    .    .    .    .    .    1    .    .    .    .    .    .    .    .    .    .    .    .    .    .    .    .    .    .    .    .    .    .    .    .    .    .    .    .    .    .    .    .    .    .    .    .    .    .    .    .    .    .    .    .    .    .    .    .    .    .    .    .    .    .    .    .    .    .    .    .    .    .    .    .    .    .    .    .    .    .    .    .    .    .    .    .    .    .    .   17    .    2    .    .    .    .    .    .    .    .    .    .    .    .  623    .    .    .    .   13    .    .    .    .    .    .    .<1161>   .    .    .    .   10   57    .    .    .    .    .    .    .    .    .    .    .    .    .    .    .    .    .    .    .    .    .    .    .    .    .    .    .    .    .    .    .    .    .    .    .    .    .    .    .    .    .    .    .    .    .    .    .    .    .    .    .    .    .    .    .    .    .    .    .    .    .    .    .    .    .    .    .    .    .    .    .    .    .    .    .    .    .    .    .    . |\n",
            "       NP$ |    .    .    .    .    .    .    .    .    .    .    .    .    .    .    .    .    .    .    .    .    .    .    .    .    .    .    .    .    .    .    .    .    .    .    .    .    .    .    .    .    .    .    .    .    .    .    .    .    .    .    .    .    .    .    .    .    .    .    .    .    .    .    .    .    .    .    .    .    .    .    .    .    .    .    .    .    .    .    .    .    .    .    .    .    .    .    .    .    .    .    .    .    .    .    .    .    .    .    .    .    .    .    .    .    .    .    .  109    .    .    .    .    .    .    .    .    .    .    .    .    .  <47>   .    .    .    .    .    .    .    .    .    .    .    .    .    .    .    .    .    .    .    .    .    .    .    .    .    .    .    .    .    .    .    .    .    .    .    .    .    .    .    .    .    .    .    .    .    .    .    .    .    .    .    .    .    .    .    .    .    .    .    .    .    .    .    .    .    .    .    .    .    .    .    .    .    .    .    .    .    .    .    .    .    .    .    .    . |\n",
            "    NP$-HL |    .    .    .    .    .    .    .    .    .    .    .    .    .    .    .    .    .    .    .    .    .    .    .    .    .    .    .    .    .    .    .    .    .    .    .    .    .    .    .    .    .    .    .    .    .    .    .    .    .    .    .    .    .    .    .    .    .    .    .    .    .    .    .    .    .    .    .    .    .    .    .    .    .    .    .    .    .    .    .    .    .    .    .    .    .    .    .    .    .    .    .    .    .    .    .    .    .    .    .    .    .    .    .    .    .    .    .    4    .    .    .    .    .    .    .    .    .    .    .    .    .    .   <.>   .    .    .    .    .    .    .    .    .    .    .    .    .    .    .    .    .    .    .    .    .    .    .    .    .    .    .    .    .    .    .    .    .    .    .    .    .    .    .    .    .    .    .    .    .    .    .    .    .    .    .    .    .    .    .    .    .    .    .    .    .    .    .    .    .    .    .    .    .    .    .    .    .    .    .    .    .    .    .    .    .    .    .    . |\n",
            "    NP$-TL |    .    .    .    .    .    .    .    .    .    .    .    .    .    .    .    .    .    .    .    .    .    .    .    .    .    .    .    .    .    .    .    .    .    .    .    .    .    .    .    .    .    .    .    .    .    .    .    .    .    .    .    .    .    .    .    .    .    .    .    .    .    .    .    .    .    .    .    .    .    .    .    .    .    .    .    .    .    .    .    .    .    .    .    .    .    .    .    .    .    .    .    .    .    .    .    .    .    .    .    .    .    .    .    .    .    .    .    5    .    .    .    .    .    .    .    .    .    .    .    .    .    3    .   <.>   .    .    .    .    .    .    .    .    .    .    .    .    .    .    .    .    .    .    .    .    .    .    .    .    .    .    .    .    .    .    .    .    .    .    .    .    .    .    .    .    .    .    .    .    .    .    .    .    .    .    .    .    .    .    .    .    .    .    .    .    .    .    .    .    .    .    .    .    .    .    .    .    .    .    .    .    .    .    .    .    .    .    . |\n",
            "    NP+BEZ |    .    .    .    .    .    .    .    .    .    .    .    .    .    .    .    .    .    .    .    .    .    .    .    .    .    .    .    .    .    .    .    .    .    .    .    .    .    .    .    .    .    .    .    .    .    .    .    .    .    .    .    .    .    .    .    .    .    .    .    .    .    .    .    .    .    .    .    .    .    .    .    .    .    .    .    .    .    .    .    .    .    .    .    .    .    .    .    .    .    .    .    .    .    .    .    .    .    .    .    .    .    .    .    .    .    .    .    1    .    .    .    .    .    .    .    .    .    .    .    .    .    .    .    .   <.>   .    .    .    .    .    .    .    .    .    .    .    .    .    .    .    .    .    .    .    .    .    .    .    .    .    .    .    .    .    .    .    .    .    .    .    .    .    .    .    .    .    .    .    .    .    .    .    .    .    .    .    .    .    .    .    .    .    .    .    .    .    .    .    .    .    .    .    .    .    .    .    .    .    .    .    .    .    .    .    .    .    . |\n",
            "     NP-HL |    .    .    .    .    .    .    .    .    .    .    .    .    .    .    .    .    .    .    .    .    .    .    .    .    .    .    .    .    .    .    .    .    .    .    .    .    .    .    .    .    .    .    .    .    .    .    .    .    .    .    .    .    .    .    .    .    .    .    .    .    .    .    .    .    .    .    .    .    .    .    .    .    .    .    .    .    .    .    .    .    .    .    .    .    .    .    .    .    .    .    .    .    1    .    .    .    .    .    .    .    .    .    .    .    .    .    .   32    .    .    .    .    1    .    .    .    .    .    .    .   33    .    .    .    .   <5>  11    .    .    .    .    .    .    .    .    .    .    .    .    .    .    .    .    .    .    .    .    .    .    .    .    .    .    .    .    .    .    .    .    .    .    .    .    .    .    .    .    .    .    .    .    .    .    .    .    .    .    .    .    .    .    .    .    .    .    .    .    .    .    .    .    .    .    .    .    .    .    .    .    .    .    .    .    .    .    .    . |\n",
            "     NP-TL |    .    .    .    .    .    .    .    .    .    .    .    .    .    .    .    .    .    .    .    .    .    .    .    2    .    .    .    .    .    .    .    .    .    .    .    .    .    .    .    .    .    .    .    .    .    .    .    .    .    .    .    .    .    .    .    .    .    .    .    .    .    .    .    .    .    .    .    .    .    .    .    .    .    .    .    .    .    .    .    .    .    .    .    .    .    .    .    .    .    .    .    .    4    .    1    .    .    .    .    .    .    .    .    .    .    .    .   71    .    .    .    .    .    .    .    .    .    .    .    .  130    .    .    .    .    2 <121>   .    .    .    .    .    .    .    .    .    .    .    .    .    .    .    .    .    .    .    .    .    .    .    .    .    .    .    .    .    .    .    .    .    .    .    .    .    .    .    .    .    .    .    .    .    .    .    .    .    .    .    .    .    .    .    .    .    .    .    .    .    .    .    .    .    .    .    .    .    .    .    .    .    .    .    .    .    .    .    . |\n",
            "       NPS |    .    .    .    .    .    .    .    .    .    .    .    .    .    .    .    .    .    .    .    .    .    .    .    .    .    .    .    .    .    .    .    .    .    .    .    .    .    .    .    .    .    .    .    .    .    .    .    .    .    .    .    .    .    .    .    .    .    .    .    .    .    .    .    .    .    .    .    .    .    .    .    .    .    .    .    .    .    .    .    .    .    .    .    .    .    .    .    .    .    .    .    .   12    .    .    .    .    .    .    .    .    .    .    .    .    .    .   52    .    .    .    .    .    .    .    .    .    .    .    .    .    .    .    .    .    .    .  <50>   .    .    .    .    .    .    .    .    .    .    .    .    .    .    .    .    .    .    .    .    .    .    .    .    .    .    .    .    .    .    .    .    .    .    .    .    .    .    .    .    .    .    .    .    .    .    .    .    .    .    .    .    .    .    .    .    .    .    .    .    .    .    .    .    .    .    .    .    .    .    .    .    .    .    .    .    .    .    . |\n",
            "   NPS$-HL |    .    .    .    .    .    .    .    .    .    .    .    .    .    .    .    .    .    .    .    .    .    .    .    .    .    .    .    .    .    .    .    .    .    .    .    .    .    .    .    .    .    .    .    .    .    .    .    .    .    .    .    .    .    .    .    .    .    .    .    .    .    .    .    .    .    .    .    .    .    .    .    .    .    .    .    .    .    .    .    .    .    .    .    .    .    .    .    .    .    .    .    .    .    .    .    .    .    .    .    .    .    .    .    .    .    .    .    1    .    .    .    .    .    .    .    .    .    .    .    .    .    .    .    .    .    .    .    .   <.>   .    .    .    .    .    .    .    .    .    .    .    .    .    .    .    .    .    .    .    .    .    .    .    .    .    .    .    .    .    .    .    .    .    .    .    .    .    .    .    .    .    .    .    .    .    .    .    .    .    .    .    .    .    .    .    .    .    .    .    .    .    .    .    .    .    .    .    .    .    .    .    .    .    .    .    .    .    . |\n",
            "    NPS-HL |    .    .    .    .    .    .    .    .    .    .    .    .    .    .    .    .    .    .    .    .    .    .    .    .    .    .    .    .    .    .    .    .    .    .    .    .    .    .    .    .    .    .    .    .    .    .    .    .    .    .    .    .    .    .    .    .    .    .    .    .    .    .    .    .    .    .    .    .    .    .    .    .    .    .    .    .    .    .    .    .    .    .    .    .    .    .    .    .    .    .    .    .    .    .    .    .    .    .    .    .    .    .    .    .    .    .    .    2    .    .    .    .    .    .    .    .    .    .    .    .    .    .    .    .    .    .    .    .    .   <.>   .    .    .    .    .    .    .    .    .    .    .    .    .    .    .    .    .    .    .    .    .    .    .    .    .    .    .    .    .    .    .    .    .    .    .    .    .    .    .    .    .    .    .    .    .    .    .    .    .    .    .    .    .    .    .    .    .    .    .    .    .    .    .    .    .    .    .    .    .    .    .    .    .    .    .    .    . |\n",
            "    NPS-TL |    .    .    .    .    .    .    .    .    .    .    .    .    .    .    .    .    .    .    .    .    .    .    .    .    .    .    .    .    .    .    .    .    .    .    .    .    .    .    .    .    .    .    .    .    .    .    .    .    .    .    .    .    .    .    .    .    .    .    .    .    .    .    .    .    .    .    .    .    .    .    .    .    .    .    .    .    .    .    .    .    .    .    .    .    .    .    .    .    .    .    .    .    .    .    .    .    .    .    .    .    .    .    .    .    .    .    .    1    .    .    .    .    .    .    .    .    .    .    .    .    .    .    .    .    .    .    .    1    .    .   <.>   .    .    .    .    .    .    .    .    .    .    .    .    .    .    .    .    .    .    .    .    .    .    .    .    .    .    .    .    .    .    .    .    .    .    .    .    .    .    .    .    .    .    .    .    .    .    .    .    .    .    .    .    .    .    .    .    .    .    .    .    .    .    .    .    .    .    .    .    .    .    .    .    .    .    .    . |\n",
            "        NR |    .    .    .    .    .    .    .    .    .    .    .    .    .    .    .    .    .    .    .    .    .    .    .    .    .    .    .    .    .    .    .    .    .    .    .    .    .    .    .    .    .    .    .    .    .    .    .    .    .    .    .    .    .    .    .    .    .    .    .    .    .    .    .    .    .    .    .    .    .    .    .    .    .    .    .    .    .    .    .    .    .    .    .    .    .    .    .    .    .    .    .    .    3    .    1    .    .    .    .    .    .    .    .    .    .    .    .    5    .    .    .    .    .    .    .    .    .    .    .    .    .    .    .    .    .    .    .    .    .    .    .  <43>   .    .    .    .    .    .    .    .    .    .    .    .    .    .    .    .    .    .    .    .    .    .    .    .    .    .    .    .    .    .    .    .    .    .    .    .    .    .    .    .    .    .    .    .    .    .    .    .    .    .    .    .    .    .    .    .    .    .    .    .    .    .    .    .    .    .    .    .    .    .    .    .    .    .    . |\n",
            "       NR$ |    .    .    .    .    .    .    .    .    .    .    .    .    .    .    .    .    .    .    .    .    .    .    .    .    .    .    .    .    .    .    .    .    .    .    .    .    .    .    .    .    .    .    .    .    .    .    .    .    .    .    .    .    .    .    .    .    .    .    .    .    .    .    .    .    .    .    .    .    .    .    .    .    .    .    .    .    .    .    .    .    .    .    .    .    .    .    .    .    .    .    .    .    .    .    .    .    .    .    .    .    .    .    .    .    .    .    .    .    .    .    .    .    .    .    .    .    .    .    .    .    .    .    .    .    .    .    .    .    .    .    .    .   <3>   .    .    .    .    .    .    .    .    .    .    .    .    .    .    .    .    .    .    .    .    .    .    .    .    .    .    .    .    .    .    .    .    .    .    .    .    .    .    .    .    .    .    .    .    .    .    .    .    .    .    .    .    .    .    .    .    .    .    .    .    .    .    .    .    .    .    .    .    .    .    .    .    .    . |\n",
            "    NR$-TL |    .    .    .    .    .    .    .    .    .    .    .    .    .    .    .    .    .    .    .    .    .    .    .    .    .    .    .    .    .    .    .    .    .    .    .    .    .    .    .    .    .    .    .    .    .    .    .    .    .    .    .    .    .    .    .    .    .    .    .    .    .    .    .    .    .    .    .    .    .    .    .    .    .    .    .    .    .    .    .    .    .    .    .    .    .    .    .    .    .    .    .    .    .    .    .    .    .    .    .    .    .    .    .    .    .    .    .    .    .    .    .    .    .    .    .    .    .    .    .    .    .    .    .    .    .    .    .    .    .    .    .    .    3   <.>   .    .    .    .    .    .    .    .    .    .    .    .    .    .    .    .    .    .    .    .    .    .    .    .    .    .    .    .    .    .    .    .    .    .    .    .    .    .    .    .    .    .    .    .    .    .    .    .    .    .    .    .    .    .    .    .    .    .    .    .    .    .    .    .    .    .    .    .    .    .    .    .    . |\n",
            "     NR-TL |    .    .    .    .    .    .    .    .    .    .    .    .    .    .    .    .    .    .    .    .    .    .    .    .    .    .    .    .    .    .    .    .    .    .    .    .    .    .    .    .    .    .    .    .    .    .    .    .    .    .    .    .    .    .    .    .    .    .    .    .    .    .    .    .    .    .    .    .    .    .    .    .    .    .    .    .    .    .    .    .    .    .    .    .    .    .    .    .    .    .    .    .    .    .   10    .    .    .    .    .    .    .    .    .    .    .    .    .    .    .    .    .    1    .    .    .    .    .    .    .    .    .    .    .    .    .    .    .    .    .    .    .    .    .  <21>   .    .    .    .    .    .    .    .    .    .    .    .    .    .    .    .    .    .    .    .    .    .    .    .    .    .    .    .    .    .    .    .    .    .    .    .    .    .    .    .    .    .    .    .    .    .    .    .    .    .    .    .    .    .    .    .    .    .    .    .    .    .    .    .    .    .    .    .    .    .    .    . |\n",
            "       NRS |    .    .    .    .    .    .    .    .    .    .    .    .    .    .    .    .    .    .    .    .    .    .    .    .    .    .    .    .    .    .    .    .    .    .    .    .    .    .    .    .    .    .    .    .    .    .    .    .    .    .    .    .    .    .    .    .    .    .    .    .    .    .    .    .    .    .    .    .    .    .    .    .    .    .    .    .    .    .    .    .    .    .    .    .    .    .    .    .    .    .    .    .    .    .    .    .    .    .    .    .    .    .    .    .    .    .    .    1    .    .    .    .    .    .    .    .    .    .    .    .    .    .    .    .    .    .    .    .    .    .    .    .    .    .    .   <.>   .    .    .    .    .    .    .    .    .    .    .    .    .    .    .    .    .    .    .    .    .    .    .    .    .    .    .    .    .    .    .    .    .    .    .    .    .    .    .    .    .    .    .    .    .    .    .    .    .    .    .    .    .    .    .    .    .    .    .    .    .    .    .    .    .    .    .    .    .    .    . |\n",
            "        OD |    .    .    .    .    .    .    .    .    .    .    .    .    .    .    .    .    .    .    .    .    .    .    .    .    .    .    .    .    .    .    .    .    .    .    .    .    .    .    .    .    .    .    .    .    .    .    .    .    .    .    .    .    .    .    .    .    .    .    .    .    .    .    .    .    .    .    .    .    .    .    .    .    .    .    .    .    .    .    .    .    .    .    .    .    .    .    .    .    .    .    .    .    .    .    .    .    .    .    .    .    .    .    .    .    .    .    .    6    .    .    .    .    .    .    .    .    .    .    .    .    .    .    .    .    .    .    .    .    .    .    .    .    .    .    .    .  <83>   .    .    .    .    .    .    .    .    .    .    .    .    .    .    .    .    .    .    .    .    .    .    .    .    .    .    .    .    .    3    .    5    .    .    .    .    .    .    .    .    .    .    .    .    .    .    .    .    .    .    .    .    .    .    .    .    .    .    .    .    .    .    .    .    .    .    .    .    .    . |\n",
            "     OD-TL |    .    .    .    .    .    .    .    .    .    .    .    .    .    .    .    .    .    .    .    .    .    .    .    .    .    .    .    .    .    .    .    .    .    .    .    .    .    .    .    .    .    .    .    .    .    .    .    .    .    .    .    .    .    .    .    .    .    .    .    .    .    .    .    .    .    .    .    .    .    .    .    .    .    .    .    .    .    .    .    .    .    .    .    .    .    .    .    .    .    .    .    .    .    .    .    .    .    .    .    .    .    .    .    .    .    .    .   12    .    .    .    .    .    .    .    .    .    .    .    .    .    .    .    .    .    .    .    .    .    .    .    .    .    .    .    .    2   <2>   .    .    .    .    .    .    .    .    .    .    .    .    .    .    .    .    .    .    .    .    .    .    .    .    .    .    .    .    .    .    .    .    .    .    .    .    .    .    .    .    .    .    .    .    .    .    .    .    .    .    .    .    .    .    .    .    .    .    .    .    .    .    .    .    .    .    .    .    . |\n",
            "        PN |    .    .    .    .    .    .    .    .    .    .    .    .    .    .    .    .    .    .    .    .    .    .    .    .    .    .    .    .    .    .    .    .    .    .    .    .    .    .    .    .    .    .    .    .    .   20    .    .    .    .    .    .    .    .    .    .    .    .    .    .    .    .    .    .    .    .    .    .    .    .    .    .    .    .    .    .    .    .    .    .    .    .    .    .    .    .    .    .    .    .    .    .    .    .    .    .    .    .    .    .    .    .    .    .    .    .    .    3    .    .    .    .    .    .    .    .    .    .    .    .    .    .    .    .    .    .    .    .    .    .    .    .    .    .    .    .    .    .  <84>   .    .    .    .    .    .    .    .    .    .    .    .    .    .    .    .    .    .    .    .    .    .    .    .    .    .    .    .    .    .    .    .    .    .    .    .    .    .    .    .    .    .    .    .    .    .    .    .    .    .    .    .    .    .    .    .    .    .    .    .    .    .    .    .    .    .    .    . |\n",
            "       PN$ |    .    .    .    .    .    .    .    .    .    .    .    .    .    .    .    .    .    .    .    .    .    .    .    .    .    .    .    .    .    .    .    .    .    .    .    .    .    .    .    .    .    .    .    .    .    .    .    .    .    .    .    .    .    .    .    .    .    .    .    .    .    .    .    .    .    .    .    .    .    .    .    .    .    .    .    .    .    .    .    .    .    .    .    .    .    .    .    .    .    .    .    .    .    .    .    .    .    .    .    .    .    .    .    .    .    .    .    1    .    .    .    .    .    .    .    .    .    .    .    .    .    .    .    .    .    .    .    .    .    .    .    .    .    .    .    .    .    .    .   <1>   .    .    .    .    .    .    .    .    .    .    .    .    .    .    .    .    .    .    .    .    .    .    .    .    .    .    .    .    .    .    .    .    .    .    .    .    .    .    .    .    .    .    .    .    .    .    .    .    .    .    .    .    .    .    .    .    .    .    .    .    .    .    .    .    .    .    . |\n",
            "     PN-HL |    .    .    .    .    .    .    .    .    .    .    .    .    .    .    .    .    .    .    .    .    .    .    .    .    .    .    .    .    .    .    .    .    .    .    .    .    .    .    .    .    .    .    .    .    .    .    .    .    .    .    .    .    .    .    .    .    .    .    .    .    .    .    .    .    .    .    .    .    .    .    .    .    .    .    .    .    .    .    .    .    .    .    .    .    .    .    .    .    .    .    .    .    .    .    .    .    .    .    .    .    .    .    .    .    .    .    .    .    .    .    .    .    .    .    .    .    .    .    .    .    .    .    .    .    .    .    .    .    .    .    .    .    .    .    .    .    .    .    1    .   <.>   .    .    .    .    .    .    .    .    .    .    .    .    .    .    .    .    .    .    .    .    .    .    .    .    .    .    .    .    .    .    .    .    .    .    .    .    .    .    .    .    .    .    .    .    .    .    .    .    .    .    .    .    .    .    .    .    .    .    .    .    .    .    .    .    .    . |\n",
            "       PP$ |    .    .    .    .    .    .    .    .    .    .    .    .    .    .    .    .    .    .    .    .    .    .    .    .    .    .    .    .    .    .    .    .    .    .    .    .    .    .    .    .    .    .    .    .    .    .    .    .    .    .    .    .    .    .    .    .    .    .    .    .    .    .    .    .    .    .    .    .    .    .    .    .    .    .    .    .    .    .    .    .    .    .    .    .    .    .    .    .    .    .    .    .    .    .    .    .    .    .    .    .    .    .    .    .    .    .    .    4    .    .    .    .    .    .    .    .    .    .    .    .    .    .    .    .    .    .    .    .    .    .    .    .    .    .    .    .    .    .    .    .    . <762>   .    .    .    .    .    .    5    .    .    .    .    .    .    .    .    .    .    .    .    .    .    .    .    .    .    .    .    .    .    .    .    .    .    .    .    .    .    .    .    .    .    .    .    .    .    .    .    .    .    .    .    .    .    .    .    .    .    .    .    .    .    .    .    .    . |\n",
            "      PP$$ |    .    .    .    .    .    .    .    .    .    .    .    .    .    .    .    .    .    .    .    .    .    .    .    .    .    .    .    .    .    .    .    .    .    .    .    .    .    .    .    .    .    .    .    .    .    .    .    .    .    .    .    .    .    .    .    .    .    .    .    .    .    .    .    .    .    .    .    .    .    .    .    .    .    .    .    .    .    .    .    .    .    .    .    .    .    .    .    .    .    .    .    .    .    .    .    .    .    .    .    .    .    .    .    .    .    .    .    5    .    .    .    .    .    .    .    .    .    .    .    .    .    .    .    .    .    .    .    .    .    .    .    .    .    .    .    .    .    .    .    .    .    1   <4>   .    .    .    .    .    .    .    .    .    .    .    .    .    .    .    .    .    .    .    .    .    .    .    .    .    .    .    .    .    .    .    .    .    .    .    .    .    .    .    .    .    .    .    .    .    .    .    .    .    .    .    .    .    .    .    .    .    .    .    .    .    .    .    . |\n",
            "    PP$-HL |    .    .    .    .    .    .    .    .    .    .    .    .    .    .    .    .    .    .    .    .    .    .    .    .    .    .    .    .    .    .    .    .    .    .    .    .    .    .    .    .    .    .    .    .    .    .    .    .    .    .    .    .    .    .    .    .    .    .    .    .    .    .    .    .    .    .    .    .    .    .    .    .    .    .    .    .    .    .    .    .    .    .    .    .    .    .    .    .    .    .    .    .    .    .    .    .    .    .    .    .    .    .    .    .    .    .    .    .    .    .    .    .    .    .    .    .    .    .    .    .    .    .    .    .    .    .    .    .    .    .    .    .    .    .    .    .    .    .    .    .    .    1    .   <.>   .    .    .    .    .    .    .    .    .    .    .    .    .    .    .    .    .    .    .    .    .    .    .    .    .    .    .    .    .    .    .    .    .    .    .    .    .    .    .    .    .    .    .    .    .    .    .    .    .    .    .    .    .    .    .    .    .    .    .    .    .    .    . |\n",
            "    PP$-TL |    .    .    .    .    .    .    .    .    .    .    .    .    .    .    .    .    .    .    .    .    .    .    .    .    .    .    .    .    .    .    .    .    .    .    .    .    .    .    .    .    .    .    .    .    .    .    .    .    .    .    .    .    .    .    .    .    .    .    .    .    .    .    .    .    .    .    .    .    .    .    .    .    .    .    .    .    .    .    .    .    .    .    .    .    .    .    .    .    .    .    .    .    .    .    .    .    .    .    .    .    .    .    .    .    .    .    .    .    .    .    .    .    .    .    .    .    .    .    .    .    .    .    .    .    .    .    .    .    .    .    .    .    .    .    .    .    .    .    .    .    .    4    .    .   <.>   .    .    .    .    .    .    .    .    .    .    .    .    .    .    .    .    .    .    .    .    .    .    .    .    .    .    .    .    .    .    .    .    .    .    .    .    .    .    .    .    .    .    .    .    .    .    .    .    .    .    .    .    .    .    .    .    .    .    .    .    .    . |\n",
            "       PPL |    .    .    .    .    .    .    .    .    .    .    .    .    .    .    .    .    .    .    .    .    .    .    .    .    .    .    .    .    .    .    .    .    .    .    .    .    .    .    .    .    .    .    .    .    .    .    .    .    .    .    .    .    .    .    .    .    .    .    .    .    .    .    .    .    .    .    .    .    .    .    .    .    .    .    .    .    .    .    .    .    .    .    .    .    .    .    .    .    .    .    .    .    .    .    .    .    .    .    .    .    .    .    .    .    .    .    .    .    .    .    .    .    .    .    .    .    .    .    .    .    .    .    .    .    .    .    .    .    .    .    .    .    .    .    .    .    .    .    .    .    .    .    .    .    .  <56>   .    .    .    .    .    .    .    .    .    .    .    .    .    .    .    .    .    .    .    .    .    .    .    .    .    .    .    .    .    .    .    .    .    .    .    .    .    .    .    .    .    .    .    .    .    .    .    .    .    .    .    .    .    .    .    .    .    .    .    .    . |\n",
            "    PPL-HL |    .    .    .    .    .    .    .    .    .    .    .    .    .    .    .    .    .    .    .    .    .    .    .    .    .    .    .    .    .    .    .    .    .    .    .    .    .    .    .    .    .    .    .    .    .    .    .    .    .    .    .    .    .    .    .    .    .    .    .    .    .    .    .    .    .    .    .    .    .    .    .    .    .    .    .    .    .    .    .    .    .    .    .    .    .    .    .    .    .    .    .    .    .    .    .    .    .    .    .    .    .    .    .    .    .    .    .    .    .    .    .    .    .    .    .    .    .    .    .    .    .    .    .    .    .    .    .    .    .    .    .    .    .    .    .    .    .    .    .    .    .    .    .    .    .    1   <.>   .    .    .    .    .    .    .    .    .    .    .    .    .    .    .    .    .    .    .    .    .    .    .    .    .    .    .    .    .    .    .    .    .    .    .    .    .    .    .    .    .    .    .    .    .    .    .    .    .    .    .    .    .    .    .    .    .    .    .    . |\n",
            "      PPLS |    .    .    .    .    .    .    .    .    .    .    .    .    .    .    .    .    .    .    .    .    .    .    .    .    .    .    .    .    .    .    .    .    .    .    .    .    .    .    .    .    .    .    .    .    .    .    .    .    .    .    .    .    .    .    .    .    .    .    .    .    .    .    .    .    .    .    .    .    .    .    .    .    .    .    .    .    .    .    .    .    .    .    .    .    .    .    .    .    .    .    .    .    .    .    .    .    .    .    .    .    .    .    .    .    .    .    .    .    .    .    .    .    .    .    .    .    .    .    .    .    .    .    .    .    .    .    .    .    .    .    .    .    .    .    .    .    .    .    .    .    .    .    .    .    .    .    .  <26>   .    .    .    .    .    .    .    .    .    .    .    .    .    .    .    .    .    .    .    .    .    .    .    .    .    .    .    .    .    .    .    .    .    .    .    .    .    .    .    .    .    .    .    .    .    .    .    .    .    .    .    .    .    .    .    .    .    .    . |\n",
            "       PPO |    .    .    .    .    .    .    .    .    .    .    .    .    .    .    .    .    .    .    .    .    .    .    .    .    .    .    .    .    .    .    .    .    .    .    .    .    .    .    .    .    .    .    .    .    .    .    .    .    .    .    .    .    .    .    .    .    .    .    .    .    .    .    .    .    .    .    .    .    .    .    .    .    .    .    .    .    .    .    .    .    .    .    .    .    .    .    .    .    .    .    .    .    .    .    .    .    .    .    .    .    .    .    .    .    .    .    .    1    .    .    .    .    .    .    .    .    .    .    .    .    .    .    .    .    .    .    .    .    .    .    .    .    .    .    .    .    .    .    .    .    .    9    .    .    .    .    .    . <403>   .    .   28    .    .    .   12    .    .    .    .    .    .    .    .    .    .    .    .    .    .    .    .    .    .    .    .    .    .    .    .    .    .    .    .    .    .    .    .    .    .    .    .    .    .    .    .    .    .    .    .    .    .    .    .    .    .    . |\n",
            "    PPO-HL |    .    .    .    .    .    .    .    .    .    .    .    .    .    .    .    .    .    .    .    .    .    .    .    .    .    .    .    .    .    .    .    .    .    .    .    .    .    .    .    .    .    .    .    .    .    .    .    .    .    .    .    .    .    .    .    .    .    .    .    .    .    .    .    .    .    .    .    .    .    .    .    .    .    .    .    .    .    .    .    .    .    .    .    .    .    .    .    .    .    .    .    .    .    .    .    .    .    .    .    .    .    .    .    .    .    .    .    .    .    .    .    .    .    .    .    .    .    .    .    .    .    .    .    .    .    .    .    .    .    .    .    .    .    .    .    .    .    .    .    .    .    .    .    .    .    .    .    .    2   <.>   .    .    .    .    .    .    .    .    .    .    .    .    .    .    .    .    .    .    .    .    .    .    .    .    .    .    .    .    .    .    .    .    .    .    .    .    .    .    .    .    .    .    .    .    .    .    .    .    .    .    .    .    .    .    .    .    . |\n",
            "    PPO-TL |    .    .    .    .    .    .    .    .    .    .    .    .    .    .    .    .    .    .    .    .    .    .    .    .    .    .    .    .    .    .    .    .    .    .    .    .    .    .    .    .    .    .    .    .    .    .    .    .    .    .    .    .    .    .    .    .    .    .    .    .    .    .    .    .    .    .    .    .    .    .    .    .    .    .    .    .    .    .    .    .    .    .    .    .    .    .    .    .    .    .    .    .    .    .    .    .    .    .    .    .    .    .    .    .    .    .    .    .    .    .    .    .    .    .    .    .    .    .    .    .    .    .    .    .    .    .    .    .    .    .    .    .    .    .    .    .    .    .    .    .    .    .    .    .    .    .    .    .    2    .   <.>   .    .    .    .    .    .    .    .    .    .    .    .    .    .    .    .    .    .    .    .    .    .    .    .    .    .    .    .    .    .    .    .    .    .    .    .    .    .    .    .    .    .    .    .    .    .    .    .    .    .    .    .    .    .    .    . |\n",
            "       PPS |    .    .    .    .    .    .    .    .    .    .    .    .    .    .    .    .    .    .    .    .    .    .    .    .    .    .    .    .    .    .    .    .    .    .    .    .    .    .    .    .    .    .    .    .    .    .    .    .    .    .    .    .    .    .    .    .    .    .    .    .    .    .    .    .    .    .    .    .    .    .    .    .    .    .    .    .    .    .    .    .    .    .    .    .    .    .    .    .    .    .    .    .    .    .    .    .    .    .    .    .    .    .    .    .    .    .    .    .    .    .    .    .    .    .    .    .    .    .    .    .    .    .    .    .    .    .    .    .    .    .    .    .    .    .    .    .    .    .    .    .    .    .    .    .    .    .    .    .   20    .    . <762>   .    .    .    .    .    .    .    .    .    .    .    .    .    .    .    .    .    .    .    .    .    .    .    .    .    .    .    .    .    .    .    .    .    .    .    .    .    .    .    .    .    .    .    .    .    .    .    .    .    .    .    .    .    .    . |\n",
            "   PPS+BEZ |    .    .    .    .    .    .    .    .    .    .    .    .    .    .    .    .    .    .    .    .    .    .    .    .    .    .    .    .    .    .    .    .    .    .    .    .    .    .    .    .    .    .    .    .    .    .    .    .    .    .    .    .    .    .    .    .    .    .    .    .    .    .    .    .    .    .    .    .    .    .    .    .    .    .    .    .    .    .    .    .    .    .    .    .    .    .    .    .    .    .    .    .    .    .    .    .    .    .    .    .    .    .    .    .    .    .    .    1    .    .    .    .    .    .    .    .    .    .    .    .    .    .    .    .    .    .    .    .    .    .    .    .    .    .    .    .    .    .    .    .    .    .    .    .    .    .    .    .    .    .    .    .  <22>   .    .    .    .    .    .    .    .    .    .    .    .    .    .    .    .    .    .    .    .    .    .    .    .    .    .    .    .    .    .    .    .    .    .    .    .    .    .    .    .    .    .    .    .    .    .    .    .    .    .    .    .    .    . |\n",
            "   PPS+HVZ |    .    .    .    .    .    .    .    .    .    .    .    .    .    .    .    .    .    .    .    .    .    .    .    .    .    .    .    .    .    .    .    .    .    .    .    .    .    .    .    .    .    .    .    .    .    .    .    .    .    .    .    .    .    .    .    .    .    .    .    .    .    .    .    .    .    .    .    .    .    .    .    .    .    .    .    .    .    .    .    .    .    .    .    .    .    .    .    .    .    .    .    .    .    .    .    .    .    .    .    .    .    .    .    .    .    .    .    .    .    .    .    .    .    .    .    .    .    .    .    .    .    .    .    .    .    .    .    .    .    .    .    .    .    .    .    .    .    .    .    .    .    .    .    .    .    .    .    .    .    .    .    .    3   <.>   .    .    .    .    .    .    .    .    .    .    .    .    .    .    .    .    .    .    .    .    .    .    .    .    .    .    .    .    .    .    .    .    .    .    .    .    .    .    .    .    .    .    .    .    .    .    .    .    .    .    .    .    . |\n",
            "    PPS+MD |    .    .    .    .    .    .    .    .    .    .    .    .    .    .    .    .    .    .    .    .    .    .    .    .    .    .    .    .    .    .    .    .    .    .    .    .    .    .    .    .    .    .    .    .    .    .    .    .    .    .    .    .    .    .    .    .    .    .    .    .    .    .    .    .    .    .    .    .    .    .    .    .    .    .    .    .    .    .    .    .    .    .    .    .    .    .    .    .    .    .    .    .    .    .    .    .    .    .    .    .    .    .    .    .    .    .    .    .    .    .    .    .    .    .    .    .    .    .    .    .    .    .    .    .    .    .    .    .    .    .    .    .    .    .    .    .    .    .    .    .    .    .    .    .    .    .    .    .    .    .    .    .    .    .   <2>   .    .    .    .    .    .    .    .    .    .    .    .    .    .    .    .    .    .    .    .    .    .    .    .    .    .    .    .    .    .    .    .    .    .    .    .    .    .    .    .    .    .    .    .    .    .    .    .    .    .    .    . |\n",
            "      PPSS |    .    .    .    .    .    .    .    .    .    .    .    .    .    .    .    .    .    .    .    .    .    .    .    .    .    .    .    .    .    .    .    .    .    .    .    .    .    .    .    .    .    .    .    .    .    .    .    .    .    .    .    .    .    .    .    .    .    .    .    .    .    .    .    .    .    .    .    .    .    .    .    .    .    .    .    .    .    .    .    .    .    .    .    .    .    .    .    .    .    .    .    .    .    .    .    .    .    .    .    .    .    .    .    .    .    .    .    1    .    .    .    .    .    .    .    .    .    .    .    .    .    .    .    .    .    .    .    .    .    .    .    .    .    .    .    .    .    .    .    .    .    .    .    .    .    .    .    .    4    .    .    .    .    .    . <668>   .    .    .    .    .    .    .    .    .    .    .    .    .    .    .    .    .    .    .    .    .    .    .    .    .    .    .    .    .    .    .    .    .    .    .    .    .    .    .    .    .    .    .    .    .    .    .    .    .    .    . |\n",
            "  PPSS+BEM |    .    .    .    .    .    .    .    .    .    .    .    .    .    .    .    .    .    .    .    .    .    .    .    .    .    .    .    .    .    .    .    .    .    .    .    .    .    .    .    .    .    .    .    .    .    .    .    .    .    .    .    .    .    .    .    .    .    .    .    .    .    .    .    .    .    .    .    .    .    .    .    .    .    .    .    .    .    .    .    .    .    .    .    .    .    .    .    .    .    .    .    .    .    .    .    .    .    .    .    .    .    .    .    .    .    .    .    .    .    .    .    .    .    .    .    .    .    .    .    .    .    .    .    .    .    .    .    .    .    .    .    .    .    .    .    .    .    .    .    .    .    .    .    .    .    .    .    .    .    .    .    .    .    .    .    .   <2>   .    .    .    .    .    .    .    .    .    .    .    .    .    .    .    .    .    .    .    .    .    .    .    .    .    .    .    .    .    .    .    .    .    .    .    .    .    .    .    .    .    .    .    .    .    .    .    .    .    . |\n",
            "  PPSS+BER |    .    .    .    .    .    .    .    .    .    .    .    .    .    .    .    .    .    .    .    .    .    .    .    .    .    .    .    .    .    .    .    .    .    .    .    .    .    .    .    .    .    .    .    .    .    .    .    .    .    .    .    .    .    .    .    .    .    .    .    .    .    .    .    .    .    .    .    .    .    .    .    .    .    .    .    .    .    .    .    .    .    .    .    .    .    .    .    .    .    .    .    .    .    .    .    .    .    .    .    .    .    .    .    .    .    .    .    .    .    .    .    .    .    .    .    .    .    .    .    .    .    .    .    .    .    .    .    .    .    .    .    .    .    .    .    .    .    .    .    .    .    .    .    .    .    .    .    .    .    .    .    .    .    .    .    .    .  <12>   .    .    .    .    .    .    .    .    .    .    .    .    .    .    .    .    .    .    .    .    .    .    .    .    .    .    .    .    .    .    .    .    .    .    .    .    .    .    .    .    .    .    .    .    .    .    .    .    . |\n",
            "   PPSS+HV |    .    .    .    .    .    .    .    .    .    .    .    .    .    .    .    .    .    .    .    .    .    .    .    .    .    .    .    .    .    .    .    .    .    .    .    .    .    .    .    .    .    .    .    .    .    .    .    .    .    .    .    .    .    .    .    .    .    .    .    .    .    .    .    .    .    .    .    .    .    .    .    .    .    .    .    .    .    .    .    .    .    .    .    .    .    .    .    .    .    .    .    .    .    .    .    .    .    .    .    .    .    .    .    .    .    .    .    .    .    .    .    .    .    .    .    .    .    .    .    .    .    .    .    .    .    .    .    .    .    .    .    .    .    .    .    .    .    .    .    .    .    .    .    .    .    .    .    .    .    .    .    .    .    .    .    .    .    .   <6>   .    .    .    .    .    .    .    .    .    .    .    .    .    .    .    .    .    .    .    .    .    .    .    .    .    .    .    .    .    .    .    .    .    .    .    .    .    .    .    .    .    .    .    .    .    .    .    . |\n",
            "  PPSS+HVD |    .    .    .    .    .    .    .    .    .    .    .    .    .    .    .    .    .    .    .    .    .    .    .    .    .    .    .    .    .    .    .    .    .    .    .    .    .    .    .    .    .    .    .    .    .    .    .    .    .    .    .    .    .    .    .    .    .    .    .    .    .    .    .    .    .    .    .    .    .    .    .    .    .    .    .    .    .    .    .    .    .    .    .    .    .    .    .    .    .    .    .    .    .    .    .    .    .    .    .    .    .    .    .    .    .    .    .    .    .    .    .    .    .    .    .    .    .    .    .    .    .    .    .    .    .    .    .    .    .    .    .    .    .    .    .    .    .    .    .    .    .    .    .    .    .    .    .    .    .    .    .    .    .    .    .    .    .    .    .   <.>   1    .    .    .    .    .    .    .    .    .    .    .    .    .    .    .    .    .    .    .    .    .    .    .    .    .    .    .    .    .    .    .    .    .    .    .    .    .    .    .    .    .    .    .    .    .    . |\n",
            "   PPSS+MD |    .    .    .    .    .    .    .    .    .    .    .    .    .    .    .    .    .    .    .    .    .    .    .    .    .    .    .    .    .    .    .    .    .    .    .    .    .    .    .    .    .    .    .    .    .    .    .    .    .    .    .    .    .    .    .    .    .    .    .    .    .    .    .    .    .    .    .    .    .    .    .    .    .    .    .    .    .    .    .    .    .    .    .    .    .    .    .    .    .    .    .    .    .    .    .    .    .    .    .    .    .    .    .    .    .    .    .    1    .    .    .    .    .    .    .    .    .    .    .    .    .    .    .    .    .    .    .    .    .    .    .    .    .    .    .    .    .    .    .    .    .    .    .    .    .    .    .    .    .    .    .    .    .    .    .    .    .    .    .    .   <6>   .    .    .    .    .    .    .    .    .    .    .    .    .    .    .    .    .    .    .    .    .    .    .    .    .    .    .    .    .    .    .    .    .    .    .    .    .    .    .    .    .    .    .    .    .    . |\n",
            "   PPSS-HL |    .    .    .    .    .    .    .    .    .    .    .    .    .    .    .    .    .    .    .    .    .    .    .    .    .    .    .    .    .    .    .    .    .    .    .    .    .    .    .    .    .    .    .    .    .    .    .    .    .    .    .    .    .    .    .    .    .    .    .    .    .    .    .    .    .    .    .    .    .    .    .    .    .    .    .    .    .    .    .    .    .    .    .    .    .    .    .    .    .    .    .    .    .    .    .    .    .    .    .    .    .    .    .    .    .    .    .    .    .    .    .    .    .    .    .    .    .    .    .    .    .    .    .    .    .    .    .    .    .    .    .    .    .    .    .    .    .    .    .    .    .    .    .    .    .    .    .    .    .    .    .    .    .    .    .    1    .    .    .    .    .   <.>   .    .    .    .    .    .    .    .    .    .    .    .    .    .    .    .    .    .    .    .    .    .    .    .    .    .    .    .    .    .    .    .    .    .    .    .    .    .    .    .    .    .    .    .    . |\n",
            "   PPSS-TL |    .    .    .    .    .    .    .    .    .    .    .    .    .    .    .    .    .    .    .    .    .    .    .    .    .    .    .    .    .    .    .    .    .    .    .    .    .    .    .    .    .    .    .    .    .    .    .    .    .    .    .    .    .    .    .    .    .    .    .    .    .    .    .    .    .    .    .    .    .    .    .    .    .    .    .    .    .    .    .    .    .    .    .    .    .    .    .    .    .    .    .    .    .    .    .    .    .    .    .    .    .    .    .    .    .    .    .    .    .    .    .    .    .    .    .    .    .    .    .    .    .    .    .    .    .    .    .    .    .    .    .    .    .    .    .    .    .    .    .    .    .    .    .    .    .    .    .    .    .    .    .    .    .    .    .    2    .    .    .    .    .    .   <.>   .    .    .    .    .    .    .    .    .    .    .    .    .    .    .    .    .    .    .    .    .    .    .    .    .    .    .    .    .    .    .    .    .    .    .    .    .    .    .    .    .    .    .    . |\n",
            "        QL |    .    .    .    .    .    .    .    .    .    .    .    .    .    .    .    2   13    .    .   64    .    .    .    6    .    .    .    .    .    .    .    .    .    .    .    .    .    .    .    .    .    .    .    .    .    .    .    .   62    .    .    .    .    .    .    .    .    .    .    1    .    .    .    .    .    .    .    .    .    .    .    .    .    .    .    .    .    .    .    .    .    .    .    .    .    .    .    .    7    .    .    .   11    .    .    .    .    .    .    .    .    2    .    .    .    .    .   30    .    .    .    .    .    .    .    .    .    .    .    .    .    .    .    .    .    .    .    .    .    .    .    .    .    .    .    .    .    .    .    .    .    .    .    .    .    .    .    .    .    .    .    .    .    .    .    .    .    .    .    .    .    .    . <249>   .    .   74    .    .    .    .    9    1    .    .    .    .    .    .    .    .    .    .    .    .    .    .    .    .    .    .    .    .    .    .    .    .    .    .    .    .    .    .    .    9    .    . |\n",
            "     QL-HL |    .    .    .    .    .    .    .    .    .    .    .    .    .    .    .    .    .    .    .    .    .    .    .    .    .    .    .    .    .    .    .    .    .    .    .    .    .    .    .    .    .    .    .    .    .    .    .    .    .    .    .    .    .    .    .    .    .    .    .    .    .    .    .    .    .    .    .    .    .    .    .    .    .    .    .    .    .    .    .    .    .    .    .    .    .    .    .    .    .    .    .    .    .    .    .    .    .    .    .    .    .    .    .    .    .    .    .    .    .    .    .    .    .    .    .    .    .    .    .    .    .    .    .    .    .    .    .    .    .    .    .    .    .    .    .    .    .    .    .    .    .    .    .    .    .    .    .    .    .    .    .    .    .    .    .    .    .    .    .    .    .    .    .    .   <.>   .    1    .    .    .    .    .    .    .    .    .    .    .    .    .    .    .    .    .    .    .    .    .    .    .    .    .    .    .    .    .    .    .    .    .    .    .    .    .    .    .    . |\n",
            "       QLP |    .    .    .    .    .    .    .    .    .    .    .    .    .    .    .    .    .    .    .    5    .    .    .    .    .    .    .    .    .    .    .    .    .    .    .    .    .    .    .    .    .    .    .    .    .    .    .    .    .    .    .    .    .    .    .    .    .    .    .    .    .    .    .    .    .    .    .    .    .    .    .    .    .    .    .    .    .    .    .    .    .    .    .    .    .    .    .    .    .    .    .    .    .    .    .    .    .    .    .    .    .    .    .    .    .    .    .    .    .    .    .    .    .    .    .    .    .    .    .    .    .    .    .    .    .    .    .    .    .    .    .    .    .    .    .    .    .    .    .    .    .    .    .    .    .    .    .    .    .    .    .    .    .    .    .    .    .    .    .    .    .    .    .    .    .   <9>   1    .    .    .    .    .    .    .    .    .    .    .    .    .    .    .    .    .    .    .    .    .    .    .    .    .    .    .    .    .    .    .    .    .    .    .    .    .    .    .    . |\n",
            "        RB |    .    .    .    .    .    .    .    .    .    .    .    .    .    .    .    .    .    .    .   38    .    .    .    8    .    .    .    .    .    .    .    .    .    .    .    .    .    .    .    .    .    .    6    .    .    .    .    .   20    .    .    .    .    .    .    .    .    .    .    .    .    .    .    .   15    .    .    .    .    .    .    .    .    .    .    .    .    .    .    .    .    .    .    .    .    .    .    .   32    .    .    .   33    .    .    .    .    .    .    .    .    .    .    .    .    .    .  261    .    .    .    .    .    .    .    .    .    .    .    .    .    .    .    .    .    .    .    .    .    .    .    .    .    .    .    .    7    .    .    .    .    .    .    .    .    .    .    .    .    .    .    .    .    .    .    .    .    .    .    .    .    .    .   63    .    .<1318>   .    6    .    .    .    .    .    .    .    .    .    .    .    .    .    .    .    .    .    .    .    .    .    .    .    .    .    .    .    .    .    .    .    .    .    .    .    2    .    . |\n",
            "       RB$ |    .    .    .    .    .    .    .    .    .    .    .    .    .    .    .    .    .    .    .    .    .    .    .    .    .    .    .    .    .    .    .    .    .    .    .    .    .    .    .    .    .    .    .    .    .    .    .    .    .    .    .    .    .    .    .    .    .    .    .    .    .    .    .    .    .    .    .    .    .    .    .    .    .    .    .    .    .    .    .    .    .    .    .    .    .    .    .    .    .    .    .    .    .    .    .    .    .    .    .    .    .    .    .    .    .    .    .    .    .    .    .    .    .    .    .    .    .    .    .    .    .    .    .    .    .    .    .    .    .    .    .    .    .    .    .    .    .    .    .    .    .    .    .    .    .    .    .    .    .    .    .    .    .    .    .    .    .    .    .    .    .    .    .    .    .    .    .   <3>   .    .    .    .    .    .    .    .    .    .    .    .    .    .    .    .    .    .    .    .    .    .    .    .    .    .    .    .    .    .    .    .    .    .    .    .    .    .    . |\n",
            "     RB-HL |    .    .    .    .    .    .    .    .    .    .    .    .    .    .    .    .    .    .    .    .    .    .    .    .    .    .    .    .    .    .    .    .    .    .    .    .    .    .    .    .    .    .    .    .    .    .    .    .    .    .    .    .    .    .    .    .    .    .    .    .    .    .    .    .    .    .    .    .    .    .    .    .    .    .    .    .    .    .    .    .    .    .    .    .    .    .    .    .    .    .    .    .    .    .    .    .    .    .    .    .    .    .    .    .    .    .    .    .    .    .    .    .    .    .    .    .    .    .    .    .    .    .    .    .    .    .    .    .    .    .    .    .    .    .    .    .    .    .    .    .    .    .    .    .    .    .    .    .    .    .    .    .    .    .    .    .    .    .    .    .    .    .    .    .    .    .    5    .   <1>   .    1    .    .    .    .    .    .    .    .    .    .    .    .    .    .    .    .    .    .    .    .    .    .    .    .    .    .    .    .    .    .    .    .    .    .    .    . |\n",
            "     RB-NC |    .    .    .    .    .    .    .    .    .    .    .    .    .    .    .    .    .    .    .    .    .    .    .    .    .    .    .    .    .    .    .    .    .    .    .    .    .    .    .    .    .    .    .    .    .    .    .    .    .    .    .    .    .    .    .    .    .    .    .    .    .    .    .    .    .    .    .    .    .    .    .    .    .    .    .    .    .    .    .    .    .    .    .    .    .    .    .    .    .    .    .    .    .    .    .    .    .    .    .    .    .    .    .    .    .    .    .    .    .    .    .    .    .    .    .    .    .    .    .    .    .    .    .    .    .    .    .    .    .    .    .    .    .    .    .    .    .    .    .    .    .    .    .    .    .    .    .    .    .    .    .    .    .    .    .    .    .    .    .    .    .    .    .    .    .    .    1    .    .   <.>   .    .    .    .    .    .    .    .    .    .    .    .    .    .    .    .    .    .    .    .    .    .    .    .    .    .    .    .    .    .    .    .    .    .    .    .    . |\n",
            "     RB-TL |    .    .    .    .    .    .    .    .    .    .    .    .    .    .    .    .    .    .    .    .    .    .    .    .    .    .    .    .    .    .    .    .    .    .    .    .    .    .    .    .    .    .    .    .    .    .    .    .    .    .    .    .    .    .    .    .    .    .    .    .    .    .    .    .    .    .    .    .    .    .    .    .    .    .    .    .    .    .    .    .    .    .    .    .    .    .    .    .    .    .    .    .    .    .    .    .    .    .    .    .    .    .    .    .    .    .    .    .    .    .    .    .    .    .    .    .    .    .    .    .    .    .    .    .    .    .    .    .    .    .    .    .    .    .    .    .    .    .    .    .    .    .    .    .    .    .    .    .    .    .    .    .    .    .    .    .    .    .    .    .    .    .    .    .    .    .    1    .    .    .   <1>   .    .    .    .    .    .    .    .    .    .    .    .    .    .    .    .    .    .    .    .    .    .    .    .    .    .    .    .    .    .    .    .    .    .    .    . |\n",
            "       RBR |    .    .    .    .    .    .    .    .    .    .    .    .    .    .    .    .    .    .    .    3    .    .    .    .    .    .    .    .    .    .    .    .    .    .    .    .    .    .    .    .    .    .    .    .    .    .    .    .    .    .    .    .    .    .    .    .    .    .    .    .    .    .    .    .    .    .    .    .    .    .    .    .    .    .    .    .    .    .    .    .    .    .    .    .    .    .    .    .    .    .    .    .    .    .    .    .   11    .    .    .    .    .    .    .    .    .    .    4    .    .    .    .    .    .    .    .    .    .    .    .    .    .    .    .    .    .    .    .    .    .    .    .    .    .    .    .    .    .    .    .    .    .    .    .    .    .    .    .    .    .    .    .    .    .    .    .    .    .    .    .    .    .    .    1    .    .    .    .    .    .    .  <25>   .    .    .    .    .    .    .    .    .    .    .    .    .    .    .    .    .    .    .    .    .    .    .    .    .    .    .    .    .    .    .    .    .    .    . |\n",
            "       RBT |    .    .    .    .    .    .    .    .    .    .    .    .    .    .    .    .    .    .    .    2    .    .    .    .    .    .    .    .    .    .    .    .    .    .    .    .    .    .    .    .    .    .    .    .    .    .    .    .    .    .    .    .    .    .    .    .    .    .    .    .    .    .    .    .    .    .    .    .    .    .    .    .    .    .    .    .    .    .    .    .    .    .    .    .    .    .    .    .    .    .    .    .    .    .    .    .    .    .    .    .    .    1    .    .    .    .    .    1    .    .    .    .    .    .    .    .    .    .    .    .    .    .    .    .    .    .    .    .    .    .    .    .    .    .    .    .    .    .    .    .    .    .    .    .    .    .    .    .    .    .    .    .    .    .    .    .    .    .    .    .    .    .    .    1    .    .    .    .    .    .    .    .   <.>   .    .    .    .    .    .    .    .    .    .    .    .    .    .    .    .    .    .    .    .    .    .    .    .    .    .    .    .    .    .    .    .    .    . |\n",
            "        RN |    .    .    .    .    .    .    .    .    .    .    .    .    .    .    .    .    .    .    .    .    .    .    .    .    .    .    .    .    .    .    .    .    .    .    .    .    .    .    .    .    .    .    .    .    .    .    .    .    .    .    .    .    .    .    .    .    .    .    .    .    .    .    .    .    .    .    .    .    .    .    .    .    .    .    .    .    .    .    .    .    .    .    .    .    .    .    .    .    .    .    .    .    .    .    .    .    .    .    .    .    .    .    .    .    .    .    .    1    .    .    .    .    .    .    .    .    .    .    .    .    .    .    .    .    .    .    .    .    .    .    .    .    .    .    .    .    .    .    .    .    .    .    .    .    .    .    .    .    .    .    .    .    .    .    .    .    .    .    .    .    .    .    .    .    .    .    2    .    .    .    .    .    .   <.>   .    .    .    .    .    .    .    .    .    .    .    .    .    .    .    .    .    .    .    .    .    .    .    .    .    .    .    .    .    .    .    .    . |\n",
            "        RP |    .    .    .    .    .    .    .    .    .    .    .    .    .    .    .    .    .    .    .    .    .    .    .    .    .    .    .    .    .    .    .    .    .    .    .    .    .    .    .    .    .    .    .    .    .    .    .    .    .    .    .    .    .    .    .    .    .    .    .    .    .    .    .    .    .    .    .    .    .    .    .    .    .    .    .    .    .    .    .    .    .    .    .    .    .    .    .    .   70    .    .    .    .    .    .    .    .    .    .    .    .    .    .    .    .    .    .    1    .    .    .    .    .    .    .    .    .    .    .    .    .    .    .    .    .    .    .    .    .    .    .    .    .    .    .    .    .    .    .    .    .    .    .    .    .    .    .    .    .    .    .    .    .    .    .    .    .    .    .    .    .    .    .    .    .    .    .    .    .    .    .    .    .    . <161>   .    .    .    .    .    .    .    .    .    .    .    .    .    .    .    .    .    .    .    .    .    .    .    .    .    .    .    .    .    .    .    . |\n",
            "     RP-HL |    .    .    .    .    .    .    .    .    .    .    .    .    .    .    .    .    .    .    .    .    .    .    .    .    .    .    .    .    .    .    .    .    .    .    .    .    .    .    .    .    .    .    .    .    .    .    .    .    .    .    .    .    .    .    .    .    .    .    .    .    .    .    .    .    .    .    .    .    .    .    .    .    .    .    .    .    .    .    .    .    .    .    .    .    .    .    .    .    1    .    .    .    .    .    .    .    .    .    .    .    .    .    .    .    .    .    .    .    .    .    .    .    .    .    .    .    .    .    .    .    .    .    .    .    .    .    .    .    .    .    .    .    .    .    .    .    .    .    .    .    .    .    .    .    .    .    .    .    .    .    .    .    .    .    .    .    .    .    .    .    .    .    .    .    .    .    .    .    .    .    .    .    .    .    1   <.>   .    .    .    .    .    .    .    .    .    .    .    .    .    .    .    .    .    .    .    .    .    .    .    .    .    .    .    .    .    .    . |\n",
            "        TO |    .    .    .    .    .    .    .    .    .    .    .    .    .    .    .    .    .    .    .    .    .    .    .    .    .    .    .    .    .    .    .    .    .    .    .    .    .    .    .    .    .    .    .    .    .    .    .    .    .    .    .    .    .    .    .    .    .    .    .    .    .    .    .    .    .    .    .    .    .    .    .    .    .    .    .    .    .    .    .    .    .    .    .    .    .    .    .    .   53    .    .    .    .    .    .    .    .    .    .    .    .    .    .    .    .    .    .    .    .    .    .    .    .    .    .    .    .    .    .    .    .    .    .    .    .    .    .    .    .    .    .    .    .    .    .    .    .    .    .    .    .    .    .    .    .    .    .    .    .    .    .    .    .    .    .    .    .    .    .    .    .    .    .    .    .    .    .    .    .    .    .    .    .    .    .    . <899>   .    .    .    .    .    .    .    .    .    .    .    .    .    .    .    .    .    .    .    .    .    .    .    .    .    .    .    .    .    . |\n",
            "     TO-HL |    .    .    .    .    .    .    .    .    .    .    .    .    .    .    .    .    .    .    .    .    .    .    .    .    .    .    .    .    .    .    .    .    .    .    .    .    .    .    .    .    .    .    .    .    .    .    .    .    .    .    .    .    .    .    .    .    .    .    .    .    .    .    .    .    .    .    .    .    .    .    .    .    .    .    .    .    .    .    .    .    .    .    .    .    .    .    .    .    .    .    .    .    .    .    .    .    .    .    .    .    .    .    .    .    .    .    .    .    .    .    .    .    .    .    .    .    .    .    .    .    .    .    .    .    .    .    .    .    .    .    .    .    .    .    .    .    .    .    .    .    .    .    .    .    .    .    .    .    .    .    .    .    .    .    .    .    .    .    .    .    .    .    .    .    .    .    .    .    .    .    .    .    .    .    .    .    2   <.>   .    .    .    .    .    .    .    .    .    .    .    .    .    .    .    .    .    .    .    .    .    .    .    .    .    .    .    .    . |\n",
            "        UH |    .    .    .    .    .    .    .    .    .    .    .    .    .    .    .    .    .    .    .    .    .    .    .    .    .    .    .    .    .    .    .    .    .    .    .    .    .    .    .    .    .    .    .    .    .    .    .    .    .    .    .    .    .    .    .    .    .    .    .    .    .    .    .    .    .    .    .    .    .    .    .    .    .    .    .    .    .    .    .    .    .    .    .    .    .    .    .    .    .    .    .    .    .    .    .    .    .    .    .    .    .    .    .    .    .    .    .    7    .    .    .    .    .    .    .    .    .    .    .    .    .    .    .    .    .    .    .    .    .    .    .    .    .    .    .    .    .    .    .    .    .    .    .    .    .    .    .    .    .    .    .    .    .    .    .    .    .    .    .    .    .    .    .    .    .    .    .    .    .    .    .    .    .    .    .    .    .    .   <.>   .    3    .    .    .    .    .    .    .    .    .    .    .    .    .    .    .    .    .    .    .    .    .    .    .    1    .    . |\n",
            "     UH-HL |    .    .    .    .    .    .    .    .    .    .    .    .    .    .    .    .    .    .    .    .    .    .    .    .    .    .    .    .    .    .    .    .    .    .    .    .    .    .    .    .    .    .    .    .    .    .    .    .    .    .    .    .    .    .    .    .    .    .    .    .    .    .    .    .    .    .    .    .    .    .    .    .    .    .    .    .    .    .    .    .    .    .    .    .    .    .    .    .    .    .    .    .    .    .    .    .    .    .    .    .    .    .    .    .    .    .    .    1    .    .    .    .    .    .    .    .    .    .    .    .    .    .    .    .    .    .    .    .    .    .    .    .    .    .    .    .    .    .    .    .    .    .    .    .    .    .    .    .    .    .    .    .    .    .    .    .    .    .    .    .    .    .    .    .    .    .    .    .    .    .    .    .    .    .    .    .    .    .    .   <.>   .    .    .    .    .    .    .    .    .    .    .    .    .    .    .    .    .    .    .    .    .    .    .    .    .    .    . |\n",
            "        VB |    .    .    .    .    .    .    .    .    .    .    .    .    .    .    .    .    .    .    .    4    .    .    .    .    .    .    .    .    .    .    .    .    .    .    .    .    .    .    .    .    .    .    .    .    .    .    .    .    6    .    .    .    .    .    .    .    .    .    .    .    .    .    .    .    .    .    .    .    .    .    .    .    .    .    .    .    .    .    .    .    .    .    .    .    .    .    .    .    .    .    .    .   22    .    .    .    .    .    .    .    .    .    .    2    .    .    .  583    .    .    .    1    .    .    .    .    .    .    .    .    .    .    .    .    .    .    .    .    .    .    .    .    .    .    .    .    .    .    .    .    .    .    .    .    .    .    .    .    .    .    .    .    .    .    .    .    .    .    .    .    .    .    .    .    .    .    2    .    .    .    .    .    .    .    .    .    .    .    .    .<1486>   .    .    1    5    .    .    .    .   17    .    .    .    .    .    .    .    .    .    .    .    .    .    .    .    .    . |\n",
            "    VB+PPO |    .    .    .    .    .    .    .    .    .    .    .    .    .    .    .    .    .    .    .    .    .    .    .    .    .    .    .    .    .    .    .    .    .    .    .    .    .    .    .    .    .    .    .    .    .    .    .    .    .    .    .    .    .    .    .    .    .    .    .    .    .    .    .    .    .    .    .    .    .    .    .    .    .    .    .    .    .    .    .    .    .    .    .    .    .    .    .    .    .    .    .    .    .    .    .    .    .    .    .    .    .    .    .    .    .    .    .    1    .    .    .    .    .    .    .    .    .    .    .    .    .    .    .    .    .    .    .    .    .    .    .    .    .    .    .    .    .    .    .    .    .    .    .    .    .    .    .    .    .    .    .    .    .    .    .    .    .    .    .    .    .    .    .    .    .    .    .    .    .    .    .    .    .    .    .    .    .    .    .    .    .   <.>   .    .    .    .    .    .    .    .    .    .    .    .    .    .    .    .    .    .    .    .    .    .    .    .    . |\n",
            "     VB-HL |    .    .    .    .    .    .    .    .    .    .    .    .    .    .    .    .    .    .    .    .    .    .    .    .    .    .    .    .    .    .    .    .    .    .    .    .    .    .    .    .    .    .    .    .    .    .    .    .    .    .    .    .    .    .    .    .    .    .    .    .    .    .    .    .    .    .    .    .    .    .    .    .    .    .    .    .    .    .    .    .    .    .    .    .    .    .    .    .    .    .    .    .    1    .    .    .    .    .    .    .    .    .    .    .    .    .    .    4    .    .    .    .    .    .    .    .    .    .    .    .    .    .    .    .    .    .    .    .    .    .    .    .    .    .    .    .    .    .    .    .    .    .    .    .    .    .    .    .    .    .    .    .    .    .    .    .    .    .    .    .    .    .    .    .    .    .    .    .    .    .    .    .    .    .    .    .    .    .    .    .   10    .   <.>   .    .    .    .    .    .    .    .    .    .    .    .    .    .    .    .    .    .    .    .    .    .    .    . |\n",
            "     VB-TL |    .    .    .    .    .    .    .    .    .    .    .    .    .    .    .    .    .    .    .    .    .    .    .    .    .    .    .    .    .    .    .    .    .    .    .    .    .    .    .    .    .    .    .    .    .    .    .    .    .    .    .    .    .    .    .    .    .    .    .    .    .    .    .    .    .    .    .    .    .    .    .    .    .    .    .    .    .    .    .    .    .    .    .    .    .    .    .    .    .    .    .    .    .    .    .    .    .    .    .    .    .    .    .    .    .    .    .   10    .    .    .    .    .    .    .    .    .    .    .    .    .    .    .    .    .    .    .    .    .    .    .    .    .    .    .    .    .    .    .    .    .    .    .    .    .    .    .    .    .    .    .    .    .    .    .    .    .    .    .    .    .    .    .    .    .    .    .    .    .    .    .    .    .    .    .    .    .    .    .    .    2    .    .   <2>   .    .    .    .    .    .    .    .    .    .    .    .    .    .    .    .    .    .    .    .    .    .    . |\n",
            "       VBD |    .    .    .    .    .    .    .    .    .    .    .    .    .    .    .    .    .    .    .    .    .    .    .    .    .    .    .    .    .    .    .    .    .    .    .    .    .    .    .    .    .    .    .    .    .    .    .    .    .    .    .    .    .    .    .    .    .    .    .    .    .    .    .    .    .    .    .    .    .    .    .    .    .    .    .    .    .    .    .    .    .    .    .    .    .    .    .    .    .    .    .    .    3    .    .    .    .    .    .    .    .    .    .    .    .    .    .   76    .    .    .    .    .    .    .    .    .    .    .    .    .    .    .    .    .    .    .    .    .    .    .    .    .    .    .    .    .    .    .    .    .    .    .    .    .    .    .    .    .    .    .    .    .    .    .    .    .    .    .    .    .    .    .    .    .    .    .    .    .    .    .    .    .    .    .    .    .    .    .    .    2    .    .    . <476>   .    .    .    .  143    .    .    .    .    .    .    .    .    .    .    .    .    .    .    .    .    . |\n",
            "    VBD-HL |    .    .    .    .    .    .    .    .    .    .    .    .    .    .    .    .    .    .    .    .    .    .    .    .    .    .    .    .    .    .    .    .    .    .    .    .    .    .    .    .    .    .    .    .    .    .    .    .    .    .    .    .    .    .    .    .    .    .    .    .    .    .    .    .    .    .    .    .    .    .    .    .    .    .    .    .    .    .    .    .    .    .    .    .    .    .    .    .    .    .    .    .    .    .    .    .    .    .    .    .    .    .    .    .    .    .    .    .    .    .    .    .    .    .    .    .    .    .    .    .    .    .    .    .    .    .    .    .    .    .    .    .    .    .    .    .    .    .    .    .    .    .    .    .    .    .    .    .    .    .    .    .    .    .    .    .    .    .    .    .    .    .    .    .    .    .    .    .    .    .    .    .    .    .    .    .    .    .    .    .    .    .    .    .    1   <.>   .    .    .    .    .    .    .    .    .    .    .    .    .    .    .    .    .    .    .    .    . |\n",
            "       VBG |    .    .    .    .    .    .    .    .    .    .    .    .    .    .    .    .    .    .    .    .    .    .    .    .    .    .    .    .    .    .    .    .    .    .    .    .    .    .    .    .    .    .    .    .    .    .    .    .    .    .    .    .    .    .    .    .    .    .    .    .    .    .    .    .    .    .    .    .    .    .    .    .    .    .    .    .    .    .    .    .    .    .    .    .    .    .    .    .    2    .    .    .    5    .    .    .    .    .    .    .    .    .    .    .    .    .    .  321    .    .    .    .    .    .    .    .    .    .    .    .    1    .    .    .    .    .    .    .    .    .    .    .    .    .    .    .    .    .    .    .    .    .    .    .    .    .    .    .    .    .    .    .    .    .    .    .    .    .    .    .    .    .    .    .    .    .    .    .    .    .    .    .    .    .    .    .    .    .    .    .    .    .    .    .    .    . <552>   .    .    .    .    .    .    .    .    .    .    .    .    .    .    .    .    .    .    .    . |\n",
            "    VBG-HL |    .    .    .    .    .    .    .    .    .    .    .    .    .    .    .    .    .    .    .    .    .    .    .    .    .    .    .    .    .    .    .    .    .    .    .    .    .    .    .    .    .    .    .    .    .    .    .    .    .    .    .    .    .    .    .    .    .    .    .    .    .    .    .    .    .    .    .    .    .    .    .    .    .    .    .    .    .    .    .    .    .    .    .    .    .    .    .    .    .    .    .    .    .    .    .    .    .    .    .    .    .    .    .    .    .    .    .   11    .    .    .    .    .    .    .    .    .    .    .    .    .    .    .    .    .    .    .    .    .    .    .    .    .    .    .    .    .    .    .    .    .    .    .    .    .    .    .    .    .    .    .    .    .    .    .    .    .    .    .    .    .    .    .    .    .    .    .    .    .    .    .    .    .    .    .    .    .    .    .    .    .    .    .    .    .    .    2   <.>   1    .    .    .    .    .    .    .    .    .    .    .    .    .    .    .    .    .    . |\n",
            "    VBG-TL |    .    .    .    .    .    .    .    .    .    .    .    .    .    .    .    .    .    .    .    .    .    .    .    .    .    .    .    .    .    .    .    .    .    .    .    .    .    .    .    .    .    .    .    .    .    .    .    .    .    .    .    .    .    .    .    .    .    .    .    .    .    .    .    .    .    .    .    .    .    .    .    .    .    .    .    .    .    .    .    .    .    .    .    .    .    .    .    .    .    .    .    .    .    .    .    .    .    .    .    .    .    .    .    .    .    .    .    7    .    .    .    .    .    .    .    .    .    .    .    .    .    .    .    .    .    .    .    .    .    .    .    .    .    .    .    .    .    .    .    .    .    .    .    .    .    .    .    .    .    .    .    .    .    .    .    .    .    .    .    .    .    .    .    .    .    .    .    .    .    .    .    .    .    .    .    .    .    .    .    .    .    .    .    .    .    .    1    1   <2>   .    .    .    .    .    .    .    .    .    .    .    .    .    .    .    .    .    . |\n",
            "       VBN |    .    .    .    .    .    .    .    .    .    .    .    .    .    .    .    .    .    .    .    .    .    .    .    .    .    .    .    .    .    .    .    .    .    .    .    .    .    .    .    .    .    .    .    .    .    .    .    .    .    .    .    .    .    .    .    .    .    .    .    .    .    .    .    .    .    .    .    .    .    .    .    .    .    .    .    .    .    .    .    .    .    .    .    .    .    .    .    .    .    .    .    .    1    .    .    .    .    .    .    .    .    .    .    .    .    .    .  329    .    .    .    .    .    .    .    .    .    .    .    .    .    .    .    .    .    .    .    .    .    .    .    .    .    .    .    .    .    .    .    .    .    .    .    .    .    .    .    .    .    .    .    .    .    .    .    .    .    .    .    .    .    .    .    .    .    .    .    .    .    .    .    .    .    .    .    .    .    .    .    .   10    .    .    .  296    .    .    .    . <849>   6    .    .    .    .    .    .    .    .    .    .    .    .    .    .    .    . |\n",
            "    VBN-HL |    .    .    .    .    .    .    .    .    .    .    .    .    .    .    .    .    .    .    .    .    .    .    .    .    .    .    .    .    .    .    .    .    .    .    .    .    .    .    .    .    .    .    .    .    .    .    .    .    .    .    .    .    .    .    .    .    .    .    .    .    .    .    .    .    .    .    .    .    .    .    .    .    .    .    .    .    .    .    .    .    .    .    .    .    .    .    .    .    .    .    .    .    .    .    .    .    .    .    .    .    .    .    .    .    .    .    .    4    .    .    .    .    .    .    .    .    .    .    .    .    .    .    .    .    .    .    .    .    .    .    .    .    .    .    .    .    .    .    .    .    .    .    .    .    .    .    .    .    .    .    .    .    .    .    .    .    .    .    .    .    .    .    .    .    .    .    .    .    .    .    .    .    .    .    .    .    .    .    .    .    .    .    .    .    2    .    .    .    .    7   <.>   .    .    .    .    .    .    .    .    .    .    .    .    .    .    .    . |\n",
            "    VBN-TL |    .    .    .    .    .    .    .    .    .    .    .    .    .    .    .    .    .    .    .    .    .    .    .    .    .    .    .    .    .    .    .    .    .    .    .    .    .    .    .    .    .    .    .    .    .    .    .    .    .    .    .    .    .    .    .    .    .    .    .    .    .    .    .    .    .    .    .    .    .    .    .    .    .    .    .    .    .    .    .    .    .    .    .    .    .    .    .    .    .    .    .    .    .    .    .    .    .    .    .    .    .    .    .    .    .    .    .    5    .    .    .    .    .    .    .    .    .    .    .    .    .    .    .    .    .    .    .    .    .    .    .    .    .    .    .    .    .    .    .    .    .    .    .    .    .    .    .    .    .    .    .    .    .    .    .    .    .    .    .    .    .    .    .    .    .    .    .    .    .    .    .    .    .    .    .    .    .    .    .    .    .    .    .    .    .    .    .    .    .    .    .  <78>   .    .    .    .    .    .    .    .    .    .    .    .    .    .    . |\n",
            " VBN-TL-HL |    .    .    .    .    .    .    .    .    .    .    .    .    .    .    .    .    .    .    .    .    .    .    .    .    .    .    .    .    .    .    .    .    .    .    .    .    .    .    .    .    .    .    .    .    .    .    .    .    .    .    .    .    .    .    .    .    .    .    .    .    .    .    .    .    .    .    .    .    .    .    .    .    .    .    .    .    .    .    .    .    .    .    .    .    .    .    .    .    .    .    .    .    .    .    .    .    .    .    .    .    .    .    .    .    .    .    .    .    .    .    .    .    .    .    .    .    .    .    .    .    .    .    .    .    .    .    .    .    .    .    .    .    .    .    .    .    .    .    .    .    .    .    .    .    .    .    .    .    .    .    .    .    .    .    .    .    .    .    .    .    .    .    .    .    .    .    .    .    .    .    .    .    .    .    .    .    .    .    .    .    .    .    .    .    .    .    .    .    .    .    .    1   <.>   .    .    .    .    .    .    .    .    .    .    .    .    .    . |\n",
            "       VBZ |    .    .    .    .    .    .    .    .    .    .    .    .    .    .    .    .    .    .    .    .    .    .    .    .    .    .    .    .    .    .    .    .    .    .    .    .    .    .    .    .    .    .    .    .    .    .    .    .    .    .    .    .    .    .    .    .    .    .    .    .    .    .    .    .    .    .    .    .    .    .    .    .    .    .    .    .    .    .    .    .    .    .    .    .    .    .    .    .    .    .    .    .    .    .    .    .    .    .    .    .    .    .    .    .    .    .    .  166    .    .    .    .    .    .   66    .    .    .    .    .    .    .    .    .    .    .    .    .    .    .    .    .    .    .    .    .    .    .    .    .    .    .    .    .    .    .    .    .    .    .    .    .    .    .    .    .    .    .    .    .    .    .    .    .    .    .    .    .    .    .    .    .    .    .    .    .    .    .    .    .    .    .    .    .    .    .    .    .    .    .    .    .    . <303>   9    .    .    .    .    .    .    .    .    .    .    .    . |\n",
            "    VBZ-HL |    .    .    .    .    .    .    .    .    .    .    .    .    .    .    .    .    .    .    .    .    .    .    .    .    .    .    .    .    .    .    .    .    .    .    .    .    .    .    .    .    .    .    .    .    .    .    .    .    .    .    .    .    .    .    .    .    .    .    .    .    .    .    .    .    .    .    .    .    .    .    .    .    .    .    .    .    .    .    .    .    .    .    .    .    .    .    .    .    .    .    .    .    .    .    .    .    .    .    .    .    .    .    .    .    .    .    .    6    .    .    .    .    .    .    2    .    .    .    1    .    .    .    .    .    .    .    .    .    .    .    .    .    .    .    .    .    .    .    .    .    .    .    .    .    .    .    .    .    .    .    .    .    .    .    .    .    .    .    .    .    .    .    .    .    .    .    .    .    .    .    .    .    .    .    .    .    .    .    .    .    .    .    .    .    .    .    .    .    .    .    .    .    .    6   <2>   .    .    .    .    .    .    .    .    .    .    .    . |\n",
            "    VBZ-TL |    .    .    .    .    .    .    .    .    .    .    .    .    .    .    .    .    .    .    .    .    .    .    .    .    .    .    .    .    .    .    .    .    .    .    .    .    .    .    .    .    .    .    .    .    .    .    .    .    .    .    .    .    .    .    .    .    .    .    .    .    .    .    .    .    .    .    .    .    .    .    .    .    .    .    .    .    .    .    .    .    .    .    .    .    .    .    .    .    .    .    .    .    .    .    .    .    .    .    .    .    .    .    .    .    .    .    .    3    .    .    .    .    .    .    .    .    .    .    .    .    .    .    .    .    .    .    .    .    .    .    .    .    .    .    .    .    .    .    .    .    .    .    .    .    .    .    .    .    .    .    .    .    .    .    .    .    .    .    .    .    .    .    .    .    .    .    .    .    .    .    .    .    .    .    .    .    .    .    .    .    .    .    .    .    .    .    .    .    .    .    .    .    .    .    .   <.>   .    .    .    .    .    .    .    .    .    .    . |\n",
            "       WDT |    .    .    .    .    .    .    .    .    .    .    .    .    .    .    .    .    .    .    .    .    .    .    .    .    .    .    .    .    .    .    .    .    .    .    .    .    .    .    .    .    .    .    .    .    .    .    .    .    .    .    .    .    .    .    .    .    .    .    .    .    .    .    .    .    .    .    .    .    .    .    .    .    .    .    .    .    .    .    .    .    .    .    .    .    .    .    .    .    .    .    .    .    .    .    .    .    .    .    .    .    .    .    .    .    .    .    .    .    .    .    .    .    .    .    .    .    .    .    .    .    .    .    .    .    .    .    .    .    .    .    .    .    .    .    .    .    .    .    .    .    .    .    .    .    .    .    .    .    .    .    .    .    .    .    .    .    .    .    .    .    .    .    .    .    .    .    .    .    .    .    .    .    .    .    .    .    .    .    .    .    .    .    .    .    .    .    .    .    .    .    .    .    .    .    .    . <307>   .    .    .    .    .    .    .    .    .    . |\n",
            "   WDT+BEZ |    .    .    .    .    .    .    .    .    .    .    .    .    .    .    .    .    .    .    .    .    .    .    .    .    .    .    .    .    .    .    .    .    .    .    .    .    .    .    .    .    .    .    .    .    .    .    .    .    .    .    .    .    .    .    .    .    .    .    .    .    .    .    .    .    .    .    .    .    .    .    .    .    .    .    .    .    .    .    .    .    .    .    .    .    .    .    .    .    .    .    .    .    .    .    .    .    .    .    .    .    .    .    .    .    .    .    .    2    .    .    .    .    .    .    .    .    .    .    .    .    .    .    .    .    .    .    .    .    .    .    .    .    .    .    .    .    .    .    .    .    .    .    .    .    .    .    .    .    .    .    .    .    .    .    .    .    .    .    .    .    .    .    .    .    .    .    .    .    .    .    .    .    .    .    .    .    .    .    .    .    .    .    .    .    .    .    .    .    .    .    .    .    .    .    .    .    .   <.>   .    .    .    .    .    .    .    .    . |\n",
            "WDT+BEZ-HL |    .    .    .    .    .    .    .    .    .    .    .    .    .    .    .    .    .    .    .    .    .    .    .    .    .    .    .    .    .    .    .    .    .    .    .    .    .    .    .    .    .    .    .    .    .    .    .    .    .    .    .    .    .    .    .    .    .    .    .    .    .    .    .    .    .    .    .    .    .    .    .    .    .    .    .    .    .    .    .    .    .    .    .    .    .    .    .    .    .    .    .    .    .    .    .    .    .    .    .    .    .    .    .    .    .    .    .    1    .    .    .    .    .    .    .    .    .    .    .    .    .    .    .    .    .    .    .    .    .    .    .    .    .    .    .    .    .    .    .    .    .    .    .    .    .    .    .    .    .    .    .    .    .    .    .    .    .    .    .    .    .    .    .    .    .    .    .    .    .    .    .    .    .    .    .    .    .    .    .    .    .    .    .    .    .    .    .    .    .    .    .    .    .    .    .    .    .    .   <.>   .    .    .    .    .    .    .    . |\n",
            "    WDT-HL |    .    .    .    .    .    .    .    .    .    .    .    .    .    .    .    .    .    .    .    .    .    .    .    .    .    .    .    .    .    .    .    .    .    .    .    .    .    .    .    .    .    .    .    .    .    .    .    .    .    .    .    .    .    .    .    .    .    .    .    .    .    .    .    .    .    .    .    .    .    .    .    .    .    .    .    .    .    .    .    .    .    .    .    .    .    .    .    .    .    .    .    .    .    .    .    .    .    .    .    .    .    .    .    .    .    .    .    .    .    .    .    .    .    .    .    .    .    .    .    .    .    .    .    .    .    .    .    .    .    .    .    .    .    .    .    .    .    .    .    .    .    .    .    .    .    .    .    .    .    .    .    .    .    .    .    .    .    .    .    .    .    .    .    .    .    .    .    .    .    .    .    .    .    .    .    .    .    .    .    .    .    .    .    .    .    .    .    .    .    .    .    .    .    .    .    .    3    .    .   <.>   .    .    .    .    .    .    . |\n",
            "       WP$ |    .    .    .    .    .    .    .    .    .    .    .    .    .    .    .    .    .    .    .    .    .    .    .    .    .    .    .    .    .    .    .    .    .    .    .    .    .    .    .    .    .    .    .    .    .    .    .    .    .    .    .    .    .    .    .    .    .    .    .    .    .    .    .    .    .    .    .    .    .    .    .    .    .    .    .    .    .    .    .    .    .    .    .    .    .    .    .    .    .    .    .    .    .    .    .    .    .    .    .    .    .    .    .    .    .    .    .    .    .    .    .    .    .    .    .    .    .    .    .    .    .    .    .    .    .    .    .    .    .    .    .    .    .    .    .    .    .    .    .    .    .    .    .    .    .    .    .    .    .    .    .    .    .    .    .    .    .    .    .    .    .    .    .    .    .    .    .    .    .    .    .    .    .    .    .    .    .    .    .    .    .    .    .    .    .    .    .    .    .    .    .    .    .    .    .    .    .    .    .    .  <11>   .    .    .    .    .    . |\n",
            "       WPO |    .    .    .    .    .    .    .    .    .    .    .    .    .    .    .    .    .    .    .    .    .    .    .    .    .    .    .    .    .    .    .    .    .    .    .    .    .    .    .    .    .    .    .    .    .    .    .    .    5    .    .    .    .    .    .    .    .    .    .    1    .    .    .    .    .    .    .    .    .    .    .    .    .    .    .    .    .    .    .    .    .    .    .    .    .    .    .    .    .    .    .    .    .    .    .    .    .    .    .    .    .    .    .    .    .    .    .    .    .    .    .    .    .    .    .    .    .    .    .    .    .    .    .    .    .    .    .    .    .    .    .    .    .    .    .    .    .    .    .    .    .    .    .    .    .    .    .    .    .    .    .    .    .    .    .    .    .    .    .    .    .    .    .    .    .    .    .    .    .    .    .    .    .    .    .    .    .    .    .    .    .    .    .    .    .    .    .    .    .    .    .    .    .    .    .    .    .    .    .    .    .   <8>   .    .    .    .    . |\n",
            "    WPO-TL |    .    .    .    .    .    .    .    .    .    .    .    .    .    .    .    .    .    .    .    .    .    .    .    .    .    .    .    .    .    .    .    .    .    .    .    .    .    .    .    .    .    .    .    .    .    .    .    .    .    .    .    .    .    .    .    .    .    .    .    .    .    .    .    .    .    .    .    .    .    .    .    .    .    .    .    .    .    .    .    .    .    .    .    .    .    .    .    .    .    .    .    .    .    .    .    .    .    .    .    .    .    .    .    .    .    .    .    1    .    .    .    .    .    .    .    .    .    .    .    .    .    .    .    .    .    .    .    .    .    .    .    .    .    .    .    .    .    .    .    .    .    .    .    .    .    .    .    .    .    .    .    .    .    .    .    .    .    .    .    .    .    .    .    .    .    .    .    .    .    .    .    .    .    .    .    .    .    .    .    .    .    .    .    .    .    .    .    .    .    .    .    .    .    .    .    .    .    .    .    .    .    .   <.>   .    .    .    . |\n",
            "       WPS |    .    .    .    .    .    .    .    .    .    .    .    .    .    .    .    .    .    .    .    .    .    .    .    .    .    .    .    .    .    .    .    .    .    .    .    .    .    .    .    .    .    .    .    .    .    .    .    .   52    .    .    .    .    .    .    .    .    .    .    1    .    .    .    .    .    .    .    .    .    .    .    .    .    .    .    .    .    .    .    .    .    .    .    .    .    .    .    .    .    .    .    .    .    .    .    .    .    .    .    .    .    .    .    .    .    .    .    5    .    .    .    .    .    .    .    .    .    .    .    .    .    .    .    .    .    .    .    .    .    .    .    .    .    .    .    .    .    .    .    .    .    .    .    .    .    .    .    .    .    .    .    .    .    .    .    .    .    .    .    .    .    .    .    .    .    .    .    .    .    .    .    .    .    .    .    .    .    .    .    .    .    .    .    .    .    .    .    .    .    .    .    .    .    .    .    .    .    .    .    .    .    .    . <210>   .    .    . |\n",
            "       WRB |    .    .    .    .    .    .    .    .    .    .    .    .    .    .    .    .    .    .    .    .    .    .    .    .    .    .    .    .    .    .    .    .    .    .    .    .    .    .    .    .    .    .    .    .    .    .    .    .    .    .    .    .    .    .    .    .    .    .    .    .    .    .    .    .    .    .    .    .    .    .    .    .    .    .    .    .    .    .    .    .    .    .    .    .    .    .    .    .    .    .    .    .    .    .    .    .    .    .    .    .    .    .    .    .    .    .    .    3    .    .    .    .    .    .    .    .    .    .    .    .    .    .    .    .    .    .    .    .    .    .    .    .    .    .    .    .    .    .    .    .    .    .    .    .    .    .    .    .    .    .    .    .    .    .    .    .    .    .    .    .    .    .    .    1    .    .    .    .    .    .    .    .    .    .    .    .    .    .    .    .    .    .    .    .    .    .    .    .    .    .    .    .    .    .    .    .    .    .    .    .    .    .    .    . <256>   .    . |\n",
            "    WRB-HL |    .    .    .    .    .    .    .    .    .    .    .    .    .    .    .    .    .    .    .    .    .    .    .    .    .    .    .    .    .    .    .    .    .    .    .    .    .    .    .    .    .    .    .    .    .    .    .    .    .    .    .    .    .    .    .    .    .    .    .    .    .    .    .    .    .    .    .    .    .    .    .    .    .    .    .    .    .    .    .    .    .    .    .    .    .    .    .    .    .    .    .    .    .    .    .    .    .    .    .    .    .    .    .    .    .    .    .    .    .    .    .    .    .    .    .    .    .    .    .    .    .    .    .    .    .    .    .    .    .    .    .    .    .    .    .    .    .    .    .    .    .    .    .    .    .    .    .    .    .    .    .    .    .    .    .    .    .    .    .    .    .    .    .    .    .    .    .    .    .    .    .    .    .    .    .    .    .    .    .    .    .    .    .    .    .    .    .    .    .    .    .    .    .    .    .    .    .    .    .    .    .    .    .    .    3   <.>   . |\n",
            "        `` |    .    .    .    .    .    .    .    .    .    .    .    .    .    .    .    .    .    .    .    .    .    .    .    .    .    .    .    .    .    .    .    .    .    .    .    .    .    .    .    .    .    .    .    .    .    .    .    .    .    .    .    .    .    .    .    .    .    .    .    .    .    .    .    .    .    .    .    .    .    .    .    .    .    .    .    .    .    .    .    .    .    .    .    .    .    .    .    .    .    .    .    .    .    .    .    .    .    .    .    .    .    .    .    .    .    .    .    .    .    .    .    .    .    .    .    .    .    .    .    .    .    .    .    .    .    .    .    .    .    .    .    .    .    .    .    .    .    .    .    .    .    .    .    .    .    .    .    .    .    .    .    .    .    .    .    .    .    .    .    .    .    .    .    .    .    .    .    .    .    .    .    .    .    .    .    .    .    .    .    .    .    .    .    .    .    .    .    .    .    .    .    .    .    .    .    .    .    .    .    .    .    .    .    .    .    . <396>|\n",
            "-----------+----------------------------------------------------------------------------------------------------------------------------------------------------------------------------------------------------------------------------------------------------------------------------------------------------------------------------------------------------------------------------------------------------------------------------------------------------------------------------------------------------------------------------------------------------------------------------------------------------------------------------------------------------------------------------------------------------------------------------------------------------------------------------------------------------------------------------------------------------------------------------------------------------------------------------------------------------------------------------------------------------------------------------------------------------------------------------+\n",
            "(row = reference; col = test)\n",
            "\n"
          ],
          "name": "stdout"
        }
      ]
    },
    {
      "cell_type": "code",
      "metadata": {
        "id": "3I3wiTxyzSD-",
        "colab_type": "code",
        "colab": {
          "base_uri": "https://localhost:8080/",
          "height": 1000
        },
        "outputId": "e199a30b-e244-475d-fd48-af365e6110a5"
      },
      "source": [
        "from nltk.tbl import demo as brill_demo\n",
        "brill_demo.demo()\n",
        "\n",
        "print(open(\"errors.out\").read())"
      ],
      "execution_count": 93,
      "outputs": [
        {
          "output_type": "stream",
          "text": [
            "Loading tagged data from treebank... \n",
            "Read testing data (200 sents/5251 wds)\n",
            "Read training data (800 sents/19933 wds)\n",
            "Read baseline data (800 sents/19933 wds) [reused the training set]\n",
            "Trained baseline tagger\n",
            "    Accuracy on test set: 0.8366\n",
            "Training tbl tagger...\n",
            "TBL train (fast) (seqs: 800; tokens: 19933; tpls: 24; min score: 3; min acc: None)\n",
            "Finding initial useful rules...\n",
            "    Found 12799 useful rules.\n",
            "\n",
            "           B      |\n",
            "   S   F   r   O  |        Score = Fixed - Broken\n",
            "   c   i   o   t  |  R     Fixed = num tags changed incorrect -> correct\n",
            "   o   x   k   h  |  u     Broken = num tags changed correct -> incorrect\n",
            "   r   e   e   e  |  l     Other = num tags changed incorrect -> incorrect\n",
            "   e   d   n   r  |  e\n",
            "------------------+-------------------------------------------------------\n",
            "  23  23   0   0  | POS->VBZ if Pos:PRP@[-2,-1]\n",
            "  18  19   1   0  | NN->VB if Pos:-NONE-@[-2] & Pos:TO@[-1]\n",
            "  14  14   0   0  | VBP->VB if Pos:MD@[-2,-1]\n",
            "  12  12   0   0  | VBP->VB if Pos:TO@[-1]\n",
            "  11  11   0   0  | VBD->VBN if Pos:VBD@[-1]\n",
            "  11  11   0   0  | IN->WDT if Pos:-NONE-@[1] & Pos:VBP@[2]\n",
            "  10  11   1   0  | VBN->VBD if Pos:PRP@[-1]\n",
            "   9  10   1   0  | VBD->VBN if Pos:VBZ@[-1]\n",
            "   8   8   0   0  | NN->VB if Pos:MD@[-1]\n",
            "   7   7   0   1  | VB->NN if Pos:DT@[-1]\n",
            "   7   7   0   0  | VB->VBP if Pos:PRP@[-1]\n",
            "   7   7   0   0  | IN->WDT if Pos:-NONE-@[1] & Pos:VBZ@[2]\n",
            "   7   8   1   0  | IN->RB if Word:as@[2]\n",
            "   6   6   0   0  | VBD->VBN if Pos:VBP@[-2,-1]\n",
            "   6   6   0   1  | IN->WDT if Pos:-NONE-@[1] & Pos:VBD@[2]\n",
            "   5   5   0   0  | POS->VBZ if Pos:-NONE-@[-1]\n",
            "   5   5   0   0  | VB->VBP if Pos:NNS@[-1]\n",
            "   5   5   0   0  | VBD->VBN if Word:be@[-2,-1]\n",
            "   4   4   0   0  | POS->VBZ if Pos:``@[-2]\n",
            "   4   4   0   0  | VBP->VB if Pos:VBD@[-2,-1]\n",
            "   4   6   2   3  | RP->RB if Pos:CD@[1,2]\n",
            "   4   4   0   0  | RB->JJ if Pos:DT@[-1] & Pos:NN@[1]\n",
            "   4   4   0   0  | NN->VBP if Pos:NNS@[-2] & Pos:RB@[-1]\n",
            "   4   5   1   0  | VBN->VBD if Pos:NNP@[-2] & Pos:NNP@[-1]\n",
            "   4   4   0   0  | IN->WDT if Pos:-NONE-@[1] & Pos:MD@[2]\n",
            "   4   8   4   0  | VBD->VBN if Word:*@[1]\n",
            "   4   4   0   0  | JJS->RBS if Word:most@[0] & Word:the@[-1] & Pos:DT@[-1]\n",
            "   3   3   0   0  | VBD->VBN if Pos:VBN@[-1]\n",
            "   3   4   1   0  | VBN->VB if Pos:TO@[-1]\n",
            "   3   4   1   1  | IN->RB if Pos:.@[1]\n",
            "   3   3   0   0  | JJ->RB if Pos:VBD@[1]\n",
            "   3   3   0   0  | PRP$->PRP if Pos:TO@[1]\n",
            "   3   3   0   0  | NN->VBP if Pos:NNS@[-1] & Pos:DT@[1]\n",
            "   3   3   0   0  | VBP->VB if Word:n't@[-2,-1]\n",
            "Trained tbl tagger in 2.61 seconds\n",
            "    Accuracy on test set: 0.8572\n",
            "Tagging the test data\n"
          ],
          "name": "stdout"
        },
        {
          "output_type": "error",
          "ename": "FileNotFoundError",
          "evalue": "ignored",
          "traceback": [
            "\u001b[0;31m---------------------------------------------------------------------------\u001b[0m",
            "\u001b[0;31mFileNotFoundError\u001b[0m                         Traceback (most recent call last)",
            "\u001b[0;32m<ipython-input-93-40f9165c2a52>\u001b[0m in \u001b[0;36m<module>\u001b[0;34m()\u001b[0m\n\u001b[1;32m      2\u001b[0m \u001b[0mbrill_demo\u001b[0m\u001b[0;34m.\u001b[0m\u001b[0mdemo\u001b[0m\u001b[0;34m(\u001b[0m\u001b[0;34m)\u001b[0m\u001b[0;34m\u001b[0m\u001b[0;34m\u001b[0m\u001b[0m\n\u001b[1;32m      3\u001b[0m \u001b[0;34m\u001b[0m\u001b[0m\n\u001b[0;32m----> 4\u001b[0;31m \u001b[0mprint\u001b[0m\u001b[0;34m(\u001b[0m\u001b[0mopen\u001b[0m\u001b[0;34m(\u001b[0m\u001b[0;34m\"errors.out\"\u001b[0m\u001b[0;34m)\u001b[0m\u001b[0;34m.\u001b[0m\u001b[0mread\u001b[0m\u001b[0;34m(\u001b[0m\u001b[0;34m)\u001b[0m\u001b[0;34m)\u001b[0m\u001b[0;34m\u001b[0m\u001b[0;34m\u001b[0m\u001b[0m\n\u001b[0m",
            "\u001b[0;31mFileNotFoundError\u001b[0m: [Errno 2] No such file or directory: 'errors.out'"
          ]
        }
      ]
    },
    {
      "cell_type": "code",
      "metadata": {
        "id": "-LFakHuKzfd_",
        "colab_type": "code",
        "colab": {}
      },
      "source": [
        ""
      ],
      "execution_count": null,
      "outputs": []
    }
  ]
}